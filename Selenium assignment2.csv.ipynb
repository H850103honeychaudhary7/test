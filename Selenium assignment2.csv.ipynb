{
 "cells": [
  {
   "cell_type": "code",
   "execution_count": 1,
   "metadata": {},
   "outputs": [
    {
     "name": "stdout",
     "output_type": "stream",
     "text": [
      "Requirement already satisfied: selenium in c:\\users\\dell\\anaconda3\\lib\\site-packages (3.141.0)\n",
      "Requirement already satisfied: urllib3 in c:\\users\\dell\\anaconda3\\lib\\site-packages (from selenium) (1.25.11)\n"
     ]
    }
   ],
   "source": [
    "! pip install selenium"
   ]
  },
  {
   "cell_type": "code",
   "execution_count": 2,
   "metadata": {},
   "outputs": [],
   "source": [
    "import selenium \n",
    "import pandas as pd\n",
    "from selenium import webdriver"
   ]
  },
  {
   "cell_type": "code",
   "execution_count": 16,
   "metadata": {},
   "outputs": [],
   "source": [
    "driver=webdriver.Chrome(r\"C:\\Users\\DELL\\Downloads\\chromedriver\")"
   ]
  },
  {
   "cell_type": "code",
   "execution_count": 17,
   "metadata": {},
   "outputs": [],
   "source": [
    "url='https://www.naukri.com/'\n",
    "driver.get(url)"
   ]
  },
  {
   "cell_type": "code",
   "execution_count": 18,
   "metadata": {},
   "outputs": [
    {
     "data": {
      "text/plain": [
       "<selenium.webdriver.remote.webelement.WebElement (session=\"5b1510567adfda186edf4df01634ff05\", element=\"1a958aa2-d2dd-453b-87e4-b7d396897183\")>"
      ]
     },
     "execution_count": 18,
     "metadata": {},
     "output_type": "execute_result"
    }
   ],
   "source": [
    "search_job=driver.find_element_by_id('qsb-keyword-sugg')\n",
    "search_job"
   ]
  },
  {
   "cell_type": "code",
   "execution_count": 19,
   "metadata": {},
   "outputs": [],
   "source": [
    "search_job.send_keys(\"Data Analyst\")\n"
   ]
  },
  {
   "cell_type": "code",
   "execution_count": 20,
   "metadata": {},
   "outputs": [],
   "source": [
    "search_location=driver.find_element_by_id(\"qsb-location-sugg\")\n",
    "search_location.send_keys(\"Bangalore\")"
   ]
  },
  {
   "cell_type": "code",
   "execution_count": 21,
   "metadata": {},
   "outputs": [],
   "source": [
    "search_btn=driver.find_element_by_xpath(\"//button[@class='btn']\")\n",
    "search_btn.click()"
   ]
  },
  {
   "cell_type": "code",
   "execution_count": 22,
   "metadata": {},
   "outputs": [
    {
     "data": {
      "text/plain": [
       "[<selenium.webdriver.remote.webelement.WebElement (session=\"5b1510567adfda186edf4df01634ff05\", element=\"7fe794a1-d6d5-4f70-99d6-68f4d8db82f7\")>,\n",
       " <selenium.webdriver.remote.webelement.WebElement (session=\"5b1510567adfda186edf4df01634ff05\", element=\"afabeee6-8fb0-4f4a-a893-8930df282f0b\")>,\n",
       " <selenium.webdriver.remote.webelement.WebElement (session=\"5b1510567adfda186edf4df01634ff05\", element=\"ecffaf95-41a0-47f7-98be-3a7881490aee\")>,\n",
       " <selenium.webdriver.remote.webelement.WebElement (session=\"5b1510567adfda186edf4df01634ff05\", element=\"77cfed91-0b0c-475a-b7d1-bfa9e89b2606\")>,\n",
       " <selenium.webdriver.remote.webelement.WebElement (session=\"5b1510567adfda186edf4df01634ff05\", element=\"b7b088a8-805e-459f-9795-315462be7e2c\")>,\n",
       " <selenium.webdriver.remote.webelement.WebElement (session=\"5b1510567adfda186edf4df01634ff05\", element=\"3556f932-a1e7-4f61-8a1d-715da3002547\")>,\n",
       " <selenium.webdriver.remote.webelement.WebElement (session=\"5b1510567adfda186edf4df01634ff05\", element=\"f04e5b35-2a5d-4cdd-ae60-af715c3e0dae\")>,\n",
       " <selenium.webdriver.remote.webelement.WebElement (session=\"5b1510567adfda186edf4df01634ff05\", element=\"cc976c23-fb68-4f6d-8d06-76323af4f0ae\")>,\n",
       " <selenium.webdriver.remote.webelement.WebElement (session=\"5b1510567adfda186edf4df01634ff05\", element=\"048209bf-f45e-439d-8f82-4b0f59b2f69c\")>,\n",
       " <selenium.webdriver.remote.webelement.WebElement (session=\"5b1510567adfda186edf4df01634ff05\", element=\"bb76cfd7-3931-4860-97c0-e2426bcc5bc7\")>,\n",
       " <selenium.webdriver.remote.webelement.WebElement (session=\"5b1510567adfda186edf4df01634ff05\", element=\"f9e24be1-a54e-4533-b7cd-271bffbfe98b\")>,\n",
       " <selenium.webdriver.remote.webelement.WebElement (session=\"5b1510567adfda186edf4df01634ff05\", element=\"731d2639-8d40-4ead-bb38-01b4016ff35f\")>,\n",
       " <selenium.webdriver.remote.webelement.WebElement (session=\"5b1510567adfda186edf4df01634ff05\", element=\"2e886936-26d6-4919-8228-42c62d55a403\")>,\n",
       " <selenium.webdriver.remote.webelement.WebElement (session=\"5b1510567adfda186edf4df01634ff05\", element=\"7748b91a-42db-4e40-93f6-8f21246e90a6\")>,\n",
       " <selenium.webdriver.remote.webelement.WebElement (session=\"5b1510567adfda186edf4df01634ff05\", element=\"29df162c-6bb1-4899-9497-b4560e1a4637\")>,\n",
       " <selenium.webdriver.remote.webelement.WebElement (session=\"5b1510567adfda186edf4df01634ff05\", element=\"bd907e3c-3ce7-4c5e-8140-8b84732c0512\")>,\n",
       " <selenium.webdriver.remote.webelement.WebElement (session=\"5b1510567adfda186edf4df01634ff05\", element=\"a20328e3-293d-4604-b397-749e2eeea11a\")>,\n",
       " <selenium.webdriver.remote.webelement.WebElement (session=\"5b1510567adfda186edf4df01634ff05\", element=\"121130ba-f7cc-400c-abf4-795f35791394\")>,\n",
       " <selenium.webdriver.remote.webelement.WebElement (session=\"5b1510567adfda186edf4df01634ff05\", element=\"7273b1a6-47da-42c0-a36d-87981beed561\")>,\n",
       " <selenium.webdriver.remote.webelement.WebElement (session=\"5b1510567adfda186edf4df01634ff05\", element=\"b44a2add-3882-4d4e-888f-04c70b7fbdc7\")>]"
      ]
     },
     "execution_count": 22,
     "metadata": {},
     "output_type": "execute_result"
    }
   ],
   "source": [
    "titles_tags=driver.find_elements_by_xpath(\"//a[@class='title fw500 ellipsis']\")\n",
    "titles_tags"
   ]
  },
  {
   "cell_type": "code",
   "execution_count": 23,
   "metadata": {},
   "outputs": [
    {
     "data": {
      "text/plain": [
       "['Data Scientist / Data Analyst -Business Analyst',\n",
       " 'Data Analyst - Informatica MDM',\n",
       " 'Assistant Vice President - MIS & Reporting ( Business Data Analyst)',\n",
       " 'Data Analyst',\n",
       " 'Hiring For Data Analyst/ MIS Reporting Analyst - Bangalore',\n",
       " 'Consultant-Data Analyst -Bangalore',\n",
       " 'Data analyst - Google Analytics',\n",
       " 'Senior/Regular Business Analyst / Data Analyst',\n",
       " 'SW Technologist I- Data Analyst',\n",
       " 'Data Analyst',\n",
       " 'Hiring For Data Analyst @ Flipkart on Contract',\n",
       " 'Data Analyst - Informatica MDM',\n",
       " 'Senior Data Analyst',\n",
       " 'Cybersecurity Data Analyst',\n",
       " 'Data Analyst / Business Analyst -',\n",
       " 'Business Data Analyst',\n",
       " 'Data Analyst',\n",
       " 'Data Analyst',\n",
       " 'Data Analyst',\n",
       " 'Data Analyst']"
      ]
     },
     "execution_count": 23,
     "metadata": {},
     "output_type": "execute_result"
    }
   ],
   "source": [
    "job_titles=[]\n",
    "for i in titles_tags:\n",
    "    job_titles.append(i.text)\n",
    "    \n",
    "job_titles"
   ]
  },
  {
   "cell_type": "code",
   "execution_count": 24,
   "metadata": {},
   "outputs": [
    {
     "data": {
      "text/plain": [
       "[<selenium.webdriver.remote.webelement.WebElement (session=\"5b1510567adfda186edf4df01634ff05\", element=\"61409a62-cbc7-4f57-a428-942de73a48b9\")>,\n",
       " <selenium.webdriver.remote.webelement.WebElement (session=\"5b1510567adfda186edf4df01634ff05\", element=\"4e0bbabe-8cfd-43da-8013-c99c003b1196\")>,\n",
       " <selenium.webdriver.remote.webelement.WebElement (session=\"5b1510567adfda186edf4df01634ff05\", element=\"d351a4a8-e717-4b92-a584-ed68d4257077\")>,\n",
       " <selenium.webdriver.remote.webelement.WebElement (session=\"5b1510567adfda186edf4df01634ff05\", element=\"e82a004e-4b3f-429c-93cb-2c317f03ae00\")>,\n",
       " <selenium.webdriver.remote.webelement.WebElement (session=\"5b1510567adfda186edf4df01634ff05\", element=\"95c83f51-a21a-4080-a90b-a8f2a4687e9c\")>,\n",
       " <selenium.webdriver.remote.webelement.WebElement (session=\"5b1510567adfda186edf4df01634ff05\", element=\"8e1145da-4cb5-4822-a293-628791e80283\")>,\n",
       " <selenium.webdriver.remote.webelement.WebElement (session=\"5b1510567adfda186edf4df01634ff05\", element=\"6c8ef897-c268-461e-b7e8-8c51cd4701f5\")>,\n",
       " <selenium.webdriver.remote.webelement.WebElement (session=\"5b1510567adfda186edf4df01634ff05\", element=\"db22b7b7-5465-4cbd-88df-7cb361e54793\")>,\n",
       " <selenium.webdriver.remote.webelement.WebElement (session=\"5b1510567adfda186edf4df01634ff05\", element=\"51c4c31d-ab59-4e4f-98ab-fba5c25a06d7\")>,\n",
       " <selenium.webdriver.remote.webelement.WebElement (session=\"5b1510567adfda186edf4df01634ff05\", element=\"c6a5b1b1-f903-4eab-a73b-720fa7309a5c\")>,\n",
       " <selenium.webdriver.remote.webelement.WebElement (session=\"5b1510567adfda186edf4df01634ff05\", element=\"2f03b478-74ed-4b91-9887-6c2cbddfac42\")>,\n",
       " <selenium.webdriver.remote.webelement.WebElement (session=\"5b1510567adfda186edf4df01634ff05\", element=\"1b2a0510-f791-48bc-a444-2ab668e9641b\")>,\n",
       " <selenium.webdriver.remote.webelement.WebElement (session=\"5b1510567adfda186edf4df01634ff05\", element=\"6cf679c1-5441-4064-9e09-3a49611b225c\")>,\n",
       " <selenium.webdriver.remote.webelement.WebElement (session=\"5b1510567adfda186edf4df01634ff05\", element=\"a3471905-630d-42b6-8065-e21362ad8243\")>,\n",
       " <selenium.webdriver.remote.webelement.WebElement (session=\"5b1510567adfda186edf4df01634ff05\", element=\"a3371780-823b-4aa5-a80c-ecdf08f1a1a8\")>,\n",
       " <selenium.webdriver.remote.webelement.WebElement (session=\"5b1510567adfda186edf4df01634ff05\", element=\"8c4e2cb4-6824-4e87-8236-8d507def025f\")>,\n",
       " <selenium.webdriver.remote.webelement.WebElement (session=\"5b1510567adfda186edf4df01634ff05\", element=\"7980132c-5af9-42f4-ae6c-8f62ce3046c2\")>,\n",
       " <selenium.webdriver.remote.webelement.WebElement (session=\"5b1510567adfda186edf4df01634ff05\", element=\"12b3b296-fbe4-4f54-b694-780b7f87ad5f\")>,\n",
       " <selenium.webdriver.remote.webelement.WebElement (session=\"5b1510567adfda186edf4df01634ff05\", element=\"c182872d-28b0-420d-8bee-65ce1be3b184\")>,\n",
       " <selenium.webdriver.remote.webelement.WebElement (session=\"5b1510567adfda186edf4df01634ff05\", element=\"fd91f5ad-2082-4b15-aea0-4e7b9c934707\")>]"
      ]
     },
     "execution_count": 24,
     "metadata": {},
     "output_type": "execute_result"
    }
   ],
   "source": [
    "companies_tags=driver.find_elements_by_xpath(\"//a[@class='subTitle ellipsis fleft']\")\n",
    "companies_tags"
   ]
  },
  {
   "cell_type": "code",
   "execution_count": 25,
   "metadata": {},
   "outputs": [
    {
     "data": {
      "text/plain": [
       "['Inflexion Analytix Private Limited',\n",
       " 'Shell India Markets Private Limited',\n",
       " 'INTERTRUSTVITEOS CORPORATE AND FUND SERVICES PVT. LTD.',\n",
       " 'SA Tech Software (I) Pvt. Ltd.',\n",
       " 'PHARMACEUTICAL RESEARCH ASSOCIATES INDIA Pvt Ltd',\n",
       " 'Innovsource Services Private Limited',\n",
       " 'H and M Hennes and Mauritz (P) Ltd.',\n",
       " 'Luxoft',\n",
       " 'Philips India Limited',\n",
       " 'Flipkart Internet Private Limited',\n",
       " 'Flipkart Internet Private Limited',\n",
       " 'Shell India Markets Private Limited',\n",
       " 'Flipkart Internet Private Limited',\n",
       " 'Huawei Technologies India Pvt Ltd',\n",
       " 'LatentView Analytics Private Limited',\n",
       " 'ALSTOM India Limited',\n",
       " 'Udaan',\n",
       " 'Luxoft',\n",
       " 'Yodlee Infotech Private Limited',\n",
       " 'Novel Office']"
      ]
     },
     "execution_count": 25,
     "metadata": {},
     "output_type": "execute_result"
    }
   ],
   "source": [
    "companies_names=[]\n",
    "for i in companies_tags:\n",
    "    companies_names.append(i.text)\n",
    "companies_names"
   ]
  },
  {
   "cell_type": "code",
   "execution_count": 26,
   "metadata": {},
   "outputs": [
    {
     "data": {
      "text/plain": [
       "[<selenium.webdriver.remote.webelement.WebElement (session=\"5b1510567adfda186edf4df01634ff05\", element=\"e51641bb-cdde-48d3-aacf-0eabbc9cd570\")>,\n",
       " <selenium.webdriver.remote.webelement.WebElement (session=\"5b1510567adfda186edf4df01634ff05\", element=\"83cb1169-82b7-406f-b241-25367874ab1e\")>,\n",
       " <selenium.webdriver.remote.webelement.WebElement (session=\"5b1510567adfda186edf4df01634ff05\", element=\"c4c75d8b-af54-472b-8f95-e98d50504b5f\")>,\n",
       " <selenium.webdriver.remote.webelement.WebElement (session=\"5b1510567adfda186edf4df01634ff05\", element=\"cc6dfbd9-a237-4f6e-a2ce-89ac4d7843ef\")>,\n",
       " <selenium.webdriver.remote.webelement.WebElement (session=\"5b1510567adfda186edf4df01634ff05\", element=\"2f9cf368-6064-4e7f-8a2f-9cef6310f4c5\")>,\n",
       " <selenium.webdriver.remote.webelement.WebElement (session=\"5b1510567adfda186edf4df01634ff05\", element=\"f01d18d4-adbe-4765-9f8a-a85620c93cba\")>,\n",
       " <selenium.webdriver.remote.webelement.WebElement (session=\"5b1510567adfda186edf4df01634ff05\", element=\"ef93971f-5267-4cef-98d6-c552f4840929\")>,\n",
       " <selenium.webdriver.remote.webelement.WebElement (session=\"5b1510567adfda186edf4df01634ff05\", element=\"33768efd-6e78-44aa-848d-614bebace58a\")>,\n",
       " <selenium.webdriver.remote.webelement.WebElement (session=\"5b1510567adfda186edf4df01634ff05\", element=\"d08dee99-5b67-446e-bd58-bb093e492889\")>,\n",
       " <selenium.webdriver.remote.webelement.WebElement (session=\"5b1510567adfda186edf4df01634ff05\", element=\"2cce017e-cb07-4ba4-abed-b613e90c9876\")>,\n",
       " <selenium.webdriver.remote.webelement.WebElement (session=\"5b1510567adfda186edf4df01634ff05\", element=\"33a8c279-e819-491e-af13-89d36cee1a9a\")>,\n",
       " <selenium.webdriver.remote.webelement.WebElement (session=\"5b1510567adfda186edf4df01634ff05\", element=\"ac4e5d40-5f94-4436-aeba-1c2e8ca5b5ee\")>,\n",
       " <selenium.webdriver.remote.webelement.WebElement (session=\"5b1510567adfda186edf4df01634ff05\", element=\"0ba26423-7c26-46ca-8a66-44ae138600e0\")>,\n",
       " <selenium.webdriver.remote.webelement.WebElement (session=\"5b1510567adfda186edf4df01634ff05\", element=\"60d21436-6078-4bff-a4fc-8e0a0a8425a6\")>,\n",
       " <selenium.webdriver.remote.webelement.WebElement (session=\"5b1510567adfda186edf4df01634ff05\", element=\"118e0f66-a6bb-4dcc-9a2b-78a3d6e497ef\")>,\n",
       " <selenium.webdriver.remote.webelement.WebElement (session=\"5b1510567adfda186edf4df01634ff05\", element=\"d4ac791e-d02c-48fe-b360-a06c24962406\")>,\n",
       " <selenium.webdriver.remote.webelement.WebElement (session=\"5b1510567adfda186edf4df01634ff05\", element=\"deadd23a-0893-4342-ad40-e3f80268cb5b\")>,\n",
       " <selenium.webdriver.remote.webelement.WebElement (session=\"5b1510567adfda186edf4df01634ff05\", element=\"cd96be5a-bc61-4d2a-a374-0b07718b2fd5\")>,\n",
       " <selenium.webdriver.remote.webelement.WebElement (session=\"5b1510567adfda186edf4df01634ff05\", element=\"3696a3d2-519b-4a7f-b99a-ebc0cf72e7ba\")>,\n",
       " <selenium.webdriver.remote.webelement.WebElement (session=\"5b1510567adfda186edf4df01634ff05\", element=\"462464d3-1909-4594-b86d-c963bccfdec6\")>]"
      ]
     },
     "execution_count": 26,
     "metadata": {},
     "output_type": "execute_result"
    }
   ],
   "source": [
    "experience_tags=driver.find_elements_by_xpath(\"//li[@class='fleft grey-text br2 placeHolderLi experience']//span\")\n",
    "experience_tags"
   ]
  },
  {
   "cell_type": "code",
   "execution_count": 27,
   "metadata": {},
   "outputs": [
    {
     "data": {
      "text/plain": [
       "['0-3 Yrs',\n",
       " '6-9 Yrs',\n",
       " '12-18 Yrs',\n",
       " '1-3 Yrs',\n",
       " '2-4 Yrs',\n",
       " '2-7 Yrs',\n",
       " '4-7 Yrs',\n",
       " '3-6 Yrs',\n",
       " '5-10 Yrs',\n",
       " '1-3 Yrs',\n",
       " '2-6 Yrs',\n",
       " '6-9 Yrs',\n",
       " '2-5 Yrs',\n",
       " '5-8 Yrs',\n",
       " '1-5 Yrs',\n",
       " '5-10 Yrs',\n",
       " '1-6 Yrs',\n",
       " '2-6 Yrs',\n",
       " '2-6 Yrs',\n",
       " '0-3 Yrs']"
      ]
     },
     "execution_count": 27,
     "metadata": {},
     "output_type": "execute_result"
    }
   ],
   "source": [
    "experience_list=[]\n",
    "for i in experience_tags:\n",
    "    experience_list.append(i.text)\n",
    "experience_list"
   ]
  },
  {
   "cell_type": "code",
   "execution_count": 28,
   "metadata": {},
   "outputs": [
    {
     "data": {
      "text/plain": [
       "[<selenium.webdriver.remote.webelement.WebElement (session=\"5b1510567adfda186edf4df01634ff05\", element=\"f15f0f6b-8305-4518-a381-e60e7a222e69\")>,\n",
       " <selenium.webdriver.remote.webelement.WebElement (session=\"5b1510567adfda186edf4df01634ff05\", element=\"55c2f5ee-ec7f-4ed9-9e6d-145bd923ebd3\")>,\n",
       " <selenium.webdriver.remote.webelement.WebElement (session=\"5b1510567adfda186edf4df01634ff05\", element=\"8f8d2d70-737d-4042-a1e4-d250f3013515\")>,\n",
       " <selenium.webdriver.remote.webelement.WebElement (session=\"5b1510567adfda186edf4df01634ff05\", element=\"6283e375-13cd-4c37-bca1-e24d7a0c0ea0\")>,\n",
       " <selenium.webdriver.remote.webelement.WebElement (session=\"5b1510567adfda186edf4df01634ff05\", element=\"d2dee8a2-5f21-4b62-acfa-2034d649d6f9\")>,\n",
       " <selenium.webdriver.remote.webelement.WebElement (session=\"5b1510567adfda186edf4df01634ff05\", element=\"75c0ddcc-83e2-4539-9e99-cc8a6acbd5cf\")>,\n",
       " <selenium.webdriver.remote.webelement.WebElement (session=\"5b1510567adfda186edf4df01634ff05\", element=\"b73a18eb-0268-4048-a244-231bf3becab1\")>,\n",
       " <selenium.webdriver.remote.webelement.WebElement (session=\"5b1510567adfda186edf4df01634ff05\", element=\"4839ef47-fd8f-4a37-a84f-a642defb539a\")>,\n",
       " <selenium.webdriver.remote.webelement.WebElement (session=\"5b1510567adfda186edf4df01634ff05\", element=\"3e79f7c7-e3fe-466e-9177-610cf21aa950\")>,\n",
       " <selenium.webdriver.remote.webelement.WebElement (session=\"5b1510567adfda186edf4df01634ff05\", element=\"f63f1784-b3b3-4460-8bca-f4c548e4ddfd\")>,\n",
       " <selenium.webdriver.remote.webelement.WebElement (session=\"5b1510567adfda186edf4df01634ff05\", element=\"031e34d1-3b65-44dc-ac7c-255fbf30f2a0\")>,\n",
       " <selenium.webdriver.remote.webelement.WebElement (session=\"5b1510567adfda186edf4df01634ff05\", element=\"7f705589-0311-469b-acdb-a03ebb04a751\")>,\n",
       " <selenium.webdriver.remote.webelement.WebElement (session=\"5b1510567adfda186edf4df01634ff05\", element=\"2e977d09-745a-4008-81ce-39447c1f38b3\")>,\n",
       " <selenium.webdriver.remote.webelement.WebElement (session=\"5b1510567adfda186edf4df01634ff05\", element=\"a0bf4901-ba7a-4ec2-8263-50810cf74da3\")>,\n",
       " <selenium.webdriver.remote.webelement.WebElement (session=\"5b1510567adfda186edf4df01634ff05\", element=\"7a6ce6ef-b083-4a08-b055-c62f52b142e8\")>,\n",
       " <selenium.webdriver.remote.webelement.WebElement (session=\"5b1510567adfda186edf4df01634ff05\", element=\"b10e7a81-6fc0-4876-85a3-c42e1ffaa418\")>,\n",
       " <selenium.webdriver.remote.webelement.WebElement (session=\"5b1510567adfda186edf4df01634ff05\", element=\"4224454a-25cf-444b-80a0-45dd6bcd69ee\")>,\n",
       " <selenium.webdriver.remote.webelement.WebElement (session=\"5b1510567adfda186edf4df01634ff05\", element=\"11c1a155-d84f-4450-b676-81130d88ca4e\")>,\n",
       " <selenium.webdriver.remote.webelement.WebElement (session=\"5b1510567adfda186edf4df01634ff05\", element=\"62ce5cd7-16f0-46e1-b850-6b74cabe2a5f\")>,\n",
       " <selenium.webdriver.remote.webelement.WebElement (session=\"5b1510567adfda186edf4df01634ff05\", element=\"a5343205-be4a-48b0-b579-94dacee60158\")>]"
      ]
     },
     "execution_count": 28,
     "metadata": {},
     "output_type": "execute_result"
    }
   ],
   "source": [
    "location_tags=driver.find_elements_by_xpath(\"//li[@class='fleft grey-text br2 placeHolderLi location']//span\")\n",
    "location_tags"
   ]
  },
  {
   "cell_type": "code",
   "execution_count": 29,
   "metadata": {},
   "outputs": [
    {
     "data": {
      "text/plain": [
       "['Mumbai, Hyderabad/Secunderabad, Pune, Gurgaon/Gurugram, Chennai, Bangalore/Bengaluru',\n",
       " 'Bangalore/Bengaluru',\n",
       " 'Mumbai, Bangalore/Bengaluru',\n",
       " 'Kolkata, Pune, Chennai, Bangalore/Bengaluru, Delhi / NCR, Mumbai (All Areas)',\n",
       " 'Bangalore/Bengaluru',\n",
       " 'Bangalore/Bengaluru',\n",
       " 'Bangalore/Bengaluru',\n",
       " 'Bangalore/Bengaluru',\n",
       " 'Bangalore/Bengaluru',\n",
       " 'Bangalore/Bengaluru',\n",
       " 'Bangalore/Bengaluru',\n",
       " 'Bangalore/Bengaluru',\n",
       " 'Bangalore/Bengaluru',\n",
       " 'Bangalore/Bengaluru',\n",
       " 'Chennai, Bangalore/Bengaluru',\n",
       " 'Bangalore/Bengaluru',\n",
       " 'Bangalore/Bengaluru',\n",
       " 'Bangalore/Bengaluru',\n",
       " 'Bangalore/Bengaluru',\n",
       " 'Bangalore/Bengaluru']"
      ]
     },
     "execution_count": 29,
     "metadata": {},
     "output_type": "execute_result"
    }
   ],
   "source": [
    "location_list=[]\n",
    "for i in location_tags:\n",
    "    location_list.append(i.text)\n",
    "location_list"
   ]
  },
  {
   "cell_type": "code",
   "execution_count": 30,
   "metadata": {},
   "outputs": [],
   "source": [
    "jobs=pd.DataFrame({})\n",
    "jobs['title']=job_titles\n",
    "jobs['company']=companies_names\n",
    "jobs['experience_required']=experience_list\n",
    "jobs['location']=location_list"
   ]
  },
  {
   "cell_type": "code",
   "execution_count": 34,
   "metadata": {},
   "outputs": [
    {
     "data": {
      "text/html": [
       "<div>\n",
       "<style scoped>\n",
       "    .dataframe tbody tr th:only-of-type {\n",
       "        vertical-align: middle;\n",
       "    }\n",
       "\n",
       "    .dataframe tbody tr th {\n",
       "        vertical-align: top;\n",
       "    }\n",
       "\n",
       "    .dataframe thead th {\n",
       "        text-align: right;\n",
       "    }\n",
       "</style>\n",
       "<table border=\"1\" class=\"dataframe\">\n",
       "  <thead>\n",
       "    <tr style=\"text-align: right;\">\n",
       "      <th></th>\n",
       "      <th>title</th>\n",
       "      <th>company</th>\n",
       "      <th>experience_required</th>\n",
       "      <th>location</th>\n",
       "    </tr>\n",
       "  </thead>\n",
       "  <tbody>\n",
       "    <tr>\n",
       "      <th>0</th>\n",
       "      <td>Data Scientist / Data Analyst -Business Analyst</td>\n",
       "      <td>Inflexion Analytix Private Limited</td>\n",
       "      <td>0-3 Yrs</td>\n",
       "      <td>Mumbai, Hyderabad/Secunderabad, Pune, Gurgaon/...</td>\n",
       "    </tr>\n",
       "    <tr>\n",
       "      <th>1</th>\n",
       "      <td>Data Analyst - Informatica MDM</td>\n",
       "      <td>Shell India Markets Private Limited</td>\n",
       "      <td>6-9 Yrs</td>\n",
       "      <td>Bangalore/Bengaluru</td>\n",
       "    </tr>\n",
       "    <tr>\n",
       "      <th>2</th>\n",
       "      <td>Assistant Vice President - MIS &amp; Reporting ( B...</td>\n",
       "      <td>INTERTRUSTVITEOS CORPORATE AND FUND SERVICES P...</td>\n",
       "      <td>12-18 Yrs</td>\n",
       "      <td>Mumbai, Bangalore/Bengaluru</td>\n",
       "    </tr>\n",
       "    <tr>\n",
       "      <th>3</th>\n",
       "      <td>Data Analyst</td>\n",
       "      <td>SA Tech Software (I) Pvt. Ltd.</td>\n",
       "      <td>1-3 Yrs</td>\n",
       "      <td>Kolkata, Pune, Chennai, Bangalore/Bengaluru, D...</td>\n",
       "    </tr>\n",
       "    <tr>\n",
       "      <th>4</th>\n",
       "      <td>Hiring For Data Analyst/ MIS Reporting Analyst...</td>\n",
       "      <td>PHARMACEUTICAL RESEARCH ASSOCIATES INDIA Pvt Ltd</td>\n",
       "      <td>2-4 Yrs</td>\n",
       "      <td>Bangalore/Bengaluru</td>\n",
       "    </tr>\n",
       "    <tr>\n",
       "      <th>5</th>\n",
       "      <td>Consultant-Data Analyst -Bangalore</td>\n",
       "      <td>Innovsource Services Private Limited</td>\n",
       "      <td>2-7 Yrs</td>\n",
       "      <td>Bangalore/Bengaluru</td>\n",
       "    </tr>\n",
       "    <tr>\n",
       "      <th>6</th>\n",
       "      <td>Data analyst - Google Analytics</td>\n",
       "      <td>H and M Hennes and Mauritz (P) Ltd.</td>\n",
       "      <td>4-7 Yrs</td>\n",
       "      <td>Bangalore/Bengaluru</td>\n",
       "    </tr>\n",
       "    <tr>\n",
       "      <th>7</th>\n",
       "      <td>Senior/Regular Business Analyst / Data Analyst</td>\n",
       "      <td>Luxoft</td>\n",
       "      <td>3-6 Yrs</td>\n",
       "      <td>Bangalore/Bengaluru</td>\n",
       "    </tr>\n",
       "    <tr>\n",
       "      <th>8</th>\n",
       "      <td>SW Technologist I- Data Analyst</td>\n",
       "      <td>Philips India Limited</td>\n",
       "      <td>5-10 Yrs</td>\n",
       "      <td>Bangalore/Bengaluru</td>\n",
       "    </tr>\n",
       "    <tr>\n",
       "      <th>9</th>\n",
       "      <td>Data Analyst</td>\n",
       "      <td>Flipkart Internet Private Limited</td>\n",
       "      <td>1-3 Yrs</td>\n",
       "      <td>Bangalore/Bengaluru</td>\n",
       "    </tr>\n",
       "    <tr>\n",
       "      <th>10</th>\n",
       "      <td>Hiring For Data Analyst @ Flipkart on Contract</td>\n",
       "      <td>Flipkart Internet Private Limited</td>\n",
       "      <td>2-6 Yrs</td>\n",
       "      <td>Bangalore/Bengaluru</td>\n",
       "    </tr>\n",
       "    <tr>\n",
       "      <th>11</th>\n",
       "      <td>Data Analyst - Informatica MDM</td>\n",
       "      <td>Shell India Markets Private Limited</td>\n",
       "      <td>6-9 Yrs</td>\n",
       "      <td>Bangalore/Bengaluru</td>\n",
       "    </tr>\n",
       "    <tr>\n",
       "      <th>12</th>\n",
       "      <td>Senior Data Analyst</td>\n",
       "      <td>Flipkart Internet Private Limited</td>\n",
       "      <td>2-5 Yrs</td>\n",
       "      <td>Bangalore/Bengaluru</td>\n",
       "    </tr>\n",
       "    <tr>\n",
       "      <th>13</th>\n",
       "      <td>Cybersecurity Data Analyst</td>\n",
       "      <td>Huawei Technologies India Pvt Ltd</td>\n",
       "      <td>5-8 Yrs</td>\n",
       "      <td>Bangalore/Bengaluru</td>\n",
       "    </tr>\n",
       "    <tr>\n",
       "      <th>14</th>\n",
       "      <td>Data Analyst / Business Analyst -</td>\n",
       "      <td>LatentView Analytics Private Limited</td>\n",
       "      <td>1-5 Yrs</td>\n",
       "      <td>Chennai, Bangalore/Bengaluru</td>\n",
       "    </tr>\n",
       "    <tr>\n",
       "      <th>15</th>\n",
       "      <td>Business Data Analyst</td>\n",
       "      <td>ALSTOM India Limited</td>\n",
       "      <td>5-10 Yrs</td>\n",
       "      <td>Bangalore/Bengaluru</td>\n",
       "    </tr>\n",
       "    <tr>\n",
       "      <th>16</th>\n",
       "      <td>Data Analyst</td>\n",
       "      <td>Udaan</td>\n",
       "      <td>1-6 Yrs</td>\n",
       "      <td>Bangalore/Bengaluru</td>\n",
       "    </tr>\n",
       "    <tr>\n",
       "      <th>17</th>\n",
       "      <td>Data Analyst</td>\n",
       "      <td>Luxoft</td>\n",
       "      <td>2-6 Yrs</td>\n",
       "      <td>Bangalore/Bengaluru</td>\n",
       "    </tr>\n",
       "    <tr>\n",
       "      <th>18</th>\n",
       "      <td>Data Analyst</td>\n",
       "      <td>Yodlee Infotech Private Limited</td>\n",
       "      <td>2-6 Yrs</td>\n",
       "      <td>Bangalore/Bengaluru</td>\n",
       "    </tr>\n",
       "    <tr>\n",
       "      <th>19</th>\n",
       "      <td>Data Analyst</td>\n",
       "      <td>Novel Office</td>\n",
       "      <td>0-3 Yrs</td>\n",
       "      <td>Bangalore/Bengaluru</td>\n",
       "    </tr>\n",
       "  </tbody>\n",
       "</table>\n",
       "</div>"
      ],
      "text/plain": [
       "                                                title  \\\n",
       "0     Data Scientist / Data Analyst -Business Analyst   \n",
       "1                      Data Analyst - Informatica MDM   \n",
       "2   Assistant Vice President - MIS & Reporting ( B...   \n",
       "3                                        Data Analyst   \n",
       "4   Hiring For Data Analyst/ MIS Reporting Analyst...   \n",
       "5                  Consultant-Data Analyst -Bangalore   \n",
       "6                     Data analyst - Google Analytics   \n",
       "7      Senior/Regular Business Analyst / Data Analyst   \n",
       "8                     SW Technologist I- Data Analyst   \n",
       "9                                        Data Analyst   \n",
       "10     Hiring For Data Analyst @ Flipkart on Contract   \n",
       "11                     Data Analyst - Informatica MDM   \n",
       "12                                Senior Data Analyst   \n",
       "13                         Cybersecurity Data Analyst   \n",
       "14                  Data Analyst / Business Analyst -   \n",
       "15                              Business Data Analyst   \n",
       "16                                       Data Analyst   \n",
       "17                                       Data Analyst   \n",
       "18                                       Data Analyst   \n",
       "19                                       Data Analyst   \n",
       "\n",
       "                                              company experience_required  \\\n",
       "0                  Inflexion Analytix Private Limited             0-3 Yrs   \n",
       "1                 Shell India Markets Private Limited             6-9 Yrs   \n",
       "2   INTERTRUSTVITEOS CORPORATE AND FUND SERVICES P...           12-18 Yrs   \n",
       "3                      SA Tech Software (I) Pvt. Ltd.             1-3 Yrs   \n",
       "4    PHARMACEUTICAL RESEARCH ASSOCIATES INDIA Pvt Ltd             2-4 Yrs   \n",
       "5                Innovsource Services Private Limited             2-7 Yrs   \n",
       "6                 H and M Hennes and Mauritz (P) Ltd.             4-7 Yrs   \n",
       "7                                              Luxoft             3-6 Yrs   \n",
       "8                               Philips India Limited            5-10 Yrs   \n",
       "9                   Flipkart Internet Private Limited             1-3 Yrs   \n",
       "10                  Flipkart Internet Private Limited             2-6 Yrs   \n",
       "11                Shell India Markets Private Limited             6-9 Yrs   \n",
       "12                  Flipkart Internet Private Limited             2-5 Yrs   \n",
       "13                  Huawei Technologies India Pvt Ltd             5-8 Yrs   \n",
       "14               LatentView Analytics Private Limited             1-5 Yrs   \n",
       "15                               ALSTOM India Limited            5-10 Yrs   \n",
       "16                                              Udaan             1-6 Yrs   \n",
       "17                                             Luxoft             2-6 Yrs   \n",
       "18                    Yodlee Infotech Private Limited             2-6 Yrs   \n",
       "19                                       Novel Office             0-3 Yrs   \n",
       "\n",
       "                                             location  \n",
       "0   Mumbai, Hyderabad/Secunderabad, Pune, Gurgaon/...  \n",
       "1                                 Bangalore/Bengaluru  \n",
       "2                         Mumbai, Bangalore/Bengaluru  \n",
       "3   Kolkata, Pune, Chennai, Bangalore/Bengaluru, D...  \n",
       "4                                 Bangalore/Bengaluru  \n",
       "5                                 Bangalore/Bengaluru  \n",
       "6                                 Bangalore/Bengaluru  \n",
       "7                                 Bangalore/Bengaluru  \n",
       "8                                 Bangalore/Bengaluru  \n",
       "9                                 Bangalore/Bengaluru  \n",
       "10                                Bangalore/Bengaluru  \n",
       "11                                Bangalore/Bengaluru  \n",
       "12                                Bangalore/Bengaluru  \n",
       "13                                Bangalore/Bengaluru  \n",
       "14                       Chennai, Bangalore/Bengaluru  \n",
       "15                                Bangalore/Bengaluru  \n",
       "16                                Bangalore/Bengaluru  \n",
       "17                                Bangalore/Bengaluru  \n",
       "18                                Bangalore/Bengaluru  \n",
       "19                                Bangalore/Bengaluru  "
      ]
     },
     "execution_count": 34,
     "metadata": {},
     "output_type": "execute_result"
    }
   ],
   "source": [
    "jobs"
   ]
  },
  {
   "cell_type": "markdown",
   "metadata": {},
   "source": [
    "# Ques=2"
   ]
  },
  {
   "cell_type": "code",
   "execution_count": 192,
   "metadata": {},
   "outputs": [],
   "source": [
    "driver=webdriver.Chrome(r\"C:\\Users\\DELL\\Downloads\\chromedriver\")"
   ]
  },
  {
   "cell_type": "code",
   "execution_count": 193,
   "metadata": {},
   "outputs": [],
   "source": [
    "url='https://www.naukri.com/'\n",
    "driver.get(url)"
   ]
  },
  {
   "cell_type": "code",
   "execution_count": 194,
   "metadata": {},
   "outputs": [
    {
     "data": {
      "text/plain": [
       "<selenium.webdriver.remote.webelement.WebElement (session=\"b1cd00a1a6cb4ca574514b5a5666a392\", element=\"98b9b444-b751-4fc1-abd2-90e6f0699951\")>"
      ]
     },
     "execution_count": 194,
     "metadata": {},
     "output_type": "execute_result"
    }
   ],
   "source": [
    "Search_job=driver.find_element_by_id(\"qsb-keyword-sugg\")\n",
    "Search_job"
   ]
  },
  {
   "cell_type": "code",
   "execution_count": 195,
   "metadata": {},
   "outputs": [],
   "source": [
    "Search_job.send_keys(\"Data Scientist\")"
   ]
  },
  {
   "cell_type": "code",
   "execution_count": 196,
   "metadata": {},
   "outputs": [],
   "source": [
    "Search_location=driver.find_element_by_id(\"qsb-location-sugg\")"
   ]
  },
  {
   "cell_type": "code",
   "execution_count": 197,
   "metadata": {},
   "outputs": [],
   "source": [
    "Search_location.send_keys(\"Bangalore\")"
   ]
  },
  {
   "cell_type": "code",
   "execution_count": 198,
   "metadata": {},
   "outputs": [],
   "source": [
    "Search_btn=driver.find_element_by_xpath(\"//button[@class='btn']\")\n",
    "Search_btn.click()"
   ]
  },
  {
   "cell_type": "code",
   "execution_count": 200,
   "metadata": {},
   "outputs": [
    {
     "data": {
      "text/plain": [
       "[<selenium.webdriver.remote.webelement.WebElement (session=\"b1cd00a1a6cb4ca574514b5a5666a392\", element=\"5ded5379-2c21-4a5c-8027-2a393bc67fba\")>,\n",
       " <selenium.webdriver.remote.webelement.WebElement (session=\"b1cd00a1a6cb4ca574514b5a5666a392\", element=\"a2d35166-7463-43fc-9ad0-99c0d49b7599\")>,\n",
       " <selenium.webdriver.remote.webelement.WebElement (session=\"b1cd00a1a6cb4ca574514b5a5666a392\", element=\"244229a0-a5b4-4b71-bb5f-547dc45d4a08\")>,\n",
       " <selenium.webdriver.remote.webelement.WebElement (session=\"b1cd00a1a6cb4ca574514b5a5666a392\", element=\"070f3fd5-e367-4bf6-a079-a28fe713acfb\")>,\n",
       " <selenium.webdriver.remote.webelement.WebElement (session=\"b1cd00a1a6cb4ca574514b5a5666a392\", element=\"a2d2207f-ce9e-4367-87f1-f9febeb648f2\")>,\n",
       " <selenium.webdriver.remote.webelement.WebElement (session=\"b1cd00a1a6cb4ca574514b5a5666a392\", element=\"4cd4cf40-a1e8-40db-b811-1e4fdf8d732b\")>,\n",
       " <selenium.webdriver.remote.webelement.WebElement (session=\"b1cd00a1a6cb4ca574514b5a5666a392\", element=\"a84f6111-c861-493b-86b5-779b781a6f2f\")>,\n",
       " <selenium.webdriver.remote.webelement.WebElement (session=\"b1cd00a1a6cb4ca574514b5a5666a392\", element=\"a02b585b-22b1-4c39-af0b-bf6574c11778\")>,\n",
       " <selenium.webdriver.remote.webelement.WebElement (session=\"b1cd00a1a6cb4ca574514b5a5666a392\", element=\"65e9230f-bd60-4bf0-aadb-c6ab0200d9e9\")>,\n",
       " <selenium.webdriver.remote.webelement.WebElement (session=\"b1cd00a1a6cb4ca574514b5a5666a392\", element=\"1aa38d74-c9ad-4507-ac46-009886a4846a\")>,\n",
       " <selenium.webdriver.remote.webelement.WebElement (session=\"b1cd00a1a6cb4ca574514b5a5666a392\", element=\"65d76be8-bcd1-4224-a9c1-2da6d09cd490\")>,\n",
       " <selenium.webdriver.remote.webelement.WebElement (session=\"b1cd00a1a6cb4ca574514b5a5666a392\", element=\"709aadd9-ea6b-4bc5-97ae-a832c78ef9d3\")>,\n",
       " <selenium.webdriver.remote.webelement.WebElement (session=\"b1cd00a1a6cb4ca574514b5a5666a392\", element=\"95ea7342-a11a-4d97-9fb7-bd8f47743eb6\")>,\n",
       " <selenium.webdriver.remote.webelement.WebElement (session=\"b1cd00a1a6cb4ca574514b5a5666a392\", element=\"c25390c1-92c8-4c34-94cc-764e7199cfcf\")>,\n",
       " <selenium.webdriver.remote.webelement.WebElement (session=\"b1cd00a1a6cb4ca574514b5a5666a392\", element=\"1602dd57-8cc9-4759-abd9-d9a9fd64d8ca\")>,\n",
       " <selenium.webdriver.remote.webelement.WebElement (session=\"b1cd00a1a6cb4ca574514b5a5666a392\", element=\"a415583f-9c0f-43ae-a28c-e28325ca2a31\")>,\n",
       " <selenium.webdriver.remote.webelement.WebElement (session=\"b1cd00a1a6cb4ca574514b5a5666a392\", element=\"ba0a7c80-9d84-4699-be10-34e03e20a348\")>,\n",
       " <selenium.webdriver.remote.webelement.WebElement (session=\"b1cd00a1a6cb4ca574514b5a5666a392\", element=\"16c83942-6c6e-4200-a789-cdf760d1d273\")>,\n",
       " <selenium.webdriver.remote.webelement.WebElement (session=\"b1cd00a1a6cb4ca574514b5a5666a392\", element=\"3b0305b2-6ede-486f-b4ac-f9b1cc429e92\")>,\n",
       " <selenium.webdriver.remote.webelement.WebElement (session=\"b1cd00a1a6cb4ca574514b5a5666a392\", element=\"14b63673-bb5a-4cd5-8a29-05adb7bbea03\")>]"
      ]
     },
     "execution_count": 200,
     "metadata": {},
     "output_type": "execute_result"
    }
   ],
   "source": [
    "Title_tags=driver.find_elements_by_xpath(\"//a[@class='title fw500 ellipsis']\")\n",
    "Title_tags"
   ]
  },
  {
   "cell_type": "code",
   "execution_count": 201,
   "metadata": {},
   "outputs": [
    {
     "data": {
      "text/plain": [
       "['Data Scientist / Data Analyst -Business Analyst',\n",
       " 'Data Scientist',\n",
       " 'Big Data - Data Scientist',\n",
       " 'Specialist I - Data Scientist',\n",
       " 'Lead Data Scientist',\n",
       " 'Data Scientist',\n",
       " 'Data Scientist',\n",
       " 'SDE Lead Data Scientist-L3',\n",
       " 'Computational Design Lead Data Scientist-L3',\n",
       " 'Hiring For DATA Scientist - ON Contract Basis (3-6 Months)',\n",
       " 'Senior Data Scientist',\n",
       " 'Senior Data Scientist',\n",
       " 'Sr. Data Scientist',\n",
       " 'Senior Data Scientist',\n",
       " 'Senior Associate/Team Lead - Data Scientist Consulting',\n",
       " 'Senior Data Scientist',\n",
       " 'Data Scientist',\n",
       " 'Sr Data Scientist, Payments',\n",
       " 'Hiring For Lead data Scientist For Bangalore location',\n",
       " 'Principal Data Scientist']"
      ]
     },
     "execution_count": 201,
     "metadata": {},
     "output_type": "execute_result"
    }
   ],
   "source": [
    "Job_titles=[]\n",
    "for i in Title_tags:\n",
    "    Job_titles.append(i.text)\n",
    "Job_titles"
   ]
  },
  {
   "cell_type": "code",
   "execution_count": 202,
   "metadata": {},
   "outputs": [
    {
     "data": {
      "text/plain": [
       "[<selenium.webdriver.remote.webelement.WebElement (session=\"b1cd00a1a6cb4ca574514b5a5666a392\", element=\"c34df2b3-3a7c-492e-a124-cb79dd6a6ee9\")>,\n",
       " <selenium.webdriver.remote.webelement.WebElement (session=\"b1cd00a1a6cb4ca574514b5a5666a392\", element=\"32bd1e32-901d-4b58-8b70-a2d1f97ec7c4\")>,\n",
       " <selenium.webdriver.remote.webelement.WebElement (session=\"b1cd00a1a6cb4ca574514b5a5666a392\", element=\"76ca0e48-342c-483a-b824-897322591660\")>,\n",
       " <selenium.webdriver.remote.webelement.WebElement (session=\"b1cd00a1a6cb4ca574514b5a5666a392\", element=\"7d25b6a5-7ea1-4a60-a888-1a4907bd45b8\")>,\n",
       " <selenium.webdriver.remote.webelement.WebElement (session=\"b1cd00a1a6cb4ca574514b5a5666a392\", element=\"b792cb27-3d3c-4870-a038-fdd985b124db\")>,\n",
       " <selenium.webdriver.remote.webelement.WebElement (session=\"b1cd00a1a6cb4ca574514b5a5666a392\", element=\"ab778f65-1c47-499b-bd1e-cc1aeb2ad516\")>,\n",
       " <selenium.webdriver.remote.webelement.WebElement (session=\"b1cd00a1a6cb4ca574514b5a5666a392\", element=\"e526a41a-4215-4645-beb1-cb67e2d7c44b\")>,\n",
       " <selenium.webdriver.remote.webelement.WebElement (session=\"b1cd00a1a6cb4ca574514b5a5666a392\", element=\"4fb63770-ecd6-49d0-9d06-fd978c9ade2e\")>,\n",
       " <selenium.webdriver.remote.webelement.WebElement (session=\"b1cd00a1a6cb4ca574514b5a5666a392\", element=\"99c1d6c4-5ed4-4e22-95a8-9253e6ad77c5\")>,\n",
       " <selenium.webdriver.remote.webelement.WebElement (session=\"b1cd00a1a6cb4ca574514b5a5666a392\", element=\"d6fd3b11-d698-42aa-b465-f182c6acd9f0\")>,\n",
       " <selenium.webdriver.remote.webelement.WebElement (session=\"b1cd00a1a6cb4ca574514b5a5666a392\", element=\"92a7ac5b-e5ea-494d-b6d2-a43f2dc2c40c\")>,\n",
       " <selenium.webdriver.remote.webelement.WebElement (session=\"b1cd00a1a6cb4ca574514b5a5666a392\", element=\"4c5f39cf-155c-4777-ad24-e479d8c6edbe\")>,\n",
       " <selenium.webdriver.remote.webelement.WebElement (session=\"b1cd00a1a6cb4ca574514b5a5666a392\", element=\"2c974d75-f8b3-4b0f-9526-8299844593e3\")>,\n",
       " <selenium.webdriver.remote.webelement.WebElement (session=\"b1cd00a1a6cb4ca574514b5a5666a392\", element=\"a5fae551-cc96-4d1c-bc20-a304f216745f\")>,\n",
       " <selenium.webdriver.remote.webelement.WebElement (session=\"b1cd00a1a6cb4ca574514b5a5666a392\", element=\"df4492a5-7512-4efd-8730-9b9adb2434f6\")>,\n",
       " <selenium.webdriver.remote.webelement.WebElement (session=\"b1cd00a1a6cb4ca574514b5a5666a392\", element=\"20355b3c-1270-4b13-b5ae-0e324e680f6e\")>,\n",
       " <selenium.webdriver.remote.webelement.WebElement (session=\"b1cd00a1a6cb4ca574514b5a5666a392\", element=\"4b3fcd08-9b9a-4ff0-99c1-cc33c0ecdde3\")>,\n",
       " <selenium.webdriver.remote.webelement.WebElement (session=\"b1cd00a1a6cb4ca574514b5a5666a392\", element=\"ba9145af-cad7-4c17-bd67-9e0fb0525c6a\")>,\n",
       " <selenium.webdriver.remote.webelement.WebElement (session=\"b1cd00a1a6cb4ca574514b5a5666a392\", element=\"e7f1339c-9208-4f8f-ada6-019ee8092a02\")>,\n",
       " <selenium.webdriver.remote.webelement.WebElement (session=\"b1cd00a1a6cb4ca574514b5a5666a392\", element=\"37b9765e-7929-44a0-a57f-2b23b1f14859\")>]"
      ]
     },
     "execution_count": 202,
     "metadata": {},
     "output_type": "execute_result"
    }
   ],
   "source": [
    "Companies_tags=driver.find_elements_by_xpath(\"//a[@class='subTitle ellipsis fleft']\")\n",
    "Companies_tags"
   ]
  },
  {
   "cell_type": "code",
   "execution_count": 203,
   "metadata": {},
   "outputs": [
    {
     "data": {
      "text/plain": [
       "['Inflexion Analytix Private Limited',\n",
       " 'Wipro Limited',\n",
       " 'Xoriant Solutions Pvt Ltd',\n",
       " 'Philips India Limited',\n",
       " 'Intel Technology India Pvt Ltd',\n",
       " 'Oracle India Pvt. Ltd.',\n",
       " 'IBM India Pvt. Limited',\n",
       " 'Huawei Technologies India Pvt Ltd',\n",
       " 'Huawei Technologies India Pvt Ltd',\n",
       " 'GlobalEdx Learning and Technology Solution Pvt Ltd',\n",
       " 'GO-JEK India',\n",
       " 'nanobi data and analytics private limited',\n",
       " 'VALIANCE ANALYTICS PRIVATE LIMITED',\n",
       " 'BankBazaar.com (A&A DUKAAN FINANCIAL SERVICES PVT. LTD)',\n",
       " 'Analytics India Magazine',\n",
       " 'Gojek Tech',\n",
       " 'Applied Materials',\n",
       " 'AIRBNB GLOBAL CAPABILITY CENTER PRIVATE LIMITED',\n",
       " 'Societe Generale',\n",
       " 'NetApp']"
      ]
     },
     "execution_count": 203,
     "metadata": {},
     "output_type": "execute_result"
    }
   ],
   "source": [
    "Companies_names=[]\n",
    "for i in Companies_tags:\n",
    "    Companies_names.append(i.text)\n",
    "Companies_names"
   ]
  },
  {
   "cell_type": "code",
   "execution_count": 204,
   "metadata": {},
   "outputs": [
    {
     "data": {
      "text/plain": [
       "[<selenium.webdriver.remote.webelement.WebElement (session=\"b1cd00a1a6cb4ca574514b5a5666a392\", element=\"5d8edee2-9384-491e-bd1d-fc79261004d0\")>,\n",
       " <selenium.webdriver.remote.webelement.WebElement (session=\"b1cd00a1a6cb4ca574514b5a5666a392\", element=\"32501f3f-3a91-45a9-9f02-e8bd5e506d0a\")>,\n",
       " <selenium.webdriver.remote.webelement.WebElement (session=\"b1cd00a1a6cb4ca574514b5a5666a392\", element=\"7c4150ef-3481-4e3a-a78d-629c07c588ea\")>,\n",
       " <selenium.webdriver.remote.webelement.WebElement (session=\"b1cd00a1a6cb4ca574514b5a5666a392\", element=\"add3ad90-6a66-4dea-81b7-6f3a8faf7f80\")>,\n",
       " <selenium.webdriver.remote.webelement.WebElement (session=\"b1cd00a1a6cb4ca574514b5a5666a392\", element=\"59684902-e429-4f4e-a89c-8377e25f19d8\")>,\n",
       " <selenium.webdriver.remote.webelement.WebElement (session=\"b1cd00a1a6cb4ca574514b5a5666a392\", element=\"b8f87a17-f02f-4518-89e8-79ffa23177da\")>,\n",
       " <selenium.webdriver.remote.webelement.WebElement (session=\"b1cd00a1a6cb4ca574514b5a5666a392\", element=\"12774e14-57fb-47f2-8781-9b957dc842ec\")>,\n",
       " <selenium.webdriver.remote.webelement.WebElement (session=\"b1cd00a1a6cb4ca574514b5a5666a392\", element=\"604c3653-5941-4e36-9b20-1b31142aef02\")>,\n",
       " <selenium.webdriver.remote.webelement.WebElement (session=\"b1cd00a1a6cb4ca574514b5a5666a392\", element=\"1a9fec4c-3cc4-4cc7-b5d5-573344f1f086\")>,\n",
       " <selenium.webdriver.remote.webelement.WebElement (session=\"b1cd00a1a6cb4ca574514b5a5666a392\", element=\"1c879812-a485-42f3-90a3-136b93d85950\")>,\n",
       " <selenium.webdriver.remote.webelement.WebElement (session=\"b1cd00a1a6cb4ca574514b5a5666a392\", element=\"8c3a2810-8879-4583-9c04-c919dc26e767\")>,\n",
       " <selenium.webdriver.remote.webelement.WebElement (session=\"b1cd00a1a6cb4ca574514b5a5666a392\", element=\"cd94481c-6295-4bbc-8c3f-5fef6d545758\")>,\n",
       " <selenium.webdriver.remote.webelement.WebElement (session=\"b1cd00a1a6cb4ca574514b5a5666a392\", element=\"75b98948-5d14-46b3-864f-39c5095549fa\")>,\n",
       " <selenium.webdriver.remote.webelement.WebElement (session=\"b1cd00a1a6cb4ca574514b5a5666a392\", element=\"6351d998-c30c-42c9-94f4-ac7402ac593c\")>,\n",
       " <selenium.webdriver.remote.webelement.WebElement (session=\"b1cd00a1a6cb4ca574514b5a5666a392\", element=\"143eba87-0b2c-4f71-9872-99ebcc123605\")>,\n",
       " <selenium.webdriver.remote.webelement.WebElement (session=\"b1cd00a1a6cb4ca574514b5a5666a392\", element=\"e937184c-7b68-4deb-8177-cb25f0744b76\")>,\n",
       " <selenium.webdriver.remote.webelement.WebElement (session=\"b1cd00a1a6cb4ca574514b5a5666a392\", element=\"1187c4f9-3801-468a-866a-c4374118459d\")>,\n",
       " <selenium.webdriver.remote.webelement.WebElement (session=\"b1cd00a1a6cb4ca574514b5a5666a392\", element=\"e741df6f-b3d1-4e96-8f0f-2f85e305be9d\")>,\n",
       " <selenium.webdriver.remote.webelement.WebElement (session=\"b1cd00a1a6cb4ca574514b5a5666a392\", element=\"52dd8ace-2bbb-439e-b9e2-054ec207fa33\")>,\n",
       " <selenium.webdriver.remote.webelement.WebElement (session=\"b1cd00a1a6cb4ca574514b5a5666a392\", element=\"2837f0bb-607c-4010-8c9d-ae784465a0d3\")>]"
      ]
     },
     "execution_count": 204,
     "metadata": {},
     "output_type": "execute_result"
    }
   ],
   "source": [
    "Experience_tags=driver.find_elements_by_xpath(\"//li[@class='fleft grey-text br2 placeHolderLi experience']//span\")\n",
    "Experience_tags"
   ]
  },
  {
   "cell_type": "code",
   "execution_count": 205,
   "metadata": {},
   "outputs": [
    {
     "data": {
      "text/plain": [
       "['0-3 Yrs',\n",
       " '4-9 Yrs',\n",
       " '1-3 Yrs',\n",
       " '4-7 Yrs',\n",
       " '6-10 Yrs',\n",
       " '6-10 Yrs',\n",
       " '6-8 Yrs',\n",
       " '5-8 Yrs',\n",
       " '5-8 Yrs',\n",
       " '3-8 Yrs',\n",
       " '4-11 Yrs',\n",
       " '7-9 Yrs',\n",
       " '6-8 Yrs',\n",
       " '5-7 Yrs',\n",
       " '3-5 Yrs',\n",
       " '3-7 Yrs',\n",
       " '2-4 Yrs',\n",
       " '4-9 Yrs',\n",
       " '5-9 Yrs',\n",
       " '10-15 Yrs']"
      ]
     },
     "execution_count": 205,
     "metadata": {},
     "output_type": "execute_result"
    }
   ],
   "source": [
    "Experience_list=[]\n",
    "for i in Experience_tags:\n",
    "    Experience_list.append(i.text)\n",
    "Experience_list"
   ]
  },
  {
   "cell_type": "code",
   "execution_count": 206,
   "metadata": {},
   "outputs": [
    {
     "data": {
      "text/plain": [
       "[<selenium.webdriver.remote.webelement.WebElement (session=\"b1cd00a1a6cb4ca574514b5a5666a392\", element=\"4f0e9ecd-e1d2-43f0-b5a9-fe0f66389d20\")>,\n",
       " <selenium.webdriver.remote.webelement.WebElement (session=\"b1cd00a1a6cb4ca574514b5a5666a392\", element=\"17d9d39d-d991-49f0-908c-8038ce28f32c\")>,\n",
       " <selenium.webdriver.remote.webelement.WebElement (session=\"b1cd00a1a6cb4ca574514b5a5666a392\", element=\"b4f3f729-59af-4cf9-926b-0ffb426aeebf\")>,\n",
       " <selenium.webdriver.remote.webelement.WebElement (session=\"b1cd00a1a6cb4ca574514b5a5666a392\", element=\"977099ac-d59b-4590-884f-bd4ff24e34e8\")>,\n",
       " <selenium.webdriver.remote.webelement.WebElement (session=\"b1cd00a1a6cb4ca574514b5a5666a392\", element=\"04ef266d-af08-4b16-a8a6-2ddbd5aa5a54\")>,\n",
       " <selenium.webdriver.remote.webelement.WebElement (session=\"b1cd00a1a6cb4ca574514b5a5666a392\", element=\"d461d64b-bb47-4d5b-9c2d-347910d0c652\")>,\n",
       " <selenium.webdriver.remote.webelement.WebElement (session=\"b1cd00a1a6cb4ca574514b5a5666a392\", element=\"96ec7a93-6183-4dc7-887f-54372bd71e28\")>,\n",
       " <selenium.webdriver.remote.webelement.WebElement (session=\"b1cd00a1a6cb4ca574514b5a5666a392\", element=\"7dd30c9f-634a-461b-b305-92211ce935fc\")>,\n",
       " <selenium.webdriver.remote.webelement.WebElement (session=\"b1cd00a1a6cb4ca574514b5a5666a392\", element=\"b4ee0bca-8d44-40ed-ae1f-35dbc5015dc1\")>,\n",
       " <selenium.webdriver.remote.webelement.WebElement (session=\"b1cd00a1a6cb4ca574514b5a5666a392\", element=\"f75f3262-0ff6-4e75-89d6-680f757503a6\")>,\n",
       " <selenium.webdriver.remote.webelement.WebElement (session=\"b1cd00a1a6cb4ca574514b5a5666a392\", element=\"6097a48c-9cfb-4b13-847a-03b5aea0aea7\")>,\n",
       " <selenium.webdriver.remote.webelement.WebElement (session=\"b1cd00a1a6cb4ca574514b5a5666a392\", element=\"6f73527c-d3be-4fa7-bf83-5a953aeecf03\")>,\n",
       " <selenium.webdriver.remote.webelement.WebElement (session=\"b1cd00a1a6cb4ca574514b5a5666a392\", element=\"664e7bb0-df0e-4bfa-9c8a-d69f7aa672c9\")>,\n",
       " <selenium.webdriver.remote.webelement.WebElement (session=\"b1cd00a1a6cb4ca574514b5a5666a392\", element=\"d4013bd4-c072-485c-968d-63d270668d14\")>,\n",
       " <selenium.webdriver.remote.webelement.WebElement (session=\"b1cd00a1a6cb4ca574514b5a5666a392\", element=\"67f90672-f53f-42c8-bfcb-663f5690ff9e\")>,\n",
       " <selenium.webdriver.remote.webelement.WebElement (session=\"b1cd00a1a6cb4ca574514b5a5666a392\", element=\"27b6562a-d52b-42b8-af30-d25b8525dad2\")>,\n",
       " <selenium.webdriver.remote.webelement.WebElement (session=\"b1cd00a1a6cb4ca574514b5a5666a392\", element=\"0f11d784-84d1-4f24-bc27-c379e28de9ce\")>,\n",
       " <selenium.webdriver.remote.webelement.WebElement (session=\"b1cd00a1a6cb4ca574514b5a5666a392\", element=\"6058234e-ca66-4957-8be3-8e473cfe7f5c\")>,\n",
       " <selenium.webdriver.remote.webelement.WebElement (session=\"b1cd00a1a6cb4ca574514b5a5666a392\", element=\"727a4a71-26d5-4075-920b-b32b46b1e4d0\")>,\n",
       " <selenium.webdriver.remote.webelement.WebElement (session=\"b1cd00a1a6cb4ca574514b5a5666a392\", element=\"b3b0b8c2-7d02-49db-9921-709d080a7fde\")>]"
      ]
     },
     "execution_count": 206,
     "metadata": {},
     "output_type": "execute_result"
    }
   ],
   "source": [
    "Location_tags=driver.find_elements_by_xpath(\"//li[@class='fleft grey-text br2 placeHolderLi location']//span\")\n",
    "Location_tags"
   ]
  },
  {
   "cell_type": "code",
   "execution_count": 207,
   "metadata": {},
   "outputs": [
    {
     "data": {
      "text/plain": [
       "['Mumbai, Hyderabad/Secunderabad, Pune, Gurgaon/Gurugram, Chennai, Bangalore/Bengaluru',\n",
       " 'Kolkata, Hyderabad/Secunderabad, Chennai, Bangalore/Bengaluru',\n",
       " 'Kochi/Cochin, Indore, Hyderabad/Secunderabad, Pune, Ahmedabad, Bangalore/Bengaluru, Mumbai (All Areas)',\n",
       " 'Bangalore/Bengaluru',\n",
       " 'Bangalore/Bengaluru',\n",
       " 'Bangalore/Bengaluru',\n",
       " 'Bangalore/Bengaluru',\n",
       " 'Bangalore/Bengaluru',\n",
       " 'Bangalore/Bengaluru',\n",
       " 'Hyderabad/Secunderabad, Bangalore/Bengaluru, Mumbai (All Areas)',\n",
       " 'Bangalore/Bengaluru',\n",
       " 'Bangalore/Bengaluru',\n",
       " 'Bangalore/Bengaluru, Delhi / NCR',\n",
       " 'Bangalore/Bengaluru',\n",
       " 'Bangalore/Bengaluru',\n",
       " 'Bangalore/Bengaluru',\n",
       " 'Bangalore/Bengaluru',\n",
       " 'Bangalore/Bengaluru',\n",
       " 'Bangalore/Bengaluru',\n",
       " 'Bangalore/Bengaluru']"
      ]
     },
     "execution_count": 207,
     "metadata": {},
     "output_type": "execute_result"
    }
   ],
   "source": [
    "Locations_list=[]\n",
    "for i in Location_tags:\n",
    "    Locations_list.append(i.text)\n",
    "Locations_list"
   ]
  },
  {
   "cell_type": "code",
   "execution_count": 208,
   "metadata": {},
   "outputs": [],
   "source": [
    "Jobs_=pd.DataFrame({})\n",
    "Jobs_['Title']=Job_titles\n",
    "Jobs_['Company']=Companies_names\n",
    "Jobs_['Experience_required']=Experience_list\n",
    "Jobs_['Location']=Locations_list"
   ]
  },
  {
   "cell_type": "code",
   "execution_count": 209,
   "metadata": {},
   "outputs": [
    {
     "data": {
      "text/html": [
       "<div>\n",
       "<style scoped>\n",
       "    .dataframe tbody tr th:only-of-type {\n",
       "        vertical-align: middle;\n",
       "    }\n",
       "\n",
       "    .dataframe tbody tr th {\n",
       "        vertical-align: top;\n",
       "    }\n",
       "\n",
       "    .dataframe thead th {\n",
       "        text-align: right;\n",
       "    }\n",
       "</style>\n",
       "<table border=\"1\" class=\"dataframe\">\n",
       "  <thead>\n",
       "    <tr style=\"text-align: right;\">\n",
       "      <th></th>\n",
       "      <th>Title</th>\n",
       "      <th>Company</th>\n",
       "      <th>Experience_required</th>\n",
       "      <th>Location</th>\n",
       "    </tr>\n",
       "  </thead>\n",
       "  <tbody>\n",
       "    <tr>\n",
       "      <th>0</th>\n",
       "      <td>Data Scientist / Data Analyst -Business Analyst</td>\n",
       "      <td>Inflexion Analytix Private Limited</td>\n",
       "      <td>0-3 Yrs</td>\n",
       "      <td>Mumbai, Hyderabad/Secunderabad, Pune, Gurgaon/...</td>\n",
       "    </tr>\n",
       "    <tr>\n",
       "      <th>1</th>\n",
       "      <td>Data Scientist</td>\n",
       "      <td>Wipro Limited</td>\n",
       "      <td>4-9 Yrs</td>\n",
       "      <td>Kolkata, Hyderabad/Secunderabad, Chennai, Bang...</td>\n",
       "    </tr>\n",
       "    <tr>\n",
       "      <th>2</th>\n",
       "      <td>Big Data - Data Scientist</td>\n",
       "      <td>Xoriant Solutions Pvt Ltd</td>\n",
       "      <td>1-3 Yrs</td>\n",
       "      <td>Kochi/Cochin, Indore, Hyderabad/Secunderabad, ...</td>\n",
       "    </tr>\n",
       "    <tr>\n",
       "      <th>3</th>\n",
       "      <td>Specialist I - Data Scientist</td>\n",
       "      <td>Philips India Limited</td>\n",
       "      <td>4-7 Yrs</td>\n",
       "      <td>Bangalore/Bengaluru</td>\n",
       "    </tr>\n",
       "    <tr>\n",
       "      <th>4</th>\n",
       "      <td>Lead Data Scientist</td>\n",
       "      <td>Intel Technology India Pvt Ltd</td>\n",
       "      <td>6-10 Yrs</td>\n",
       "      <td>Bangalore/Bengaluru</td>\n",
       "    </tr>\n",
       "    <tr>\n",
       "      <th>5</th>\n",
       "      <td>Data Scientist</td>\n",
       "      <td>Oracle India Pvt. Ltd.</td>\n",
       "      <td>6-10 Yrs</td>\n",
       "      <td>Bangalore/Bengaluru</td>\n",
       "    </tr>\n",
       "    <tr>\n",
       "      <th>6</th>\n",
       "      <td>Data Scientist</td>\n",
       "      <td>IBM India Pvt. Limited</td>\n",
       "      <td>6-8 Yrs</td>\n",
       "      <td>Bangalore/Bengaluru</td>\n",
       "    </tr>\n",
       "    <tr>\n",
       "      <th>7</th>\n",
       "      <td>SDE Lead Data Scientist-L3</td>\n",
       "      <td>Huawei Technologies India Pvt Ltd</td>\n",
       "      <td>5-8 Yrs</td>\n",
       "      <td>Bangalore/Bengaluru</td>\n",
       "    </tr>\n",
       "    <tr>\n",
       "      <th>8</th>\n",
       "      <td>Computational Design Lead Data Scientist-L3</td>\n",
       "      <td>Huawei Technologies India Pvt Ltd</td>\n",
       "      <td>5-8 Yrs</td>\n",
       "      <td>Bangalore/Bengaluru</td>\n",
       "    </tr>\n",
       "    <tr>\n",
       "      <th>9</th>\n",
       "      <td>Hiring For DATA Scientist - ON Contract Basis ...</td>\n",
       "      <td>GlobalEdx Learning and Technology Solution Pvt...</td>\n",
       "      <td>3-8 Yrs</td>\n",
       "      <td>Hyderabad/Secunderabad, Bangalore/Bengaluru, M...</td>\n",
       "    </tr>\n",
       "    <tr>\n",
       "      <th>10</th>\n",
       "      <td>Senior Data Scientist</td>\n",
       "      <td>GO-JEK India</td>\n",
       "      <td>4-11 Yrs</td>\n",
       "      <td>Bangalore/Bengaluru</td>\n",
       "    </tr>\n",
       "    <tr>\n",
       "      <th>11</th>\n",
       "      <td>Senior Data Scientist</td>\n",
       "      <td>nanobi data and analytics private limited</td>\n",
       "      <td>7-9 Yrs</td>\n",
       "      <td>Bangalore/Bengaluru</td>\n",
       "    </tr>\n",
       "    <tr>\n",
       "      <th>12</th>\n",
       "      <td>Sr. Data Scientist</td>\n",
       "      <td>VALIANCE ANALYTICS PRIVATE LIMITED</td>\n",
       "      <td>6-8 Yrs</td>\n",
       "      <td>Bangalore/Bengaluru, Delhi / NCR</td>\n",
       "    </tr>\n",
       "    <tr>\n",
       "      <th>13</th>\n",
       "      <td>Senior Data Scientist</td>\n",
       "      <td>BankBazaar.com (A&amp;A DUKAAN FINANCIAL SERVICES ...</td>\n",
       "      <td>5-7 Yrs</td>\n",
       "      <td>Bangalore/Bengaluru</td>\n",
       "    </tr>\n",
       "    <tr>\n",
       "      <th>14</th>\n",
       "      <td>Senior Associate/Team Lead - Data Scientist Co...</td>\n",
       "      <td>Analytics India Magazine</td>\n",
       "      <td>3-5 Yrs</td>\n",
       "      <td>Bangalore/Bengaluru</td>\n",
       "    </tr>\n",
       "    <tr>\n",
       "      <th>15</th>\n",
       "      <td>Senior Data Scientist</td>\n",
       "      <td>Gojek Tech</td>\n",
       "      <td>3-7 Yrs</td>\n",
       "      <td>Bangalore/Bengaluru</td>\n",
       "    </tr>\n",
       "    <tr>\n",
       "      <th>16</th>\n",
       "      <td>Data Scientist</td>\n",
       "      <td>Applied Materials</td>\n",
       "      <td>2-4 Yrs</td>\n",
       "      <td>Bangalore/Bengaluru</td>\n",
       "    </tr>\n",
       "    <tr>\n",
       "      <th>17</th>\n",
       "      <td>Sr Data Scientist, Payments</td>\n",
       "      <td>AIRBNB GLOBAL CAPABILITY CENTER PRIVATE LIMITED</td>\n",
       "      <td>4-9 Yrs</td>\n",
       "      <td>Bangalore/Bengaluru</td>\n",
       "    </tr>\n",
       "    <tr>\n",
       "      <th>18</th>\n",
       "      <td>Hiring For Lead data Scientist For Bangalore l...</td>\n",
       "      <td>Societe Generale</td>\n",
       "      <td>5-9 Yrs</td>\n",
       "      <td>Bangalore/Bengaluru</td>\n",
       "    </tr>\n",
       "    <tr>\n",
       "      <th>19</th>\n",
       "      <td>Principal Data Scientist</td>\n",
       "      <td>NetApp</td>\n",
       "      <td>10-15 Yrs</td>\n",
       "      <td>Bangalore/Bengaluru</td>\n",
       "    </tr>\n",
       "  </tbody>\n",
       "</table>\n",
       "</div>"
      ],
      "text/plain": [
       "                                                Title  \\\n",
       "0     Data Scientist / Data Analyst -Business Analyst   \n",
       "1                                      Data Scientist   \n",
       "2                           Big Data - Data Scientist   \n",
       "3                       Specialist I - Data Scientist   \n",
       "4                                 Lead Data Scientist   \n",
       "5                                      Data Scientist   \n",
       "6                                      Data Scientist   \n",
       "7                          SDE Lead Data Scientist-L3   \n",
       "8         Computational Design Lead Data Scientist-L3   \n",
       "9   Hiring For DATA Scientist - ON Contract Basis ...   \n",
       "10                              Senior Data Scientist   \n",
       "11                              Senior Data Scientist   \n",
       "12                                 Sr. Data Scientist   \n",
       "13                              Senior Data Scientist   \n",
       "14  Senior Associate/Team Lead - Data Scientist Co...   \n",
       "15                              Senior Data Scientist   \n",
       "16                                     Data Scientist   \n",
       "17                        Sr Data Scientist, Payments   \n",
       "18  Hiring For Lead data Scientist For Bangalore l...   \n",
       "19                           Principal Data Scientist   \n",
       "\n",
       "                                              Company Experience_required  \\\n",
       "0                  Inflexion Analytix Private Limited             0-3 Yrs   \n",
       "1                                       Wipro Limited             4-9 Yrs   \n",
       "2                           Xoriant Solutions Pvt Ltd             1-3 Yrs   \n",
       "3                               Philips India Limited             4-7 Yrs   \n",
       "4                      Intel Technology India Pvt Ltd            6-10 Yrs   \n",
       "5                              Oracle India Pvt. Ltd.            6-10 Yrs   \n",
       "6                              IBM India Pvt. Limited             6-8 Yrs   \n",
       "7                   Huawei Technologies India Pvt Ltd             5-8 Yrs   \n",
       "8                   Huawei Technologies India Pvt Ltd             5-8 Yrs   \n",
       "9   GlobalEdx Learning and Technology Solution Pvt...             3-8 Yrs   \n",
       "10                                       GO-JEK India            4-11 Yrs   \n",
       "11          nanobi data and analytics private limited             7-9 Yrs   \n",
       "12                 VALIANCE ANALYTICS PRIVATE LIMITED             6-8 Yrs   \n",
       "13  BankBazaar.com (A&A DUKAAN FINANCIAL SERVICES ...             5-7 Yrs   \n",
       "14                           Analytics India Magazine             3-5 Yrs   \n",
       "15                                         Gojek Tech             3-7 Yrs   \n",
       "16                                  Applied Materials             2-4 Yrs   \n",
       "17    AIRBNB GLOBAL CAPABILITY CENTER PRIVATE LIMITED             4-9 Yrs   \n",
       "18                                   Societe Generale             5-9 Yrs   \n",
       "19                                             NetApp           10-15 Yrs   \n",
       "\n",
       "                                             Location  \n",
       "0   Mumbai, Hyderabad/Secunderabad, Pune, Gurgaon/...  \n",
       "1   Kolkata, Hyderabad/Secunderabad, Chennai, Bang...  \n",
       "2   Kochi/Cochin, Indore, Hyderabad/Secunderabad, ...  \n",
       "3                                 Bangalore/Bengaluru  \n",
       "4                                 Bangalore/Bengaluru  \n",
       "5                                 Bangalore/Bengaluru  \n",
       "6                                 Bangalore/Bengaluru  \n",
       "7                                 Bangalore/Bengaluru  \n",
       "8                                 Bangalore/Bengaluru  \n",
       "9   Hyderabad/Secunderabad, Bangalore/Bengaluru, M...  \n",
       "10                                Bangalore/Bengaluru  \n",
       "11                                Bangalore/Bengaluru  \n",
       "12                   Bangalore/Bengaluru, Delhi / NCR  \n",
       "13                                Bangalore/Bengaluru  \n",
       "14                                Bangalore/Bengaluru  \n",
       "15                                Bangalore/Bengaluru  \n",
       "16                                Bangalore/Bengaluru  \n",
       "17                                Bangalore/Bengaluru  \n",
       "18                                Bangalore/Bengaluru  \n",
       "19                                Bangalore/Bengaluru  "
      ]
     },
     "execution_count": 209,
     "metadata": {},
     "output_type": "execute_result"
    }
   ],
   "source": [
    "Jobs_"
   ]
  },
  {
   "cell_type": "code",
   "execution_count": 210,
   "metadata": {},
   "outputs": [],
   "source": [
    "driver.close()"
   ]
  },
  {
   "cell_type": "markdown",
   "metadata": {},
   "source": [
    "# ques 3"
   ]
  },
  {
   "cell_type": "code",
   "execution_count": 239,
   "metadata": {},
   "outputs": [],
   "source": [
    "driver=webdriver.Chrome(r\"C:\\Users\\DELL\\Downloads\\chromedriver\")"
   ]
  },
  {
   "cell_type": "code",
   "execution_count": 240,
   "metadata": {},
   "outputs": [],
   "source": [
    "url= 'https://www.naukri.com/'\n",
    "driver.get(url)"
   ]
  },
  {
   "cell_type": "code",
   "execution_count": 246,
   "metadata": {},
   "outputs": [
    {
     "data": {
      "text/plain": [
       "<selenium.webdriver.remote.webelement.WebElement (session=\"d3b05e6c1f3bcf99a8eb744f997a5cb1\", element=\"40fe46e4-8c87-4814-a462-0a557ad932be\")>"
      ]
     },
     "execution_count": 246,
     "metadata": {},
     "output_type": "execute_result"
    }
   ],
   "source": [
    "SEARCH_jobs=driver.find_element_by_id(\"qsb-keyword-sugg\")\n",
    "SEARCH_jobs"
   ]
  },
  {
   "cell_type": "code",
   "execution_count": 247,
   "metadata": {},
   "outputs": [],
   "source": [
    "SEARCH_jobs.send_keys('Data Scientist')"
   ]
  },
  {
   "cell_type": "code",
   "execution_count": 248,
   "metadata": {},
   "outputs": [],
   "source": [
    "search_loc=driver.find_element_by_id(\"qsb-location-sugg\")\n",
    "search_loc.send_keys(\"Delhi/NCR\")"
   ]
  },
  {
   "cell_type": "code",
   "execution_count": 249,
   "metadata": {},
   "outputs": [],
   "source": [
    "search_btn=driver.find_element_by_xpath(\"//button[@class='btn']\")\n",
    "search_btn.click()"
   ]
  },
  {
   "cell_type": "code",
   "execution_count": 250,
   "metadata": {},
   "outputs": [
    {
     "data": {
      "text/plain": [
       "[<selenium.webdriver.remote.webelement.WebElement (session=\"d3b05e6c1f3bcf99a8eb744f997a5cb1\", element=\"ce668b0f-f9f7-4893-b4b9-342666012670\")>,\n",
       " <selenium.webdriver.remote.webelement.WebElement (session=\"d3b05e6c1f3bcf99a8eb744f997a5cb1\", element=\"b5075af5-0050-43ea-9287-8d5ae14b9b8c\")>,\n",
       " <selenium.webdriver.remote.webelement.WebElement (session=\"d3b05e6c1f3bcf99a8eb744f997a5cb1\", element=\"c1245e7a-3b9a-4b9e-a5a9-6d43803e3285\")>,\n",
       " <selenium.webdriver.remote.webelement.WebElement (session=\"d3b05e6c1f3bcf99a8eb744f997a5cb1\", element=\"8c5c8464-fef2-4787-bc4f-b7eebbbc8d89\")>,\n",
       " <selenium.webdriver.remote.webelement.WebElement (session=\"d3b05e6c1f3bcf99a8eb744f997a5cb1\", element=\"334ce1a2-0f5b-4108-b207-cfa3f5335cde\")>,\n",
       " <selenium.webdriver.remote.webelement.WebElement (session=\"d3b05e6c1f3bcf99a8eb744f997a5cb1\", element=\"275f2b8a-e874-457e-8814-5669ee881839\")>,\n",
       " <selenium.webdriver.remote.webelement.WebElement (session=\"d3b05e6c1f3bcf99a8eb744f997a5cb1\", element=\"163c9687-4e73-4b84-b166-45db3345cbf9\")>,\n",
       " <selenium.webdriver.remote.webelement.WebElement (session=\"d3b05e6c1f3bcf99a8eb744f997a5cb1\", element=\"259d5b6a-81fc-4344-a308-1880838aedb0\")>,\n",
       " <selenium.webdriver.remote.webelement.WebElement (session=\"d3b05e6c1f3bcf99a8eb744f997a5cb1\", element=\"d7cb509a-66ca-4865-9cee-06fc4a3e0619\")>,\n",
       " <selenium.webdriver.remote.webelement.WebElement (session=\"d3b05e6c1f3bcf99a8eb744f997a5cb1\", element=\"1714451d-7ea1-4cd6-8d66-dc3c5c0ab4c1\")>,\n",
       " <selenium.webdriver.remote.webelement.WebElement (session=\"d3b05e6c1f3bcf99a8eb744f997a5cb1\", element=\"0ae171e7-6948-46b4-a793-54c889d5264e\")>,\n",
       " <selenium.webdriver.remote.webelement.WebElement (session=\"d3b05e6c1f3bcf99a8eb744f997a5cb1\", element=\"ca5e5bbf-afb6-4568-9341-1b56aa760158\")>,\n",
       " <selenium.webdriver.remote.webelement.WebElement (session=\"d3b05e6c1f3bcf99a8eb744f997a5cb1\", element=\"1025578f-dcf1-4d5c-939e-263ab3c9928a\")>,\n",
       " <selenium.webdriver.remote.webelement.WebElement (session=\"d3b05e6c1f3bcf99a8eb744f997a5cb1\", element=\"cc5aae23-b5a5-4bec-b1eb-1d6f4e4461e8\")>,\n",
       " <selenium.webdriver.remote.webelement.WebElement (session=\"d3b05e6c1f3bcf99a8eb744f997a5cb1\", element=\"8b1cc120-cdcb-4a73-945b-131705c70369\")>,\n",
       " <selenium.webdriver.remote.webelement.WebElement (session=\"d3b05e6c1f3bcf99a8eb744f997a5cb1\", element=\"7fcc3c91-9901-4851-b818-cb1db1ac06cd\")>,\n",
       " <selenium.webdriver.remote.webelement.WebElement (session=\"d3b05e6c1f3bcf99a8eb744f997a5cb1\", element=\"fe8191a4-2ecb-4275-ab79-79a677eec228\")>,\n",
       " <selenium.webdriver.remote.webelement.WebElement (session=\"d3b05e6c1f3bcf99a8eb744f997a5cb1\", element=\"c50175d7-03b2-4ec6-9ef3-99e173987625\")>,\n",
       " <selenium.webdriver.remote.webelement.WebElement (session=\"d3b05e6c1f3bcf99a8eb744f997a5cb1\", element=\"53d40258-89fa-4b0b-bb34-c706271b8224\")>,\n",
       " <selenium.webdriver.remote.webelement.WebElement (session=\"d3b05e6c1f3bcf99a8eb744f997a5cb1\", element=\"7b3b5b10-a410-4228-a706-e3bef6ff41df\")>]"
      ]
     },
     "execution_count": 250,
     "metadata": {},
     "output_type": "execute_result"
    }
   ],
   "source": [
    "title_tags=driver.find_elements_by_xpath(\"//a[@class='title fw500 ellipsis']\")\n",
    "title_tags"
   ]
  },
  {
   "cell_type": "code",
   "execution_count": 251,
   "metadata": {},
   "outputs": [
    {
     "data": {
      "text/plain": [
       "['Data Scientist / Data Analyst -Business Analyst',\n",
       " 'Senior Data Scientist',\n",
       " 'Sr. Data Scientist - AutoML',\n",
       " 'Sr. Data Scientist',\n",
       " 'Data Scientist',\n",
       " 'Business Analyst- Data Scientist',\n",
       " 'CBTS is hiring Data Scientist',\n",
       " 'Data Scientist - High growth VC backed Influencer Marketplace',\n",
       " 'Senior data scientist',\n",
       " 'Senior Data Scientist - Mobile Application',\n",
       " 'Data Engineer/Data Scientist/Data Analysis',\n",
       " 'Data Engineer/Data Scientist/Data Analysis',\n",
       " 'Data Scientist',\n",
       " 'Data Scientist',\n",
       " 'Data Scientist For an AI Product (Work from Home)',\n",
       " 'Data Scientist',\n",
       " 'Driveline Data Scientist',\n",
       " 'DATA Scientist – Gurgaon (Exp 3-6 years)',\n",
       " 'DATA Scientist – Gurgaon (Exp 3-6 years)',\n",
       " 'Data Scientist - Noida']"
      ]
     },
     "execution_count": 251,
     "metadata": {},
     "output_type": "execute_result"
    }
   ],
   "source": [
    "job_titles=[]\n",
    "for i in title_tags:\n",
    "    job_titles.append(i.text)\n",
    "job_titles"
   ]
  },
  {
   "cell_type": "code",
   "execution_count": 252,
   "metadata": {},
   "outputs": [
    {
     "data": {
      "text/plain": [
       "[<selenium.webdriver.remote.webelement.WebElement (session=\"d3b05e6c1f3bcf99a8eb744f997a5cb1\", element=\"ce668b0f-f9f7-4893-b4b9-342666012670\")>,\n",
       " <selenium.webdriver.remote.webelement.WebElement (session=\"d3b05e6c1f3bcf99a8eb744f997a5cb1\", element=\"b5075af5-0050-43ea-9287-8d5ae14b9b8c\")>,\n",
       " <selenium.webdriver.remote.webelement.WebElement (session=\"d3b05e6c1f3bcf99a8eb744f997a5cb1\", element=\"c1245e7a-3b9a-4b9e-a5a9-6d43803e3285\")>,\n",
       " <selenium.webdriver.remote.webelement.WebElement (session=\"d3b05e6c1f3bcf99a8eb744f997a5cb1\", element=\"8c5c8464-fef2-4787-bc4f-b7eebbbc8d89\")>,\n",
       " <selenium.webdriver.remote.webelement.WebElement (session=\"d3b05e6c1f3bcf99a8eb744f997a5cb1\", element=\"334ce1a2-0f5b-4108-b207-cfa3f5335cde\")>,\n",
       " <selenium.webdriver.remote.webelement.WebElement (session=\"d3b05e6c1f3bcf99a8eb744f997a5cb1\", element=\"275f2b8a-e874-457e-8814-5669ee881839\")>,\n",
       " <selenium.webdriver.remote.webelement.WebElement (session=\"d3b05e6c1f3bcf99a8eb744f997a5cb1\", element=\"163c9687-4e73-4b84-b166-45db3345cbf9\")>,\n",
       " <selenium.webdriver.remote.webelement.WebElement (session=\"d3b05e6c1f3bcf99a8eb744f997a5cb1\", element=\"259d5b6a-81fc-4344-a308-1880838aedb0\")>,\n",
       " <selenium.webdriver.remote.webelement.WebElement (session=\"d3b05e6c1f3bcf99a8eb744f997a5cb1\", element=\"d7cb509a-66ca-4865-9cee-06fc4a3e0619\")>,\n",
       " <selenium.webdriver.remote.webelement.WebElement (session=\"d3b05e6c1f3bcf99a8eb744f997a5cb1\", element=\"1714451d-7ea1-4cd6-8d66-dc3c5c0ab4c1\")>,\n",
       " <selenium.webdriver.remote.webelement.WebElement (session=\"d3b05e6c1f3bcf99a8eb744f997a5cb1\", element=\"0ae171e7-6948-46b4-a793-54c889d5264e\")>,\n",
       " <selenium.webdriver.remote.webelement.WebElement (session=\"d3b05e6c1f3bcf99a8eb744f997a5cb1\", element=\"ca5e5bbf-afb6-4568-9341-1b56aa760158\")>,\n",
       " <selenium.webdriver.remote.webelement.WebElement (session=\"d3b05e6c1f3bcf99a8eb744f997a5cb1\", element=\"1025578f-dcf1-4d5c-939e-263ab3c9928a\")>,\n",
       " <selenium.webdriver.remote.webelement.WebElement (session=\"d3b05e6c1f3bcf99a8eb744f997a5cb1\", element=\"cc5aae23-b5a5-4bec-b1eb-1d6f4e4461e8\")>,\n",
       " <selenium.webdriver.remote.webelement.WebElement (session=\"d3b05e6c1f3bcf99a8eb744f997a5cb1\", element=\"8b1cc120-cdcb-4a73-945b-131705c70369\")>,\n",
       " <selenium.webdriver.remote.webelement.WebElement (session=\"d3b05e6c1f3bcf99a8eb744f997a5cb1\", element=\"7fcc3c91-9901-4851-b818-cb1db1ac06cd\")>,\n",
       " <selenium.webdriver.remote.webelement.WebElement (session=\"d3b05e6c1f3bcf99a8eb744f997a5cb1\", element=\"fe8191a4-2ecb-4275-ab79-79a677eec228\")>,\n",
       " <selenium.webdriver.remote.webelement.WebElement (session=\"d3b05e6c1f3bcf99a8eb744f997a5cb1\", element=\"c50175d7-03b2-4ec6-9ef3-99e173987625\")>,\n",
       " <selenium.webdriver.remote.webelement.WebElement (session=\"d3b05e6c1f3bcf99a8eb744f997a5cb1\", element=\"53d40258-89fa-4b0b-bb34-c706271b8224\")>,\n",
       " <selenium.webdriver.remote.webelement.WebElement (session=\"d3b05e6c1f3bcf99a8eb744f997a5cb1\", element=\"7b3b5b10-a410-4228-a706-e3bef6ff41df\")>]"
      ]
     },
     "execution_count": 252,
     "metadata": {},
     "output_type": "execute_result"
    }
   ],
   "source": [
    "companies_tags=driver.find_elements_by_xpath(\"//a[@class='title fw500 ellipsis']\")\n",
    "companies_tags"
   ]
  },
  {
   "cell_type": "code",
   "execution_count": 255,
   "metadata": {},
   "outputs": [
    {
     "data": {
      "text/plain": [
       "['Data Scientist / Data Analyst -Business Analyst',\n",
       " 'Senior Data Scientist',\n",
       " 'Sr. Data Scientist - AutoML',\n",
       " 'Sr. Data Scientist',\n",
       " 'Data Scientist',\n",
       " 'Business Analyst- Data Scientist',\n",
       " 'CBTS is hiring Data Scientist',\n",
       " 'Data Scientist - High growth VC backed Influencer Marketplace',\n",
       " 'Senior data scientist',\n",
       " 'Senior Data Scientist - Mobile Application',\n",
       " 'Data Engineer/Data Scientist/Data Analysis',\n",
       " 'Data Engineer/Data Scientist/Data Analysis',\n",
       " 'Data Scientist',\n",
       " 'Data Scientist',\n",
       " 'Data Scientist For an AI Product (Work from Home)',\n",
       " 'Data Scientist',\n",
       " 'Driveline Data Scientist',\n",
       " 'DATA Scientist – Gurgaon (Exp 3-6 years)',\n",
       " 'DATA Scientist – Gurgaon (Exp 3-6 years)',\n",
       " 'Data Scientist - Noida']"
      ]
     },
     "execution_count": 255,
     "metadata": {},
     "output_type": "execute_result"
    }
   ],
   "source": [
    "companies_names=[]\n",
    "for i in companies_tags:\n",
    "    companies_names.append(i.text)\n",
    "companies_names"
   ]
  },
  {
   "cell_type": "code",
   "execution_count": 256,
   "metadata": {},
   "outputs": [
    {
     "data": {
      "text/plain": [
       "[<selenium.webdriver.remote.webelement.WebElement (session=\"d3b05e6c1f3bcf99a8eb744f997a5cb1\", element=\"4030cba1-a2fb-465e-9879-80e1c45e2e15\")>,\n",
       " <selenium.webdriver.remote.webelement.WebElement (session=\"d3b05e6c1f3bcf99a8eb744f997a5cb1\", element=\"e560f44a-87ad-43ec-9f68-2b7d807f1085\")>,\n",
       " <selenium.webdriver.remote.webelement.WebElement (session=\"d3b05e6c1f3bcf99a8eb744f997a5cb1\", element=\"4cd95353-2467-4cd9-83cc-80b155dc73ee\")>,\n",
       " <selenium.webdriver.remote.webelement.WebElement (session=\"d3b05e6c1f3bcf99a8eb744f997a5cb1\", element=\"19f0c523-c832-41a9-ba27-bc04ff8fa205\")>,\n",
       " <selenium.webdriver.remote.webelement.WebElement (session=\"d3b05e6c1f3bcf99a8eb744f997a5cb1\", element=\"a0838364-59ee-49a2-8121-3da5751313d8\")>,\n",
       " <selenium.webdriver.remote.webelement.WebElement (session=\"d3b05e6c1f3bcf99a8eb744f997a5cb1\", element=\"7139ffd3-44e1-415b-a3fc-5dd310c20ada\")>,\n",
       " <selenium.webdriver.remote.webelement.WebElement (session=\"d3b05e6c1f3bcf99a8eb744f997a5cb1\", element=\"7ffe9495-1fbb-412a-9524-46b62111cded\")>,\n",
       " <selenium.webdriver.remote.webelement.WebElement (session=\"d3b05e6c1f3bcf99a8eb744f997a5cb1\", element=\"73046657-5fdb-40d8-b8bd-379c786a4b68\")>,\n",
       " <selenium.webdriver.remote.webelement.WebElement (session=\"d3b05e6c1f3bcf99a8eb744f997a5cb1\", element=\"56b1745b-447d-4fdd-a319-082baf6e36fe\")>,\n",
       " <selenium.webdriver.remote.webelement.WebElement (session=\"d3b05e6c1f3bcf99a8eb744f997a5cb1\", element=\"f34cc70f-6a60-46a4-be1e-e5659eb6d2e3\")>,\n",
       " <selenium.webdriver.remote.webelement.WebElement (session=\"d3b05e6c1f3bcf99a8eb744f997a5cb1\", element=\"57999e2a-0276-4072-9f63-0e9f968ae6e9\")>,\n",
       " <selenium.webdriver.remote.webelement.WebElement (session=\"d3b05e6c1f3bcf99a8eb744f997a5cb1\", element=\"a27b3651-19f0-49ba-8905-207e8138cedc\")>,\n",
       " <selenium.webdriver.remote.webelement.WebElement (session=\"d3b05e6c1f3bcf99a8eb744f997a5cb1\", element=\"da7c63de-242c-42f8-8b22-76d6151f3ad3\")>,\n",
       " <selenium.webdriver.remote.webelement.WebElement (session=\"d3b05e6c1f3bcf99a8eb744f997a5cb1\", element=\"82b05b4a-4c62-469f-9ac7-7ba331618d26\")>,\n",
       " <selenium.webdriver.remote.webelement.WebElement (session=\"d3b05e6c1f3bcf99a8eb744f997a5cb1\", element=\"913fbc1f-aced-48b1-a297-1c801213743f\")>,\n",
       " <selenium.webdriver.remote.webelement.WebElement (session=\"d3b05e6c1f3bcf99a8eb744f997a5cb1\", element=\"aad90b3d-6b12-4f2e-bd9c-49a96c33c167\")>,\n",
       " <selenium.webdriver.remote.webelement.WebElement (session=\"d3b05e6c1f3bcf99a8eb744f997a5cb1\", element=\"e9b170cc-7250-4048-8ae7-f44f4cc1a8c8\")>,\n",
       " <selenium.webdriver.remote.webelement.WebElement (session=\"d3b05e6c1f3bcf99a8eb744f997a5cb1\", element=\"05c952c5-4626-448b-b0d6-ae31d3bc72f9\")>,\n",
       " <selenium.webdriver.remote.webelement.WebElement (session=\"d3b05e6c1f3bcf99a8eb744f997a5cb1\", element=\"a21daa89-77cf-45c7-b05a-56781b6b8f3f\")>,\n",
       " <selenium.webdriver.remote.webelement.WebElement (session=\"d3b05e6c1f3bcf99a8eb744f997a5cb1\", element=\"a926ee7f-626d-476f-b78f-b264480620a8\")>]"
      ]
     },
     "execution_count": 256,
     "metadata": {},
     "output_type": "execute_result"
    }
   ],
   "source": [
    "salary_tags=driver.find_elements_by_xpath(\"//li[@class='fleft grey-text br2 placeHolderLi salary']//span\")\n",
    "salary_tags"
   ]
  },
  {
   "cell_type": "code",
   "execution_count": 257,
   "metadata": {},
   "outputs": [
    {
     "data": {
      "text/plain": [
       "['3,50,000 - 4,50,000 PA.',\n",
       " 'Not disclosed',\n",
       " 'Not disclosed',\n",
       " '20,00,000 - 35,00,000 PA.',\n",
       " 'Not disclosed',\n",
       " '3,50,000 - 6,50,000 PA.',\n",
       " 'Not disclosed',\n",
       " '5,00,000 - 6,00,000 PA.',\n",
       " 'Not disclosed',\n",
       " 'Not disclosed',\n",
       " 'Not disclosed',\n",
       " 'Not disclosed',\n",
       " '10,00,000 - 20,00,000 PA.',\n",
       " '10,00,000 - 20,00,000 PA.',\n",
       " '8,00,000 - 12,00,000 PA.',\n",
       " 'Not disclosed',\n",
       " 'Not disclosed',\n",
       " '5,00,000 - 9,00,000 PA.',\n",
       " '5,00,000 - 8,00,000 PA.',\n",
       " 'Not disclosed']"
      ]
     },
     "execution_count": 257,
     "metadata": {},
     "output_type": "execute_result"
    }
   ],
   "source": [
    "salary_list=[]\n",
    "for i in salary_tags:\n",
    "    salary_list.append(i.text)\n",
    "salary_list"
   ]
  },
  {
   "cell_type": "code",
   "execution_count": 259,
   "metadata": {},
   "outputs": [
    {
     "data": {
      "text/plain": [
       "[<selenium.webdriver.remote.webelement.WebElement (session=\"d3b05e6c1f3bcf99a8eb744f997a5cb1\", element=\"818479bd-c0a8-489c-99ae-ac8c07630604\")>,\n",
       " <selenium.webdriver.remote.webelement.WebElement (session=\"d3b05e6c1f3bcf99a8eb744f997a5cb1\", element=\"9736e186-109d-4c5a-a768-8e7f0830f53a\")>,\n",
       " <selenium.webdriver.remote.webelement.WebElement (session=\"d3b05e6c1f3bcf99a8eb744f997a5cb1\", element=\"d4f00eae-3e54-4839-82db-cc53d3770f87\")>,\n",
       " <selenium.webdriver.remote.webelement.WebElement (session=\"d3b05e6c1f3bcf99a8eb744f997a5cb1\", element=\"1e358bd6-1c25-49be-bc37-5f2224db33a5\")>,\n",
       " <selenium.webdriver.remote.webelement.WebElement (session=\"d3b05e6c1f3bcf99a8eb744f997a5cb1\", element=\"868541ec-4487-4fe5-9b26-f61a020ca88d\")>,\n",
       " <selenium.webdriver.remote.webelement.WebElement (session=\"d3b05e6c1f3bcf99a8eb744f997a5cb1\", element=\"1a843738-48fc-4804-888f-24ff4f754670\")>,\n",
       " <selenium.webdriver.remote.webelement.WebElement (session=\"d3b05e6c1f3bcf99a8eb744f997a5cb1\", element=\"07d55f78-8c96-4057-b087-c6e925cb98a7\")>,\n",
       " <selenium.webdriver.remote.webelement.WebElement (session=\"d3b05e6c1f3bcf99a8eb744f997a5cb1\", element=\"21e5536a-366a-4625-ae16-a963d42f2fae\")>,\n",
       " <selenium.webdriver.remote.webelement.WebElement (session=\"d3b05e6c1f3bcf99a8eb744f997a5cb1\", element=\"254969af-938d-4512-8024-d93c900089d3\")>,\n",
       " <selenium.webdriver.remote.webelement.WebElement (session=\"d3b05e6c1f3bcf99a8eb744f997a5cb1\", element=\"65472712-6013-47ab-aa28-699ac2b4685c\")>,\n",
       " <selenium.webdriver.remote.webelement.WebElement (session=\"d3b05e6c1f3bcf99a8eb744f997a5cb1\", element=\"21d79e05-f123-475c-be52-0769b56ad09b\")>,\n",
       " <selenium.webdriver.remote.webelement.WebElement (session=\"d3b05e6c1f3bcf99a8eb744f997a5cb1\", element=\"b0b5b6fe-6b6e-4787-8d57-f1a22bd1f4bb\")>,\n",
       " <selenium.webdriver.remote.webelement.WebElement (session=\"d3b05e6c1f3bcf99a8eb744f997a5cb1\", element=\"65ad6615-9f7a-43b5-8cc8-e03f06aff38e\")>,\n",
       " <selenium.webdriver.remote.webelement.WebElement (session=\"d3b05e6c1f3bcf99a8eb744f997a5cb1\", element=\"f126cc60-8ad7-43e6-bf3f-4f4c34bd22e4\")>,\n",
       " <selenium.webdriver.remote.webelement.WebElement (session=\"d3b05e6c1f3bcf99a8eb744f997a5cb1\", element=\"cc146af2-5cf6-4228-a977-6a4c8b14a1a1\")>,\n",
       " <selenium.webdriver.remote.webelement.WebElement (session=\"d3b05e6c1f3bcf99a8eb744f997a5cb1\", element=\"4447ef98-c685-411d-abfb-38959db9cfc7\")>,\n",
       " <selenium.webdriver.remote.webelement.WebElement (session=\"d3b05e6c1f3bcf99a8eb744f997a5cb1\", element=\"8395ce0d-4ded-4c36-9e34-5b0139e55966\")>,\n",
       " <selenium.webdriver.remote.webelement.WebElement (session=\"d3b05e6c1f3bcf99a8eb744f997a5cb1\", element=\"70571e3a-9336-416b-ad75-6edca8d5511a\")>,\n",
       " <selenium.webdriver.remote.webelement.WebElement (session=\"d3b05e6c1f3bcf99a8eb744f997a5cb1\", element=\"2b48d660-32b8-4209-b96f-df3509f0e1bf\")>,\n",
       " <selenium.webdriver.remote.webelement.WebElement (session=\"d3b05e6c1f3bcf99a8eb744f997a5cb1\", element=\"e3c62e20-8799-4b11-83de-e99ffb36d0ae\")>]"
      ]
     },
     "execution_count": 259,
     "metadata": {},
     "output_type": "execute_result"
    }
   ],
   "source": [
    "location_tags=driver.find_elements_by_xpath(\"//li[@class='fleft grey-text br2 placeHolderLi location']//span\")\n",
    "location_tags"
   ]
  },
  {
   "cell_type": "code",
   "execution_count": 261,
   "metadata": {},
   "outputs": [
    {
     "data": {
      "text/plain": [
       "['Mumbai, Hyderabad/Secunderabad, Pune, Gurgaon/Gurugram, Chennai, Bangalore/Bengaluru',\n",
       " 'Gurgaon/Gurugram, Chennai',\n",
       " 'Gurgaon/Gurugram',\n",
       " 'Bangalore/Bengaluru, Delhi / NCR',\n",
       " 'Mumbai, Gurgaon/Gurugram',\n",
       " 'Noida, Gurgaon/Gurugram',\n",
       " 'Chennai, Bangalore/Bengaluru, Delhi / NCR, Mumbai (All Areas)',\n",
       " 'Bangalore/Bengaluru, Delhi / NCR, Mumbai (All Areas)',\n",
       " 'Gurgaon/Gurugram',\n",
       " 'Gurgaon/Gurugram',\n",
       " 'Noida, Chandigarh, Indore, Gurgaon/Gurugram, Ahmedabad, Jaipur, Bangalore/Bengaluru, Delhi / NCR, Mumbai (All Areas)',\n",
       " 'Noida, Chandigarh, Indore, Gurgaon/Gurugram, Ahmedabad, Jaipur, Bangalore/Bengaluru, Delhi / NCR, Mumbai (All Areas)',\n",
       " 'Mumbai, Gurgaon/Gurugram, Bangalore/Bengaluru',\n",
       " 'Mumbai, Gurgaon/Gurugram, Bangalore/Bengaluru',\n",
       " 'Kolkata, Hyderabad/Secunderabad, Pune, Chennai, Bangalore/Bengaluru, Delhi / NCR, Mumbai (All Areas)',\n",
       " 'Gurgaon/Gurugram',\n",
       " 'Gurgaon/Gurugram, Delhi / NCR',\n",
       " 'Gurgaon/Gurugram, Delhi / NCR',\n",
       " 'Gurgaon/Gurugram, Delhi / NCR',\n",
       " 'Noida']"
      ]
     },
     "execution_count": 261,
     "metadata": {},
     "output_type": "execute_result"
    }
   ],
   "source": [
    "location_list=[]\n",
    "for i in location_tags:\n",
    "    location_list.append(i.text)\n",
    "location_list"
   ]
  },
  {
   "cell_type": "code",
   "execution_count": 262,
   "metadata": {},
   "outputs": [],
   "source": [
    "JOBS=pd.DataFrame({})\n",
    "JOBS['title']=job_titles\n",
    "JOBS['company']=companies_names\n",
    "JOBS['salary']=salary_list\n",
    "JOBS['location']=location_list"
   ]
  },
  {
   "cell_type": "code",
   "execution_count": 263,
   "metadata": {},
   "outputs": [
    {
     "data": {
      "text/html": [
       "<div>\n",
       "<style scoped>\n",
       "    .dataframe tbody tr th:only-of-type {\n",
       "        vertical-align: middle;\n",
       "    }\n",
       "\n",
       "    .dataframe tbody tr th {\n",
       "        vertical-align: top;\n",
       "    }\n",
       "\n",
       "    .dataframe thead th {\n",
       "        text-align: right;\n",
       "    }\n",
       "</style>\n",
       "<table border=\"1\" class=\"dataframe\">\n",
       "  <thead>\n",
       "    <tr style=\"text-align: right;\">\n",
       "      <th></th>\n",
       "      <th>title</th>\n",
       "      <th>company</th>\n",
       "      <th>salary</th>\n",
       "      <th>location</th>\n",
       "    </tr>\n",
       "  </thead>\n",
       "  <tbody>\n",
       "    <tr>\n",
       "      <th>0</th>\n",
       "      <td>Data Scientist / Data Analyst -Business Analyst</td>\n",
       "      <td>Data Scientist / Data Analyst -Business Analyst</td>\n",
       "      <td>3,50,000 - 4,50,000 PA.</td>\n",
       "      <td>Mumbai, Hyderabad/Secunderabad, Pune, Gurgaon/...</td>\n",
       "    </tr>\n",
       "    <tr>\n",
       "      <th>1</th>\n",
       "      <td>Senior Data Scientist</td>\n",
       "      <td>Senior Data Scientist</td>\n",
       "      <td>Not disclosed</td>\n",
       "      <td>Gurgaon/Gurugram, Chennai</td>\n",
       "    </tr>\n",
       "    <tr>\n",
       "      <th>2</th>\n",
       "      <td>Sr. Data Scientist - AutoML</td>\n",
       "      <td>Sr. Data Scientist - AutoML</td>\n",
       "      <td>Not disclosed</td>\n",
       "      <td>Gurgaon/Gurugram</td>\n",
       "    </tr>\n",
       "    <tr>\n",
       "      <th>3</th>\n",
       "      <td>Sr. Data Scientist</td>\n",
       "      <td>Sr. Data Scientist</td>\n",
       "      <td>20,00,000 - 35,00,000 PA.</td>\n",
       "      <td>Bangalore/Bengaluru, Delhi / NCR</td>\n",
       "    </tr>\n",
       "    <tr>\n",
       "      <th>4</th>\n",
       "      <td>Data Scientist</td>\n",
       "      <td>Data Scientist</td>\n",
       "      <td>Not disclosed</td>\n",
       "      <td>Mumbai, Gurgaon/Gurugram</td>\n",
       "    </tr>\n",
       "    <tr>\n",
       "      <th>5</th>\n",
       "      <td>Business Analyst- Data Scientist</td>\n",
       "      <td>Business Analyst- Data Scientist</td>\n",
       "      <td>3,50,000 - 6,50,000 PA.</td>\n",
       "      <td>Noida, Gurgaon/Gurugram</td>\n",
       "    </tr>\n",
       "    <tr>\n",
       "      <th>6</th>\n",
       "      <td>CBTS is hiring Data Scientist</td>\n",
       "      <td>CBTS is hiring Data Scientist</td>\n",
       "      <td>Not disclosed</td>\n",
       "      <td>Chennai, Bangalore/Bengaluru, Delhi / NCR, Mum...</td>\n",
       "    </tr>\n",
       "    <tr>\n",
       "      <th>7</th>\n",
       "      <td>Data Scientist - High growth VC backed Influen...</td>\n",
       "      <td>Data Scientist - High growth VC backed Influen...</td>\n",
       "      <td>5,00,000 - 6,00,000 PA.</td>\n",
       "      <td>Bangalore/Bengaluru, Delhi / NCR, Mumbai (All ...</td>\n",
       "    </tr>\n",
       "    <tr>\n",
       "      <th>8</th>\n",
       "      <td>Senior data scientist</td>\n",
       "      <td>Senior data scientist</td>\n",
       "      <td>Not disclosed</td>\n",
       "      <td>Gurgaon/Gurugram</td>\n",
       "    </tr>\n",
       "    <tr>\n",
       "      <th>9</th>\n",
       "      <td>Senior Data Scientist - Mobile Application</td>\n",
       "      <td>Senior Data Scientist - Mobile Application</td>\n",
       "      <td>Not disclosed</td>\n",
       "      <td>Gurgaon/Gurugram</td>\n",
       "    </tr>\n",
       "    <tr>\n",
       "      <th>10</th>\n",
       "      <td>Data Engineer/Data Scientist/Data Analysis</td>\n",
       "      <td>Data Engineer/Data Scientist/Data Analysis</td>\n",
       "      <td>Not disclosed</td>\n",
       "      <td>Noida, Chandigarh, Indore, Gurgaon/Gurugram, A...</td>\n",
       "    </tr>\n",
       "    <tr>\n",
       "      <th>11</th>\n",
       "      <td>Data Engineer/Data Scientist/Data Analysis</td>\n",
       "      <td>Data Engineer/Data Scientist/Data Analysis</td>\n",
       "      <td>Not disclosed</td>\n",
       "      <td>Noida, Chandigarh, Indore, Gurgaon/Gurugram, A...</td>\n",
       "    </tr>\n",
       "    <tr>\n",
       "      <th>12</th>\n",
       "      <td>Data Scientist</td>\n",
       "      <td>Data Scientist</td>\n",
       "      <td>10,00,000 - 20,00,000 PA.</td>\n",
       "      <td>Mumbai, Gurgaon/Gurugram, Bangalore/Bengaluru</td>\n",
       "    </tr>\n",
       "    <tr>\n",
       "      <th>13</th>\n",
       "      <td>Data Scientist</td>\n",
       "      <td>Data Scientist</td>\n",
       "      <td>10,00,000 - 20,00,000 PA.</td>\n",
       "      <td>Mumbai, Gurgaon/Gurugram, Bangalore/Bengaluru</td>\n",
       "    </tr>\n",
       "    <tr>\n",
       "      <th>14</th>\n",
       "      <td>Data Scientist For an AI Product (Work from Home)</td>\n",
       "      <td>Data Scientist For an AI Product (Work from Home)</td>\n",
       "      <td>8,00,000 - 12,00,000 PA.</td>\n",
       "      <td>Kolkata, Hyderabad/Secunderabad, Pune, Chennai...</td>\n",
       "    </tr>\n",
       "    <tr>\n",
       "      <th>15</th>\n",
       "      <td>Data Scientist</td>\n",
       "      <td>Data Scientist</td>\n",
       "      <td>Not disclosed</td>\n",
       "      <td>Gurgaon/Gurugram</td>\n",
       "    </tr>\n",
       "    <tr>\n",
       "      <th>16</th>\n",
       "      <td>Driveline Data Scientist</td>\n",
       "      <td>Driveline Data Scientist</td>\n",
       "      <td>Not disclosed</td>\n",
       "      <td>Gurgaon/Gurugram, Delhi / NCR</td>\n",
       "    </tr>\n",
       "    <tr>\n",
       "      <th>17</th>\n",
       "      <td>DATA Scientist – Gurgaon (Exp 3-6 years)</td>\n",
       "      <td>DATA Scientist – Gurgaon (Exp 3-6 years)</td>\n",
       "      <td>5,00,000 - 9,00,000 PA.</td>\n",
       "      <td>Gurgaon/Gurugram, Delhi / NCR</td>\n",
       "    </tr>\n",
       "    <tr>\n",
       "      <th>18</th>\n",
       "      <td>DATA Scientist – Gurgaon (Exp 3-6 years)</td>\n",
       "      <td>DATA Scientist – Gurgaon (Exp 3-6 years)</td>\n",
       "      <td>5,00,000 - 8,00,000 PA.</td>\n",
       "      <td>Gurgaon/Gurugram, Delhi / NCR</td>\n",
       "    </tr>\n",
       "    <tr>\n",
       "      <th>19</th>\n",
       "      <td>Data Scientist - Noida</td>\n",
       "      <td>Data Scientist - Noida</td>\n",
       "      <td>Not disclosed</td>\n",
       "      <td>Noida</td>\n",
       "    </tr>\n",
       "  </tbody>\n",
       "</table>\n",
       "</div>"
      ],
      "text/plain": [
       "                                                title  \\\n",
       "0     Data Scientist / Data Analyst -Business Analyst   \n",
       "1                               Senior Data Scientist   \n",
       "2                         Sr. Data Scientist - AutoML   \n",
       "3                                  Sr. Data Scientist   \n",
       "4                                      Data Scientist   \n",
       "5                    Business Analyst- Data Scientist   \n",
       "6                       CBTS is hiring Data Scientist   \n",
       "7   Data Scientist - High growth VC backed Influen...   \n",
       "8                               Senior data scientist   \n",
       "9          Senior Data Scientist - Mobile Application   \n",
       "10         Data Engineer/Data Scientist/Data Analysis   \n",
       "11         Data Engineer/Data Scientist/Data Analysis   \n",
       "12                                     Data Scientist   \n",
       "13                                     Data Scientist   \n",
       "14  Data Scientist For an AI Product (Work from Home)   \n",
       "15                                     Data Scientist   \n",
       "16                           Driveline Data Scientist   \n",
       "17           DATA Scientist – Gurgaon (Exp 3-6 years)   \n",
       "18           DATA Scientist – Gurgaon (Exp 3-6 years)   \n",
       "19                             Data Scientist - Noida   \n",
       "\n",
       "                                              company  \\\n",
       "0     Data Scientist / Data Analyst -Business Analyst   \n",
       "1                               Senior Data Scientist   \n",
       "2                         Sr. Data Scientist - AutoML   \n",
       "3                                  Sr. Data Scientist   \n",
       "4                                      Data Scientist   \n",
       "5                    Business Analyst- Data Scientist   \n",
       "6                       CBTS is hiring Data Scientist   \n",
       "7   Data Scientist - High growth VC backed Influen...   \n",
       "8                               Senior data scientist   \n",
       "9          Senior Data Scientist - Mobile Application   \n",
       "10         Data Engineer/Data Scientist/Data Analysis   \n",
       "11         Data Engineer/Data Scientist/Data Analysis   \n",
       "12                                     Data Scientist   \n",
       "13                                     Data Scientist   \n",
       "14  Data Scientist For an AI Product (Work from Home)   \n",
       "15                                     Data Scientist   \n",
       "16                           Driveline Data Scientist   \n",
       "17           DATA Scientist – Gurgaon (Exp 3-6 years)   \n",
       "18           DATA Scientist – Gurgaon (Exp 3-6 years)   \n",
       "19                             Data Scientist - Noida   \n",
       "\n",
       "                       salary  \\\n",
       "0     3,50,000 - 4,50,000 PA.   \n",
       "1               Not disclosed   \n",
       "2               Not disclosed   \n",
       "3   20,00,000 - 35,00,000 PA.   \n",
       "4               Not disclosed   \n",
       "5     3,50,000 - 6,50,000 PA.   \n",
       "6               Not disclosed   \n",
       "7     5,00,000 - 6,00,000 PA.   \n",
       "8               Not disclosed   \n",
       "9               Not disclosed   \n",
       "10              Not disclosed   \n",
       "11              Not disclosed   \n",
       "12  10,00,000 - 20,00,000 PA.   \n",
       "13  10,00,000 - 20,00,000 PA.   \n",
       "14   8,00,000 - 12,00,000 PA.   \n",
       "15              Not disclosed   \n",
       "16              Not disclosed   \n",
       "17    5,00,000 - 9,00,000 PA.   \n",
       "18    5,00,000 - 8,00,000 PA.   \n",
       "19              Not disclosed   \n",
       "\n",
       "                                             location  \n",
       "0   Mumbai, Hyderabad/Secunderabad, Pune, Gurgaon/...  \n",
       "1                           Gurgaon/Gurugram, Chennai  \n",
       "2                                    Gurgaon/Gurugram  \n",
       "3                    Bangalore/Bengaluru, Delhi / NCR  \n",
       "4                            Mumbai, Gurgaon/Gurugram  \n",
       "5                             Noida, Gurgaon/Gurugram  \n",
       "6   Chennai, Bangalore/Bengaluru, Delhi / NCR, Mum...  \n",
       "7   Bangalore/Bengaluru, Delhi / NCR, Mumbai (All ...  \n",
       "8                                    Gurgaon/Gurugram  \n",
       "9                                    Gurgaon/Gurugram  \n",
       "10  Noida, Chandigarh, Indore, Gurgaon/Gurugram, A...  \n",
       "11  Noida, Chandigarh, Indore, Gurgaon/Gurugram, A...  \n",
       "12      Mumbai, Gurgaon/Gurugram, Bangalore/Bengaluru  \n",
       "13      Mumbai, Gurgaon/Gurugram, Bangalore/Bengaluru  \n",
       "14  Kolkata, Hyderabad/Secunderabad, Pune, Chennai...  \n",
       "15                                   Gurgaon/Gurugram  \n",
       "16                      Gurgaon/Gurugram, Delhi / NCR  \n",
       "17                      Gurgaon/Gurugram, Delhi / NCR  \n",
       "18                      Gurgaon/Gurugram, Delhi / NCR  \n",
       "19                                              Noida  "
      ]
     },
     "execution_count": 263,
     "metadata": {},
     "output_type": "execute_result"
    }
   ],
   "source": [
    "JOBS"
   ]
  },
  {
   "cell_type": "code",
   "execution_count": 264,
   "metadata": {},
   "outputs": [],
   "source": [
    "driver.close()"
   ]
  },
  {
   "cell_type": "markdown",
   "metadata": {},
   "source": [
    "# Ques6"
   ]
  },
  {
   "cell_type": "code",
   "execution_count": 269,
   "metadata": {},
   "outputs": [],
   "source": [
    "driver=webdriver.Chrome(r\"C:\\Users\\DELL\\Downloads\\chromedriver\")"
   ]
  },
  {
   "cell_type": "code",
   "execution_count": 270,
   "metadata": {},
   "outputs": [],
   "source": [
    "url='https://www.flipkart.com/'\n",
    "driver.get(url)"
   ]
  },
  {
   "cell_type": "code",
   "execution_count": 273,
   "metadata": {},
   "outputs": [
    {
     "data": {
      "text/plain": [
       "<selenium.webdriver.remote.webelement.WebElement (session=\"9c65972ae72aacca28dcc43336334f35\", element=\"58f18b1d-83b9-4baa-931f-eb7056a086b7\")>"
      ]
     },
     "execution_count": 273,
     "metadata": {},
     "output_type": "execute_result"
    }
   ],
   "source": [
    "search=driver.find_element_by_xpath(\"//div[@class='col-12-12 _2oO9oE']//input\")\n",
    "search"
   ]
  },
  {
   "cell_type": "code",
   "execution_count": 274,
   "metadata": {},
   "outputs": [],
   "source": [
    "search.send_keys(\"sunglasses\" )\n"
   ]
  },
  {
   "cell_type": "code",
   "execution_count": 276,
   "metadata": {},
   "outputs": [],
   "source": [
    "search_btn=driver.find_element_by_xpath(\"//button[@class='L0Z3Pu']\")\n",
    "search_btn.click()"
   ]
  },
  {
   "cell_type": "code",
   "execution_count": 277,
   "metadata": {},
   "outputs": [
    {
     "data": {
      "text/plain": [
       "[<selenium.webdriver.remote.webelement.WebElement (session=\"9c65972ae72aacca28dcc43336334f35\", element=\"2eba3dbb-9135-497c-8a4c-f839756445b8\")>,\n",
       " <selenium.webdriver.remote.webelement.WebElement (session=\"9c65972ae72aacca28dcc43336334f35\", element=\"2de7b0ae-a06d-41d7-a7fa-44880ac0c0ef\")>,\n",
       " <selenium.webdriver.remote.webelement.WebElement (session=\"9c65972ae72aacca28dcc43336334f35\", element=\"35f9fc0c-09e7-455f-bf50-36a2ca91736b\")>,\n",
       " <selenium.webdriver.remote.webelement.WebElement (session=\"9c65972ae72aacca28dcc43336334f35\", element=\"1f859107-55de-48ab-9575-f73c1fc51153\")>,\n",
       " <selenium.webdriver.remote.webelement.WebElement (session=\"9c65972ae72aacca28dcc43336334f35\", element=\"e34811ff-78a5-4430-8899-73bb0ac79961\")>,\n",
       " <selenium.webdriver.remote.webelement.WebElement (session=\"9c65972ae72aacca28dcc43336334f35\", element=\"92965787-8b6b-4f05-87de-d1a5fc2b2d86\")>,\n",
       " <selenium.webdriver.remote.webelement.WebElement (session=\"9c65972ae72aacca28dcc43336334f35\", element=\"3791fd86-6cfd-443b-861c-c19890b33cfc\")>,\n",
       " <selenium.webdriver.remote.webelement.WebElement (session=\"9c65972ae72aacca28dcc43336334f35\", element=\"0ecf1626-0f11-44c5-9bda-12e747909918\")>,\n",
       " <selenium.webdriver.remote.webelement.WebElement (session=\"9c65972ae72aacca28dcc43336334f35\", element=\"9565f154-7cdb-40e1-a20a-032df9fc8e1a\")>,\n",
       " <selenium.webdriver.remote.webelement.WebElement (session=\"9c65972ae72aacca28dcc43336334f35\", element=\"15865bff-e359-4fd0-bb2f-99b8f38f2747\")>,\n",
       " <selenium.webdriver.remote.webelement.WebElement (session=\"9c65972ae72aacca28dcc43336334f35\", element=\"f8084b41-b62e-456d-be1d-3af8d405c19b\")>,\n",
       " <selenium.webdriver.remote.webelement.WebElement (session=\"9c65972ae72aacca28dcc43336334f35\", element=\"8df4cda4-6092-476d-a001-8c7a7fd8b409\")>,\n",
       " <selenium.webdriver.remote.webelement.WebElement (session=\"9c65972ae72aacca28dcc43336334f35\", element=\"93357f3a-9c3f-4c6b-bdaf-f0de4a0dd674\")>,\n",
       " <selenium.webdriver.remote.webelement.WebElement (session=\"9c65972ae72aacca28dcc43336334f35\", element=\"39bb3b40-edd0-4509-9b9b-4f4b94dcdc44\")>,\n",
       " <selenium.webdriver.remote.webelement.WebElement (session=\"9c65972ae72aacca28dcc43336334f35\", element=\"1aadce30-de00-4a4c-b373-374ab27fc82f\")>,\n",
       " <selenium.webdriver.remote.webelement.WebElement (session=\"9c65972ae72aacca28dcc43336334f35\", element=\"5bccaa44-da09-469f-8e14-a5e51ee9c4c6\")>,\n",
       " <selenium.webdriver.remote.webelement.WebElement (session=\"9c65972ae72aacca28dcc43336334f35\", element=\"ce2c947e-18b1-4f42-917c-0a235e723117\")>,\n",
       " <selenium.webdriver.remote.webelement.WebElement (session=\"9c65972ae72aacca28dcc43336334f35\", element=\"0859eeae-5698-4a0f-aefa-afe61dc85ed1\")>,\n",
       " <selenium.webdriver.remote.webelement.WebElement (session=\"9c65972ae72aacca28dcc43336334f35\", element=\"d0bda30e-4219-435d-8944-9c619be0e1c8\")>,\n",
       " <selenium.webdriver.remote.webelement.WebElement (session=\"9c65972ae72aacca28dcc43336334f35\", element=\"f8f35a9b-1126-4081-85d8-1c2475d01102\")>,\n",
       " <selenium.webdriver.remote.webelement.WebElement (session=\"9c65972ae72aacca28dcc43336334f35\", element=\"9f32a6d3-6693-4ce0-8b2c-3d6943ff7d1e\")>,\n",
       " <selenium.webdriver.remote.webelement.WebElement (session=\"9c65972ae72aacca28dcc43336334f35\", element=\"e13a0c8c-7ac3-45e8-810a-3f09f407ab3c\")>,\n",
       " <selenium.webdriver.remote.webelement.WebElement (session=\"9c65972ae72aacca28dcc43336334f35\", element=\"675d108d-1145-4d50-9caf-ee7b9a8cae4b\")>,\n",
       " <selenium.webdriver.remote.webelement.WebElement (session=\"9c65972ae72aacca28dcc43336334f35\", element=\"f70a1672-217f-4066-a034-7201decd152e\")>,\n",
       " <selenium.webdriver.remote.webelement.WebElement (session=\"9c65972ae72aacca28dcc43336334f35\", element=\"b568f1b8-f28e-40eb-b10f-e8deaab5aab1\")>,\n",
       " <selenium.webdriver.remote.webelement.WebElement (session=\"9c65972ae72aacca28dcc43336334f35\", element=\"4054c2cd-a031-48ad-abef-b4afe09e67ba\")>,\n",
       " <selenium.webdriver.remote.webelement.WebElement (session=\"9c65972ae72aacca28dcc43336334f35\", element=\"9b9f1f08-74e1-4ebb-885e-e840dc10dd0a\")>,\n",
       " <selenium.webdriver.remote.webelement.WebElement (session=\"9c65972ae72aacca28dcc43336334f35\", element=\"14fa5626-116d-461e-b22e-a638213d7a08\")>,\n",
       " <selenium.webdriver.remote.webelement.WebElement (session=\"9c65972ae72aacca28dcc43336334f35\", element=\"e9284937-3078-4960-b947-b4e18f252fc6\")>,\n",
       " <selenium.webdriver.remote.webelement.WebElement (session=\"9c65972ae72aacca28dcc43336334f35\", element=\"b9ab8a64-5d15-45bb-b286-ad31f5342b45\")>,\n",
       " <selenium.webdriver.remote.webelement.WebElement (session=\"9c65972ae72aacca28dcc43336334f35\", element=\"505e0f44-ba2c-4903-b470-9b263d63721f\")>,\n",
       " <selenium.webdriver.remote.webelement.WebElement (session=\"9c65972ae72aacca28dcc43336334f35\", element=\"4af4e844-c5cf-49c1-97c3-9c0f7a9aaaa6\")>,\n",
       " <selenium.webdriver.remote.webelement.WebElement (session=\"9c65972ae72aacca28dcc43336334f35\", element=\"5190e434-5fcd-4590-b4b4-5686acb5a106\")>,\n",
       " <selenium.webdriver.remote.webelement.WebElement (session=\"9c65972ae72aacca28dcc43336334f35\", element=\"a27f854a-5a14-4e40-bb3f-1b6f77ab5830\")>,\n",
       " <selenium.webdriver.remote.webelement.WebElement (session=\"9c65972ae72aacca28dcc43336334f35\", element=\"a6784d45-9f5c-48d1-adbf-554337a61035\")>,\n",
       " <selenium.webdriver.remote.webelement.WebElement (session=\"9c65972ae72aacca28dcc43336334f35\", element=\"e8c1f82d-adb9-4e0b-af3a-3250372bba60\")>,\n",
       " <selenium.webdriver.remote.webelement.WebElement (session=\"9c65972ae72aacca28dcc43336334f35\", element=\"4e584015-34fe-44df-8fcd-9f7ac16d68f1\")>,\n",
       " <selenium.webdriver.remote.webelement.WebElement (session=\"9c65972ae72aacca28dcc43336334f35\", element=\"19f236f7-c018-48ce-a120-1f29e46fa73a\")>,\n",
       " <selenium.webdriver.remote.webelement.WebElement (session=\"9c65972ae72aacca28dcc43336334f35\", element=\"1c3563e4-bdae-4922-b00f-4e8b6d490d22\")>,\n",
       " <selenium.webdriver.remote.webelement.WebElement (session=\"9c65972ae72aacca28dcc43336334f35\", element=\"062a81db-afda-4b54-9dfe-f736a6b79622\")>]"
      ]
     },
     "execution_count": 277,
     "metadata": {},
     "output_type": "execute_result"
    }
   ],
   "source": [
    "brand_titles=driver.find_elements_by_xpath(\"//div[@class='_2WkVRV']\")\n",
    "brand_titles"
   ]
  },
  {
   "cell_type": "code",
   "execution_count": 278,
   "metadata": {},
   "outputs": [
    {
     "data": {
      "text/plain": [
       "['Fastrack',\n",
       " 'Fastrack',\n",
       " 'ROZZETTA CRAFT',\n",
       " 'Fastrack',\n",
       " 'PIRASO',\n",
       " 'PHENOMENAL',\n",
       " 'DEIXELS',\n",
       " 'HIPPON',\n",
       " 'NuVew',\n",
       " 'Singco India',\n",
       " 'GANSTA',\n",
       " 'hipe',\n",
       " 'elegante',\n",
       " 'ROYAL SON',\n",
       " 'ROYAL SON',\n",
       " 'Villain',\n",
       " 'Silver Kartz',\n",
       " 'Flizz',\n",
       " 'SRPM',\n",
       " 'NuVew',\n",
       " 'AISLIN',\n",
       " 'Fravy',\n",
       " 'Crackers',\n",
       " 'AISLIN',\n",
       " 'Singco',\n",
       " 'PETER JONES',\n",
       " 'BKGE',\n",
       " 'Badfella',\n",
       " 'IDEE',\n",
       " 'NuVew',\n",
       " 'Wrogn',\n",
       " 'Fastrack',\n",
       " 'ROZZETTA CRAFT',\n",
       " 'ROYAL SON',\n",
       " 'PIRASO',\n",
       " 'PHENOMENAL',\n",
       " 'DEIXELS',\n",
       " 'Singco India',\n",
       " 'hipe',\n",
       " 'LIZA ANGEL']"
      ]
     },
     "execution_count": 278,
     "metadata": {},
     "output_type": "execute_result"
    }
   ],
   "source": [
    "brand_name=[]\n",
    "for i in brand_titles:\n",
    "    brand_name.append(i.text)\n",
    "brand_name"
   ]
  },
  {
   "cell_type": "code",
   "execution_count": 281,
   "metadata": {},
   "outputs": [
    {
     "data": {
      "text/plain": [
       "[<selenium.webdriver.remote.webelement.WebElement (session=\"9c65972ae72aacca28dcc43336334f35\", element=\"b17b9095-4169-4a85-8e1c-1a7bd93f87a7\")>,\n",
       " <selenium.webdriver.remote.webelement.WebElement (session=\"9c65972ae72aacca28dcc43336334f35\", element=\"efa54bd9-7b86-487a-b04a-28fcf3811447\")>,\n",
       " <selenium.webdriver.remote.webelement.WebElement (session=\"9c65972ae72aacca28dcc43336334f35\", element=\"1097988d-7bbc-4a6d-b073-93f22ad414ae\")>,\n",
       " <selenium.webdriver.remote.webelement.WebElement (session=\"9c65972ae72aacca28dcc43336334f35\", element=\"9ebf6d77-7089-49a7-8a0f-94d82a4e180d\")>,\n",
       " <selenium.webdriver.remote.webelement.WebElement (session=\"9c65972ae72aacca28dcc43336334f35\", element=\"baf8298b-67a2-4b4d-90cd-20908e40ed0f\")>,\n",
       " <selenium.webdriver.remote.webelement.WebElement (session=\"9c65972ae72aacca28dcc43336334f35\", element=\"42e741a1-6fd4-42e2-9dee-1392921845fd\")>,\n",
       " <selenium.webdriver.remote.webelement.WebElement (session=\"9c65972ae72aacca28dcc43336334f35\", element=\"c293daf8-9530-410e-9a46-37b659e90859\")>,\n",
       " <selenium.webdriver.remote.webelement.WebElement (session=\"9c65972ae72aacca28dcc43336334f35\", element=\"24260d54-d7ef-4cf0-922a-a60e92bcd883\")>,\n",
       " <selenium.webdriver.remote.webelement.WebElement (session=\"9c65972ae72aacca28dcc43336334f35\", element=\"8c8c7d4d-35ed-48e4-8c76-16338751fe4b\")>,\n",
       " <selenium.webdriver.remote.webelement.WebElement (session=\"9c65972ae72aacca28dcc43336334f35\", element=\"146d0366-e0aa-444d-9f1a-5a126612f77e\")>,\n",
       " <selenium.webdriver.remote.webelement.WebElement (session=\"9c65972ae72aacca28dcc43336334f35\", element=\"0171c2af-b055-4d36-8079-3d1ec4aac6d5\")>,\n",
       " <selenium.webdriver.remote.webelement.WebElement (session=\"9c65972ae72aacca28dcc43336334f35\", element=\"d3070a07-fe6f-4ed2-aad2-88d96b804ea8\")>,\n",
       " <selenium.webdriver.remote.webelement.WebElement (session=\"9c65972ae72aacca28dcc43336334f35\", element=\"3627cf3f-fbcc-4574-b78a-25b773793ba7\")>,\n",
       " <selenium.webdriver.remote.webelement.WebElement (session=\"9c65972ae72aacca28dcc43336334f35\", element=\"0d8ec3ec-bf4f-4236-9ae0-e17bb9804243\")>,\n",
       " <selenium.webdriver.remote.webelement.WebElement (session=\"9c65972ae72aacca28dcc43336334f35\", element=\"7ff9ff94-e904-4141-8952-ae59e7e66bc3\")>,\n",
       " <selenium.webdriver.remote.webelement.WebElement (session=\"9c65972ae72aacca28dcc43336334f35\", element=\"f85b50a2-6f2a-4e93-93ce-dc3309e56f80\")>,\n",
       " <selenium.webdriver.remote.webelement.WebElement (session=\"9c65972ae72aacca28dcc43336334f35\", element=\"1adba275-5211-49d2-81d5-7f5bdae0e52b\")>,\n",
       " <selenium.webdriver.remote.webelement.WebElement (session=\"9c65972ae72aacca28dcc43336334f35\", element=\"a3ad3c41-26e5-40f5-98d6-386a03453af2\")>,\n",
       " <selenium.webdriver.remote.webelement.WebElement (session=\"9c65972ae72aacca28dcc43336334f35\", element=\"7c6850d5-dc0e-461f-b979-280e98c32923\")>,\n",
       " <selenium.webdriver.remote.webelement.WebElement (session=\"9c65972ae72aacca28dcc43336334f35\", element=\"80604373-f28f-48de-9d92-7747c6a60840\")>,\n",
       " <selenium.webdriver.remote.webelement.WebElement (session=\"9c65972ae72aacca28dcc43336334f35\", element=\"d9542b7e-cebc-4462-8ff9-a20e91ab0f1d\")>,\n",
       " <selenium.webdriver.remote.webelement.WebElement (session=\"9c65972ae72aacca28dcc43336334f35\", element=\"ede0a5bb-7ba7-4d23-929c-1a54aedd7fd2\")>,\n",
       " <selenium.webdriver.remote.webelement.WebElement (session=\"9c65972ae72aacca28dcc43336334f35\", element=\"6087b3eb-f5db-4715-95c5-c53dab44491f\")>,\n",
       " <selenium.webdriver.remote.webelement.WebElement (session=\"9c65972ae72aacca28dcc43336334f35\", element=\"e2f9f8da-a785-424d-8fd3-0022f4c2ad34\")>,\n",
       " <selenium.webdriver.remote.webelement.WebElement (session=\"9c65972ae72aacca28dcc43336334f35\", element=\"752a567b-8a2b-4f10-ab4a-db7111501aad\")>,\n",
       " <selenium.webdriver.remote.webelement.WebElement (session=\"9c65972ae72aacca28dcc43336334f35\", element=\"56a978f4-d012-4f45-b092-ee4828d8fc6d\")>,\n",
       " <selenium.webdriver.remote.webelement.WebElement (session=\"9c65972ae72aacca28dcc43336334f35\", element=\"3075b58b-3d55-4844-b49d-c983c68426ea\")>,\n",
       " <selenium.webdriver.remote.webelement.WebElement (session=\"9c65972ae72aacca28dcc43336334f35\", element=\"312ef183-f361-4e8a-8899-18ce87236b8b\")>,\n",
       " <selenium.webdriver.remote.webelement.WebElement (session=\"9c65972ae72aacca28dcc43336334f35\", element=\"4773ef6c-739f-4fe3-bff8-8e5fccb0bfa4\")>,\n",
       " <selenium.webdriver.remote.webelement.WebElement (session=\"9c65972ae72aacca28dcc43336334f35\", element=\"2f877cfa-6b72-46c1-b98a-023addfff2fd\")>,\n",
       " <selenium.webdriver.remote.webelement.WebElement (session=\"9c65972ae72aacca28dcc43336334f35\", element=\"8a38446a-f858-4281-928d-88e19748686b\")>,\n",
       " <selenium.webdriver.remote.webelement.WebElement (session=\"9c65972ae72aacca28dcc43336334f35\", element=\"71996776-02e9-4a58-85aa-2ac2c2bbeb2f\")>,\n",
       " <selenium.webdriver.remote.webelement.WebElement (session=\"9c65972ae72aacca28dcc43336334f35\", element=\"acbcc80c-d5f1-4518-a9fb-8bf16fd824a7\")>,\n",
       " <selenium.webdriver.remote.webelement.WebElement (session=\"9c65972ae72aacca28dcc43336334f35\", element=\"e8f8a63f-aebe-48cd-8f02-8a251a6fb1d9\")>,\n",
       " <selenium.webdriver.remote.webelement.WebElement (session=\"9c65972ae72aacca28dcc43336334f35\", element=\"90ff0b02-8eae-4cde-affa-6ae4600ba2ab\")>,\n",
       " <selenium.webdriver.remote.webelement.WebElement (session=\"9c65972ae72aacca28dcc43336334f35\", element=\"a2e1990f-70b6-474b-9520-ea8916e17bbe\")>,\n",
       " <selenium.webdriver.remote.webelement.WebElement (session=\"9c65972ae72aacca28dcc43336334f35\", element=\"2af895b8-8b8e-4c90-bcc1-b8e25a2d7e84\")>,\n",
       " <selenium.webdriver.remote.webelement.WebElement (session=\"9c65972ae72aacca28dcc43336334f35\", element=\"ebd60900-bb70-4350-b874-1a002970f9a9\")>,\n",
       " <selenium.webdriver.remote.webelement.WebElement (session=\"9c65972ae72aacca28dcc43336334f35\", element=\"b4ca6200-92ac-427e-87c0-007a993dcea8\")>,\n",
       " <selenium.webdriver.remote.webelement.WebElement (session=\"9c65972ae72aacca28dcc43336334f35\", element=\"a51e56e2-9b9e-4156-87a7-1ec192188a74\")>]"
      ]
     },
     "execution_count": 281,
     "metadata": {},
     "output_type": "execute_result"
    }
   ],
   "source": [
    "price_tag=driver.find_elements_by_xpath(\"//div[@class='_30jeq3']\")\n",
    "price_tag"
   ]
  },
  {
   "cell_type": "code",
   "execution_count": 282,
   "metadata": {},
   "outputs": [
    {
     "data": {
      "text/plain": [
       "['₹546',\n",
       " '₹545',\n",
       " '₹499',\n",
       " '₹570',\n",
       " '₹349',\n",
       " '₹399',\n",
       " '₹213',\n",
       " '₹251',\n",
       " '₹215',\n",
       " '₹194',\n",
       " '₹281',\n",
       " '₹199',\n",
       " '₹499',\n",
       " '₹664',\n",
       " '₹217',\n",
       " '₹599',\n",
       " '₹299',\n",
       " '₹399',\n",
       " '₹189',\n",
       " '₹395',\n",
       " '₹525',\n",
       " '₹289',\n",
       " '₹170',\n",
       " '₹395',\n",
       " '₹327',\n",
       " '₹549',\n",
       " '₹394',\n",
       " '₹269',\n",
       " '₹1,181',\n",
       " '₹314',\n",
       " '₹850',\n",
       " '₹733',\n",
       " '₹404',\n",
       " '₹664',\n",
       " '₹250',\n",
       " '₹399',\n",
       " '₹209',\n",
       " '₹236',\n",
       " '₹219',\n",
       " '₹259']"
      ]
     },
     "execution_count": 282,
     "metadata": {},
     "output_type": "execute_result"
    }
   ],
   "source": [
    "price=[]\n",
    "for i in price_tag:\n",
    "    price.append(i.text)\n",
    "price"
   ]
  },
  {
   "cell_type": "code",
   "execution_count": 283,
   "metadata": {},
   "outputs": [
    {
     "data": {
      "text/plain": [
       "[<selenium.webdriver.remote.webelement.WebElement (session=\"9c65972ae72aacca28dcc43336334f35\", element=\"18f186ba-5a35-47f3-8742-397559a173d4\")>,\n",
       " <selenium.webdriver.remote.webelement.WebElement (session=\"9c65972ae72aacca28dcc43336334f35\", element=\"266b20ef-a5ab-43b6-8d2d-59efb95f9a5a\")>,\n",
       " <selenium.webdriver.remote.webelement.WebElement (session=\"9c65972ae72aacca28dcc43336334f35\", element=\"5611dab2-ce1e-415b-9042-f013849b932c\")>,\n",
       " <selenium.webdriver.remote.webelement.WebElement (session=\"9c65972ae72aacca28dcc43336334f35\", element=\"dd9bc851-911f-402f-b182-57b1d22f379e\")>,\n",
       " <selenium.webdriver.remote.webelement.WebElement (session=\"9c65972ae72aacca28dcc43336334f35\", element=\"86f85210-bc5f-4c2e-af85-1ff4e50b0262\")>,\n",
       " <selenium.webdriver.remote.webelement.WebElement (session=\"9c65972ae72aacca28dcc43336334f35\", element=\"4fad63ff-1f0b-4d2c-b2af-3852ae188e4f\")>,\n",
       " <selenium.webdriver.remote.webelement.WebElement (session=\"9c65972ae72aacca28dcc43336334f35\", element=\"79056b1f-97bb-4ec1-ac27-47ef35e5f4c6\")>,\n",
       " <selenium.webdriver.remote.webelement.WebElement (session=\"9c65972ae72aacca28dcc43336334f35\", element=\"075a6670-57f0-4c71-b92f-9513ccc2cd76\")>,\n",
       " <selenium.webdriver.remote.webelement.WebElement (session=\"9c65972ae72aacca28dcc43336334f35\", element=\"5275dcc7-3e6e-4aaa-9b4a-2b31e5d5ba22\")>,\n",
       " <selenium.webdriver.remote.webelement.WebElement (session=\"9c65972ae72aacca28dcc43336334f35\", element=\"a8849084-de19-4142-86c9-eab9b9cee3c0\")>,\n",
       " <selenium.webdriver.remote.webelement.WebElement (session=\"9c65972ae72aacca28dcc43336334f35\", element=\"c1543e92-afe0-4781-b181-4c766c0fe599\")>,\n",
       " <selenium.webdriver.remote.webelement.WebElement (session=\"9c65972ae72aacca28dcc43336334f35\", element=\"fad11427-c243-4951-8882-ad35645cb1ef\")>,\n",
       " <selenium.webdriver.remote.webelement.WebElement (session=\"9c65972ae72aacca28dcc43336334f35\", element=\"2cf1beb5-b022-4bfb-8e55-dd9dcc3dc6c2\")>,\n",
       " <selenium.webdriver.remote.webelement.WebElement (session=\"9c65972ae72aacca28dcc43336334f35\", element=\"44ed570d-d4e0-4770-a440-cfd49ba9b2bd\")>,\n",
       " <selenium.webdriver.remote.webelement.WebElement (session=\"9c65972ae72aacca28dcc43336334f35\", element=\"73106681-6888-42bf-bc74-fba51ab06d22\")>,\n",
       " <selenium.webdriver.remote.webelement.WebElement (session=\"9c65972ae72aacca28dcc43336334f35\", element=\"fa3c03b3-b7dd-4c44-b01e-3f926c2c44d7\")>,\n",
       " <selenium.webdriver.remote.webelement.WebElement (session=\"9c65972ae72aacca28dcc43336334f35\", element=\"0214a2de-e9ef-4174-8a9e-fb638047b37b\")>,\n",
       " <selenium.webdriver.remote.webelement.WebElement (session=\"9c65972ae72aacca28dcc43336334f35\", element=\"8d59e8a8-8d74-46f7-bc53-20353d32e218\")>,\n",
       " <selenium.webdriver.remote.webelement.WebElement (session=\"9c65972ae72aacca28dcc43336334f35\", element=\"229a90b4-20a0-4b04-bf60-98f5c6c0d9aa\")>,\n",
       " <selenium.webdriver.remote.webelement.WebElement (session=\"9c65972ae72aacca28dcc43336334f35\", element=\"62a9ada8-caa5-4004-9962-3f9df1fb2c72\")>,\n",
       " <selenium.webdriver.remote.webelement.WebElement (session=\"9c65972ae72aacca28dcc43336334f35\", element=\"1149d6a7-956b-4508-8c99-35ced874a7f8\")>,\n",
       " <selenium.webdriver.remote.webelement.WebElement (session=\"9c65972ae72aacca28dcc43336334f35\", element=\"51601c2a-0bff-4303-be2a-ea94a5a3a0e3\")>,\n",
       " <selenium.webdriver.remote.webelement.WebElement (session=\"9c65972ae72aacca28dcc43336334f35\", element=\"53da30b8-81cd-4cb4-b75a-ebed44fdf822\")>,\n",
       " <selenium.webdriver.remote.webelement.WebElement (session=\"9c65972ae72aacca28dcc43336334f35\", element=\"d86d58a6-0fc8-418c-ad84-c1b3b67d487a\")>,\n",
       " <selenium.webdriver.remote.webelement.WebElement (session=\"9c65972ae72aacca28dcc43336334f35\", element=\"dd3c0fb4-8a3e-46fc-8543-c9aa2d397580\")>,\n",
       " <selenium.webdriver.remote.webelement.WebElement (session=\"9c65972ae72aacca28dcc43336334f35\", element=\"9d609821-0239-46ed-9755-01c9608b94b8\")>,\n",
       " <selenium.webdriver.remote.webelement.WebElement (session=\"9c65972ae72aacca28dcc43336334f35\", element=\"930b1932-b4a2-46ca-9440-8ada7ff9c49a\")>,\n",
       " <selenium.webdriver.remote.webelement.WebElement (session=\"9c65972ae72aacca28dcc43336334f35\", element=\"168bc0b7-f0c7-422c-99ba-6eb408359b0d\")>,\n",
       " <selenium.webdriver.remote.webelement.WebElement (session=\"9c65972ae72aacca28dcc43336334f35\", element=\"35dcdc84-0383-4583-8b99-bf52a15b32fc\")>,\n",
       " <selenium.webdriver.remote.webelement.WebElement (session=\"9c65972ae72aacca28dcc43336334f35\", element=\"ab426c37-d5a7-43f3-adb1-1991c8b56a4c\")>,\n",
       " <selenium.webdriver.remote.webelement.WebElement (session=\"9c65972ae72aacca28dcc43336334f35\", element=\"a37a5ecd-2f76-4a8e-8975-a49f05292d0e\")>,\n",
       " <selenium.webdriver.remote.webelement.WebElement (session=\"9c65972ae72aacca28dcc43336334f35\", element=\"cf69aafb-b2a9-4d34-b7f8-882ce1d9728b\")>,\n",
       " <selenium.webdriver.remote.webelement.WebElement (session=\"9c65972ae72aacca28dcc43336334f35\", element=\"733a20e2-b7ad-4d30-8c09-faf8fd2b6b4b\")>,\n",
       " <selenium.webdriver.remote.webelement.WebElement (session=\"9c65972ae72aacca28dcc43336334f35\", element=\"940509e2-0d14-4fa9-8f94-c4fbc5d6a56c\")>,\n",
       " <selenium.webdriver.remote.webelement.WebElement (session=\"9c65972ae72aacca28dcc43336334f35\", element=\"104490ac-3444-4ac8-8025-91dbf59f21f7\")>,\n",
       " <selenium.webdriver.remote.webelement.WebElement (session=\"9c65972ae72aacca28dcc43336334f35\", element=\"8c8370f3-adb5-4dd2-9ef1-90aeabb2e813\")>,\n",
       " <selenium.webdriver.remote.webelement.WebElement (session=\"9c65972ae72aacca28dcc43336334f35\", element=\"d327f2a6-225d-422c-9303-e320a5daec33\")>,\n",
       " <selenium.webdriver.remote.webelement.WebElement (session=\"9c65972ae72aacca28dcc43336334f35\", element=\"9d8bab22-2cd7-4b9e-88e6-fdc59a033692\")>,\n",
       " <selenium.webdriver.remote.webelement.WebElement (session=\"9c65972ae72aacca28dcc43336334f35\", element=\"1c6b0695-b45e-4853-9ca5-dea6d6a8bd19\")>,\n",
       " <selenium.webdriver.remote.webelement.WebElement (session=\"9c65972ae72aacca28dcc43336334f35\", element=\"d33ddc15-e682-493d-a9cb-873183bfcfc1\")>]"
      ]
     },
     "execution_count": 283,
     "metadata": {},
     "output_type": "execute_result"
    }
   ],
   "source": [
    "discount_tag=driver.find_elements_by_xpath(\"//div[@class='_3Ay6Sb']//span\")\n",
    "discount_tag"
   ]
  },
  {
   "cell_type": "code",
   "execution_count": 284,
   "metadata": {},
   "outputs": [
    {
     "data": {
      "text/plain": [
       "['31% off',\n",
       " '31% off',\n",
       " '77% off',\n",
       " '28% off',\n",
       " '78% off',\n",
       " '80% off',\n",
       " '82% off',\n",
       " '79% off',\n",
       " '72% off',\n",
       " '72% off',\n",
       " '85% off',\n",
       " '80% off',\n",
       " '66% off',\n",
       " '66% off',\n",
       " '78% off',\n",
       " '20% off',\n",
       " '75% off',\n",
       " '81% off',\n",
       " '62% off',\n",
       " '74% off',\n",
       " '65% off',\n",
       " '80% off',\n",
       " '82% off',\n",
       " '77% off',\n",
       " '83% off',\n",
       " '63% off',\n",
       " '78% off',\n",
       " '73% off',\n",
       " '58% off',\n",
       " '70% off',\n",
       " '66% off',\n",
       " '18% off',\n",
       " '79% off',\n",
       " '66% off',\n",
       " '84% off',\n",
       " '80% off',\n",
       " '73% off',\n",
       " '84% off',\n",
       " '86% off',\n",
       " '67% off']"
      ]
     },
     "execution_count": 284,
     "metadata": {},
     "output_type": "execute_result"
    }
   ],
   "source": [
    "discount=[]\n",
    "for i in discount_tag:\n",
    "    discount.append(i.text)\n",
    "discount"
   ]
  },
  {
   "cell_type": "code",
   "execution_count": 287,
   "metadata": {},
   "outputs": [
    {
     "data": {
      "text/plain": [
       "[<selenium.webdriver.remote.webelement.WebElement (session=\"9c65972ae72aacca28dcc43336334f35\", element=\"5179befd-8d18-4879-a200-92dece7585e9\")>,\n",
       " <selenium.webdriver.remote.webelement.WebElement (session=\"9c65972ae72aacca28dcc43336334f35\", element=\"a25d2056-0307-48c3-9df7-ed902318d804\")>,\n",
       " <selenium.webdriver.remote.webelement.WebElement (session=\"9c65972ae72aacca28dcc43336334f35\", element=\"577f6b2a-caa0-40cf-9e4e-9a55b21086f0\")>,\n",
       " <selenium.webdriver.remote.webelement.WebElement (session=\"9c65972ae72aacca28dcc43336334f35\", element=\"e654ccd1-d22b-4891-a9bd-67e3d6cc0fb4\")>,\n",
       " <selenium.webdriver.remote.webelement.WebElement (session=\"9c65972ae72aacca28dcc43336334f35\", element=\"e0f13b8b-be8e-4e46-9a0b-080122092d5c\")>,\n",
       " <selenium.webdriver.remote.webelement.WebElement (session=\"9c65972ae72aacca28dcc43336334f35\", element=\"1cfae0c2-4deb-42a9-85d1-d76016dc2b4b\")>,\n",
       " <selenium.webdriver.remote.webelement.WebElement (session=\"9c65972ae72aacca28dcc43336334f35\", element=\"2fa97aa0-9a86-4d23-9720-4f2083c65f8c\")>,\n",
       " <selenium.webdriver.remote.webelement.WebElement (session=\"9c65972ae72aacca28dcc43336334f35\", element=\"d40c3ccf-6291-4a95-aa2b-e1ca93685350\")>,\n",
       " <selenium.webdriver.remote.webelement.WebElement (session=\"9c65972ae72aacca28dcc43336334f35\", element=\"0355b55a-ec57-4d6b-bce5-1540e64343fa\")>,\n",
       " <selenium.webdriver.remote.webelement.WebElement (session=\"9c65972ae72aacca28dcc43336334f35\", element=\"7e88aa62-19b2-4ae5-b54e-71083c316487\")>,\n",
       " <selenium.webdriver.remote.webelement.WebElement (session=\"9c65972ae72aacca28dcc43336334f35\", element=\"c56185f0-c9cf-4bd4-ac47-fb0cf4bb47b2\")>,\n",
       " <selenium.webdriver.remote.webelement.WebElement (session=\"9c65972ae72aacca28dcc43336334f35\", element=\"9cbf4412-227a-423b-8118-21fcd02ecc66\")>]"
      ]
     },
     "execution_count": 287,
     "metadata": {},
     "output_type": "execute_result"
    }
   ],
   "source": [
    "size_tag=driver.find_elements_by_xpath(\"//div[@class='rcweVK']\")\n",
    "size_tag"
   ]
  },
  {
   "cell_type": "code",
   "execution_count": 288,
   "metadata": {},
   "outputs": [
    {
     "data": {
      "text/plain": [
       "['Size Free Size',\n",
       " 'Size Large',\n",
       " 'Size Free Size, Small',\n",
       " '',\n",
       " 'Size Free Size',\n",
       " 'Size Small, Medium, Large',\n",
       " 'Size Large',\n",
       " 'Size Free Size',\n",
       " 'Size Free Size, Large',\n",
       " 'Size Large',\n",
       " 'Size Medium',\n",
       " 'Size Small']"
      ]
     },
     "execution_count": 288,
     "metadata": {},
     "output_type": "execute_result"
    }
   ],
   "source": [
    "size=[]\n",
    "for i in size_tag:\n",
    "    size.append(i.text)\n",
    "size"
   ]
  },
  {
   "cell_type": "code",
   "execution_count": 295,
   "metadata": {},
   "outputs": [
    {
     "data": {
      "text/plain": [
       "[<selenium.webdriver.remote.webelement.WebElement (session=\"9c65972ae72aacca28dcc43336334f35\", element=\"9787a759-c424-4df1-904c-07fececf6712\")>,\n",
       " <selenium.webdriver.remote.webelement.WebElement (session=\"9c65972ae72aacca28dcc43336334f35\", element=\"1af22e59-906d-4a0e-933e-e94ca97672b8\")>,\n",
       " <selenium.webdriver.remote.webelement.WebElement (session=\"9c65972ae72aacca28dcc43336334f35\", element=\"f98ba664-5733-40ca-9263-0167e2d88fa0\")>,\n",
       " <selenium.webdriver.remote.webelement.WebElement (session=\"9c65972ae72aacca28dcc43336334f35\", element=\"bc0fc70f-265d-400c-8d63-2c4a85229cc3\")>,\n",
       " <selenium.webdriver.remote.webelement.WebElement (session=\"9c65972ae72aacca28dcc43336334f35\", element=\"a86c68b2-b5cf-4bbb-a82f-38164386d058\")>,\n",
       " <selenium.webdriver.remote.webelement.WebElement (session=\"9c65972ae72aacca28dcc43336334f35\", element=\"1f76e94c-9c3e-4a5b-a11c-a46f6e128b1c\")>,\n",
       " <selenium.webdriver.remote.webelement.WebElement (session=\"9c65972ae72aacca28dcc43336334f35\", element=\"0d868d23-5bd8-4a10-8fa5-95bd0f87b467\")>,\n",
       " <selenium.webdriver.remote.webelement.WebElement (session=\"9c65972ae72aacca28dcc43336334f35\", element=\"532dfe75-366f-441e-876c-480d7e9ee616\")>,\n",
       " <selenium.webdriver.remote.webelement.WebElement (session=\"9c65972ae72aacca28dcc43336334f35\", element=\"08ab4ffd-7f05-4657-8568-fcbc3e37a118\")>,\n",
       " <selenium.webdriver.remote.webelement.WebElement (session=\"9c65972ae72aacca28dcc43336334f35\", element=\"ccefd088-dc1d-4030-8ce2-9e56bf9efae5\")>,\n",
       " <selenium.webdriver.remote.webelement.WebElement (session=\"9c65972ae72aacca28dcc43336334f35\", element=\"b9326089-c299-4ad0-aac2-460cf7c55ec7\")>,\n",
       " <selenium.webdriver.remote.webelement.WebElement (session=\"9c65972ae72aacca28dcc43336334f35\", element=\"c77ebec2-5168-40de-8dc9-746bdc46939f\")>,\n",
       " <selenium.webdriver.remote.webelement.WebElement (session=\"9c65972ae72aacca28dcc43336334f35\", element=\"9d5ce26b-e54e-41a9-bad8-7b3d6fee1e32\")>,\n",
       " <selenium.webdriver.remote.webelement.WebElement (session=\"9c65972ae72aacca28dcc43336334f35\", element=\"cca0bc16-f671-44f0-89f1-1506a4298225\")>,\n",
       " <selenium.webdriver.remote.webelement.WebElement (session=\"9c65972ae72aacca28dcc43336334f35\", element=\"dbd6bca7-7257-4b98-8867-6ba3ede772e7\")>,\n",
       " <selenium.webdriver.remote.webelement.WebElement (session=\"9c65972ae72aacca28dcc43336334f35\", element=\"d869aaf3-0b00-4c75-8ca9-0682969839e9\")>,\n",
       " <selenium.webdriver.remote.webelement.WebElement (session=\"9c65972ae72aacca28dcc43336334f35\", element=\"f0a7a900-ed07-44c0-a3ca-5a1ee2fddebd\")>,\n",
       " <selenium.webdriver.remote.webelement.WebElement (session=\"9c65972ae72aacca28dcc43336334f35\", element=\"d7b9a366-3d3a-47e6-a283-2e337cbf5a37\")>,\n",
       " <selenium.webdriver.remote.webelement.WebElement (session=\"9c65972ae72aacca28dcc43336334f35\", element=\"c9b860f9-6528-46f6-b1f0-9100dec64432\")>,\n",
       " <selenium.webdriver.remote.webelement.WebElement (session=\"9c65972ae72aacca28dcc43336334f35\", element=\"77864e4d-7920-4177-9488-8064346fbf02\")>,\n",
       " <selenium.webdriver.remote.webelement.WebElement (session=\"9c65972ae72aacca28dcc43336334f35\", element=\"79525cbb-ac45-4eb8-8088-269cef86989d\")>,\n",
       " <selenium.webdriver.remote.webelement.WebElement (session=\"9c65972ae72aacca28dcc43336334f35\", element=\"2d139757-3822-485b-9ef9-1f4b4d34eae7\")>,\n",
       " <selenium.webdriver.remote.webelement.WebElement (session=\"9c65972ae72aacca28dcc43336334f35\", element=\"2803f2c1-ee38-4b71-b6db-c702360a4109\")>,\n",
       " <selenium.webdriver.remote.webelement.WebElement (session=\"9c65972ae72aacca28dcc43336334f35\", element=\"6228e043-3c5c-4d01-851a-262b1d43ce3b\")>,\n",
       " <selenium.webdriver.remote.webelement.WebElement (session=\"9c65972ae72aacca28dcc43336334f35\", element=\"b3d46242-e803-46e2-96de-b127796e30ba\")>,\n",
       " <selenium.webdriver.remote.webelement.WebElement (session=\"9c65972ae72aacca28dcc43336334f35\", element=\"1461ca86-804a-4db1-a53c-bc880ec7a748\")>,\n",
       " <selenium.webdriver.remote.webelement.WebElement (session=\"9c65972ae72aacca28dcc43336334f35\", element=\"02ad7ae7-41b6-4dc7-9f86-affa66217f1e\")>,\n",
       " <selenium.webdriver.remote.webelement.WebElement (session=\"9c65972ae72aacca28dcc43336334f35\", element=\"8b4479a3-32c7-44c8-833c-a0cbcad975eb\")>,\n",
       " <selenium.webdriver.remote.webelement.WebElement (session=\"9c65972ae72aacca28dcc43336334f35\", element=\"a7796907-444b-4ae4-b2a5-5d59da63874f\")>,\n",
       " <selenium.webdriver.remote.webelement.WebElement (session=\"9c65972ae72aacca28dcc43336334f35\", element=\"b9da7a69-b240-4072-9368-cf926ad43019\")>,\n",
       " <selenium.webdriver.remote.webelement.WebElement (session=\"9c65972ae72aacca28dcc43336334f35\", element=\"617820e2-6df8-41ac-a770-421c151763dd\")>,\n",
       " <selenium.webdriver.remote.webelement.WebElement (session=\"9c65972ae72aacca28dcc43336334f35\", element=\"33fb9763-1eca-4769-892d-399e3010269a\")>,\n",
       " <selenium.webdriver.remote.webelement.WebElement (session=\"9c65972ae72aacca28dcc43336334f35\", element=\"c5e7b41f-ed53-43f8-b1b5-e9f6e872dab9\")>,\n",
       " <selenium.webdriver.remote.webelement.WebElement (session=\"9c65972ae72aacca28dcc43336334f35\", element=\"a1e68e19-9d18-484a-95e0-0681ea7a3b44\")>,\n",
       " <selenium.webdriver.remote.webelement.WebElement (session=\"9c65972ae72aacca28dcc43336334f35\", element=\"b7434cf0-dc26-4c81-a14a-6a2d412fd308\")>,\n",
       " <selenium.webdriver.remote.webelement.WebElement (session=\"9c65972ae72aacca28dcc43336334f35\", element=\"c6b23e47-6409-4826-aae1-35242cb7a1cd\")>,\n",
       " <selenium.webdriver.remote.webelement.WebElement (session=\"9c65972ae72aacca28dcc43336334f35\", element=\"b34f756d-0afe-4c92-b6cc-d7672c5c1c44\")>,\n",
       " <selenium.webdriver.remote.webelement.WebElement (session=\"9c65972ae72aacca28dcc43336334f35\", element=\"22932bb4-c6d1-44d6-90ae-b39531ea8b3b\")>,\n",
       " <selenium.webdriver.remote.webelement.WebElement (session=\"9c65972ae72aacca28dcc43336334f35\", element=\"7263d329-e1f1-449f-b73e-54b4fa3ec1d3\")>,\n",
       " <selenium.webdriver.remote.webelement.WebElement (session=\"9c65972ae72aacca28dcc43336334f35\", element=\"1ce4a7bf-2890-488b-8c8f-109e0ee2e9b0\")>,\n",
       " <selenium.webdriver.remote.webelement.WebElement (session=\"9c65972ae72aacca28dcc43336334f35\", element=\"7bc96ac5-8edb-42ea-9f52-b78f590e4f98\")>,\n",
       " <selenium.webdriver.remote.webelement.WebElement (session=\"9c65972ae72aacca28dcc43336334f35\", element=\"8ca6a4c1-9efb-495b-868e-b0176e68bd49\")>,\n",
       " <selenium.webdriver.remote.webelement.WebElement (session=\"9c65972ae72aacca28dcc43336334f35\", element=\"34fcf8fd-dd69-4886-806a-fe75f4422dfe\")>,\n",
       " <selenium.webdriver.remote.webelement.WebElement (session=\"9c65972ae72aacca28dcc43336334f35\", element=\"83ad01aa-caaf-493c-ac6f-9fcfb4ec73a8\")>,\n",
       " <selenium.webdriver.remote.webelement.WebElement (session=\"9c65972ae72aacca28dcc43336334f35\", element=\"1cd74f58-036b-4c79-b83f-f728905cf870\")>,\n",
       " <selenium.webdriver.remote.webelement.WebElement (session=\"9c65972ae72aacca28dcc43336334f35\", element=\"2b15a378-4548-45f7-adf7-ade8ef9f00ed\")>,\n",
       " <selenium.webdriver.remote.webelement.WebElement (session=\"9c65972ae72aacca28dcc43336334f35\", element=\"956f9bfe-62b1-48c2-a6fc-bd6ff539b6f9\")>,\n",
       " <selenium.webdriver.remote.webelement.WebElement (session=\"9c65972ae72aacca28dcc43336334f35\", element=\"1ef1f08d-4782-48f3-a9ec-41f6b7afb30f\")>,\n",
       " <selenium.webdriver.remote.webelement.WebElement (session=\"9c65972ae72aacca28dcc43336334f35\", element=\"cacab702-8447-4078-80b8-5861b6a9a433\")>,\n",
       " <selenium.webdriver.remote.webelement.WebElement (session=\"9c65972ae72aacca28dcc43336334f35\", element=\"47059ca3-bc98-4166-b06f-9a7ed5229438\")>,\n",
       " <selenium.webdriver.remote.webelement.WebElement (session=\"9c65972ae72aacca28dcc43336334f35\", element=\"91ba18e7-88c2-45a1-96f3-a7fb965978e0\")>,\n",
       " <selenium.webdriver.remote.webelement.WebElement (session=\"9c65972ae72aacca28dcc43336334f35\", element=\"2d426577-00b6-4128-8a6c-b7b8ce68bab0\")>,\n",
       " <selenium.webdriver.remote.webelement.WebElement (session=\"9c65972ae72aacca28dcc43336334f35\", element=\"f369ca57-5d21-4c53-947f-7bf551a2ba0c\")>,\n",
       " <selenium.webdriver.remote.webelement.WebElement (session=\"9c65972ae72aacca28dcc43336334f35\", element=\"516129c0-88c2-4e20-bfa8-dbfb0d5f2176\")>,\n",
       " <selenium.webdriver.remote.webelement.WebElement (session=\"9c65972ae72aacca28dcc43336334f35\", element=\"94fbdf34-2012-4da3-b7ed-f70d7c7ea75b\")>,\n",
       " <selenium.webdriver.remote.webelement.WebElement (session=\"9c65972ae72aacca28dcc43336334f35\", element=\"7d9ed71a-73e2-41fe-8b3b-e3ac3dd89e96\")>,\n",
       " <selenium.webdriver.remote.webelement.WebElement (session=\"9c65972ae72aacca28dcc43336334f35\", element=\"47a885b1-f86c-4887-a241-0caa7a0c9324\")>,\n",
       " <selenium.webdriver.remote.webelement.WebElement (session=\"9c65972ae72aacca28dcc43336334f35\", element=\"d34c0bbb-8a96-4dd0-9a77-012c6dda529d\")>,\n",
       " <selenium.webdriver.remote.webelement.WebElement (session=\"9c65972ae72aacca28dcc43336334f35\", element=\"0f632006-c4f6-4ee9-b79f-8c70b5457c62\")>,\n",
       " <selenium.webdriver.remote.webelement.WebElement (session=\"9c65972ae72aacca28dcc43336334f35\", element=\"ce20e9b2-7ac1-4926-8b01-d3bc3b81452a\")>,\n",
       " <selenium.webdriver.remote.webelement.WebElement (session=\"9c65972ae72aacca28dcc43336334f35\", element=\"c4291d30-6c3b-4d02-a555-29363184f47f\")>,\n",
       " <selenium.webdriver.remote.webelement.WebElement (session=\"9c65972ae72aacca28dcc43336334f35\", element=\"808cdb25-fd5f-4274-b887-270554e76c64\")>,\n",
       " <selenium.webdriver.remote.webelement.WebElement (session=\"9c65972ae72aacca28dcc43336334f35\", element=\"caef576b-30bc-4aa3-9785-b88c573dd999\")>,\n",
       " <selenium.webdriver.remote.webelement.WebElement (session=\"9c65972ae72aacca28dcc43336334f35\", element=\"8aa0bf7d-9af4-460b-a5f1-bc89a1746283\")>,\n",
       " <selenium.webdriver.remote.webelement.WebElement (session=\"9c65972ae72aacca28dcc43336334f35\", element=\"cf8749d1-0367-4efb-9b9d-ee523c882ff7\")>,\n",
       " <selenium.webdriver.remote.webelement.WebElement (session=\"9c65972ae72aacca28dcc43336334f35\", element=\"4e53f4ed-73fb-438f-86f2-34a3d8b1f74a\")>]"
      ]
     },
     "execution_count": 295,
     "metadata": {},
     "output_type": "execute_result"
    }
   ],
   "source": [
    "saving_tag=driver.find_elements_by_xpath(\"//div[@class='_3tcB5a _2AaDRY']//div\")\n",
    "saving_tag"
   ]
  },
  {
   "cell_type": "code",
   "execution_count": 296,
   "metadata": {},
   "outputs": [
    {
     "data": {
      "text/plain": [
       "['Or Pay ₹518 + \\n 28',\n",
       " 'Or Pay ₹518 + ',\n",
       " '',\n",
       " ' 28',\n",
       " 'Or Pay ₹517 + \\n 28',\n",
       " 'Or Pay ₹517 + ',\n",
       " '',\n",
       " ' 28',\n",
       " 'Or Pay ₹541 + \\n 29',\n",
       " 'Or Pay ₹541 + ',\n",
       " '',\n",
       " ' 29',\n",
       " 'Or Pay ₹331 + \\n 18',\n",
       " 'Or Pay ₹331 + ',\n",
       " '',\n",
       " ' 18',\n",
       " 'Or Pay ₹204 + \\n 11',\n",
       " 'Or Pay ₹204 + ',\n",
       " '',\n",
       " ' 11',\n",
       " 'Or Pay ₹569 + \\n 30',\n",
       " 'Or Pay ₹569 + ',\n",
       " '',\n",
       " ' 30',\n",
       " 'Or Pay ₹284 + \\n 15',\n",
       " 'Or Pay ₹284 + ',\n",
       " '',\n",
       " ' 15',\n",
       " 'Or Pay ₹375 + \\n 20',\n",
       " 'Or Pay ₹375 + ',\n",
       " '',\n",
       " ' 20',\n",
       " 'Or Pay ₹375 + \\n 20',\n",
       " 'Or Pay ₹375 + ',\n",
       " '',\n",
       " ' 20',\n",
       " 'Or Pay ₹1,121 + \\n 60',\n",
       " 'Or Pay ',\n",
       " '₹1,121 + ',\n",
       " '',\n",
       " ' 60',\n",
       " 'Or Pay ₹298 + \\n 16',\n",
       " 'Or Pay ₹298 + ',\n",
       " '',\n",
       " ' 16',\n",
       " 'Or Pay ₹807 + \\n 43',\n",
       " 'Or Pay ',\n",
       " '₹807 + ',\n",
       " '',\n",
       " ' 43',\n",
       " 'Or Pay ₹696 + \\n 37',\n",
       " 'Or Pay ₹696 + ',\n",
       " '',\n",
       " ' 37',\n",
       " 'Or Pay ₹237 + \\n 13',\n",
       " 'Or Pay ₹237 + ',\n",
       " '',\n",
       " ' 13',\n",
       " 'Or Pay ₹224 + \\n 12',\n",
       " 'Or Pay ₹224 + ',\n",
       " '',\n",
       " ' 12',\n",
       " 'Or Pay ₹246 + \\n 13',\n",
       " 'Or Pay ₹246 + ',\n",
       " '',\n",
       " ' 13']"
      ]
     },
     "execution_count": 296,
     "metadata": {},
     "output_type": "execute_result"
    }
   ],
   "source": [
    "saving=[]\n",
    "for i in saving_tag:\n",
    "    saving.append(i.text)\n",
    "saving"
   ]
  },
  {
   "cell_type": "code",
   "execution_count": 297,
   "metadata": {},
   "outputs": [],
   "source": [
    "sunglasses=pd.DataFrame({})\n",
    "sunglasses['Brand']=brand_name\n",
    "sunglasses['price']=price\n",
    "sunglasses['Discount']=discount\n"
   ]
  },
  {
   "cell_type": "code",
   "execution_count": 298,
   "metadata": {},
   "outputs": [
    {
     "data": {
      "text/html": [
       "<div>\n",
       "<style scoped>\n",
       "    .dataframe tbody tr th:only-of-type {\n",
       "        vertical-align: middle;\n",
       "    }\n",
       "\n",
       "    .dataframe tbody tr th {\n",
       "        vertical-align: top;\n",
       "    }\n",
       "\n",
       "    .dataframe thead th {\n",
       "        text-align: right;\n",
       "    }\n",
       "</style>\n",
       "<table border=\"1\" class=\"dataframe\">\n",
       "  <thead>\n",
       "    <tr style=\"text-align: right;\">\n",
       "      <th></th>\n",
       "      <th>Brand</th>\n",
       "      <th>price</th>\n",
       "      <th>Discount</th>\n",
       "    </tr>\n",
       "  </thead>\n",
       "  <tbody>\n",
       "    <tr>\n",
       "      <th>0</th>\n",
       "      <td>Fastrack</td>\n",
       "      <td>₹546</td>\n",
       "      <td>31% off</td>\n",
       "    </tr>\n",
       "    <tr>\n",
       "      <th>1</th>\n",
       "      <td>Fastrack</td>\n",
       "      <td>₹545</td>\n",
       "      <td>31% off</td>\n",
       "    </tr>\n",
       "    <tr>\n",
       "      <th>2</th>\n",
       "      <td>ROZZETTA CRAFT</td>\n",
       "      <td>₹499</td>\n",
       "      <td>77% off</td>\n",
       "    </tr>\n",
       "    <tr>\n",
       "      <th>3</th>\n",
       "      <td>Fastrack</td>\n",
       "      <td>₹570</td>\n",
       "      <td>28% off</td>\n",
       "    </tr>\n",
       "    <tr>\n",
       "      <th>4</th>\n",
       "      <td>PIRASO</td>\n",
       "      <td>₹349</td>\n",
       "      <td>78% off</td>\n",
       "    </tr>\n",
       "    <tr>\n",
       "      <th>5</th>\n",
       "      <td>PHENOMENAL</td>\n",
       "      <td>₹399</td>\n",
       "      <td>80% off</td>\n",
       "    </tr>\n",
       "    <tr>\n",
       "      <th>6</th>\n",
       "      <td>DEIXELS</td>\n",
       "      <td>₹213</td>\n",
       "      <td>82% off</td>\n",
       "    </tr>\n",
       "    <tr>\n",
       "      <th>7</th>\n",
       "      <td>HIPPON</td>\n",
       "      <td>₹251</td>\n",
       "      <td>79% off</td>\n",
       "    </tr>\n",
       "    <tr>\n",
       "      <th>8</th>\n",
       "      <td>NuVew</td>\n",
       "      <td>₹215</td>\n",
       "      <td>72% off</td>\n",
       "    </tr>\n",
       "    <tr>\n",
       "      <th>9</th>\n",
       "      <td>Singco India</td>\n",
       "      <td>₹194</td>\n",
       "      <td>72% off</td>\n",
       "    </tr>\n",
       "    <tr>\n",
       "      <th>10</th>\n",
       "      <td>GANSTA</td>\n",
       "      <td>₹281</td>\n",
       "      <td>85% off</td>\n",
       "    </tr>\n",
       "    <tr>\n",
       "      <th>11</th>\n",
       "      <td>hipe</td>\n",
       "      <td>₹199</td>\n",
       "      <td>80% off</td>\n",
       "    </tr>\n",
       "    <tr>\n",
       "      <th>12</th>\n",
       "      <td>elegante</td>\n",
       "      <td>₹499</td>\n",
       "      <td>66% off</td>\n",
       "    </tr>\n",
       "    <tr>\n",
       "      <th>13</th>\n",
       "      <td>ROYAL SON</td>\n",
       "      <td>₹664</td>\n",
       "      <td>66% off</td>\n",
       "    </tr>\n",
       "    <tr>\n",
       "      <th>14</th>\n",
       "      <td>ROYAL SON</td>\n",
       "      <td>₹217</td>\n",
       "      <td>78% off</td>\n",
       "    </tr>\n",
       "    <tr>\n",
       "      <th>15</th>\n",
       "      <td>Villain</td>\n",
       "      <td>₹599</td>\n",
       "      <td>20% off</td>\n",
       "    </tr>\n",
       "    <tr>\n",
       "      <th>16</th>\n",
       "      <td>Silver Kartz</td>\n",
       "      <td>₹299</td>\n",
       "      <td>75% off</td>\n",
       "    </tr>\n",
       "    <tr>\n",
       "      <th>17</th>\n",
       "      <td>Flizz</td>\n",
       "      <td>₹399</td>\n",
       "      <td>81% off</td>\n",
       "    </tr>\n",
       "    <tr>\n",
       "      <th>18</th>\n",
       "      <td>SRPM</td>\n",
       "      <td>₹189</td>\n",
       "      <td>62% off</td>\n",
       "    </tr>\n",
       "    <tr>\n",
       "      <th>19</th>\n",
       "      <td>NuVew</td>\n",
       "      <td>₹395</td>\n",
       "      <td>74% off</td>\n",
       "    </tr>\n",
       "    <tr>\n",
       "      <th>20</th>\n",
       "      <td>AISLIN</td>\n",
       "      <td>₹525</td>\n",
       "      <td>65% off</td>\n",
       "    </tr>\n",
       "    <tr>\n",
       "      <th>21</th>\n",
       "      <td>Fravy</td>\n",
       "      <td>₹289</td>\n",
       "      <td>80% off</td>\n",
       "    </tr>\n",
       "    <tr>\n",
       "      <th>22</th>\n",
       "      <td>Crackers</td>\n",
       "      <td>₹170</td>\n",
       "      <td>82% off</td>\n",
       "    </tr>\n",
       "    <tr>\n",
       "      <th>23</th>\n",
       "      <td>AISLIN</td>\n",
       "      <td>₹395</td>\n",
       "      <td>77% off</td>\n",
       "    </tr>\n",
       "    <tr>\n",
       "      <th>24</th>\n",
       "      <td>Singco</td>\n",
       "      <td>₹327</td>\n",
       "      <td>83% off</td>\n",
       "    </tr>\n",
       "    <tr>\n",
       "      <th>25</th>\n",
       "      <td>PETER JONES</td>\n",
       "      <td>₹549</td>\n",
       "      <td>63% off</td>\n",
       "    </tr>\n",
       "    <tr>\n",
       "      <th>26</th>\n",
       "      <td>BKGE</td>\n",
       "      <td>₹394</td>\n",
       "      <td>78% off</td>\n",
       "    </tr>\n",
       "    <tr>\n",
       "      <th>27</th>\n",
       "      <td>Badfella</td>\n",
       "      <td>₹269</td>\n",
       "      <td>73% off</td>\n",
       "    </tr>\n",
       "    <tr>\n",
       "      <th>28</th>\n",
       "      <td>IDEE</td>\n",
       "      <td>₹1,181</td>\n",
       "      <td>58% off</td>\n",
       "    </tr>\n",
       "    <tr>\n",
       "      <th>29</th>\n",
       "      <td>NuVew</td>\n",
       "      <td>₹314</td>\n",
       "      <td>70% off</td>\n",
       "    </tr>\n",
       "    <tr>\n",
       "      <th>30</th>\n",
       "      <td>Wrogn</td>\n",
       "      <td>₹850</td>\n",
       "      <td>66% off</td>\n",
       "    </tr>\n",
       "    <tr>\n",
       "      <th>31</th>\n",
       "      <td>Fastrack</td>\n",
       "      <td>₹733</td>\n",
       "      <td>18% off</td>\n",
       "    </tr>\n",
       "    <tr>\n",
       "      <th>32</th>\n",
       "      <td>ROZZETTA CRAFT</td>\n",
       "      <td>₹404</td>\n",
       "      <td>79% off</td>\n",
       "    </tr>\n",
       "    <tr>\n",
       "      <th>33</th>\n",
       "      <td>ROYAL SON</td>\n",
       "      <td>₹664</td>\n",
       "      <td>66% off</td>\n",
       "    </tr>\n",
       "    <tr>\n",
       "      <th>34</th>\n",
       "      <td>PIRASO</td>\n",
       "      <td>₹250</td>\n",
       "      <td>84% off</td>\n",
       "    </tr>\n",
       "    <tr>\n",
       "      <th>35</th>\n",
       "      <td>PHENOMENAL</td>\n",
       "      <td>₹399</td>\n",
       "      <td>80% off</td>\n",
       "    </tr>\n",
       "    <tr>\n",
       "      <th>36</th>\n",
       "      <td>DEIXELS</td>\n",
       "      <td>₹209</td>\n",
       "      <td>73% off</td>\n",
       "    </tr>\n",
       "    <tr>\n",
       "      <th>37</th>\n",
       "      <td>Singco India</td>\n",
       "      <td>₹236</td>\n",
       "      <td>84% off</td>\n",
       "    </tr>\n",
       "    <tr>\n",
       "      <th>38</th>\n",
       "      <td>hipe</td>\n",
       "      <td>₹219</td>\n",
       "      <td>86% off</td>\n",
       "    </tr>\n",
       "    <tr>\n",
       "      <th>39</th>\n",
       "      <td>LIZA ANGEL</td>\n",
       "      <td>₹259</td>\n",
       "      <td>67% off</td>\n",
       "    </tr>\n",
       "  </tbody>\n",
       "</table>\n",
       "</div>"
      ],
      "text/plain": [
       "             Brand   price Discount\n",
       "0         Fastrack    ₹546  31% off\n",
       "1         Fastrack    ₹545  31% off\n",
       "2   ROZZETTA CRAFT    ₹499  77% off\n",
       "3         Fastrack    ₹570  28% off\n",
       "4           PIRASO    ₹349  78% off\n",
       "5       PHENOMENAL    ₹399  80% off\n",
       "6          DEIXELS    ₹213  82% off\n",
       "7           HIPPON    ₹251  79% off\n",
       "8            NuVew    ₹215  72% off\n",
       "9     Singco India    ₹194  72% off\n",
       "10          GANSTA    ₹281  85% off\n",
       "11            hipe    ₹199  80% off\n",
       "12        elegante    ₹499  66% off\n",
       "13       ROYAL SON    ₹664  66% off\n",
       "14       ROYAL SON    ₹217  78% off\n",
       "15         Villain    ₹599  20% off\n",
       "16    Silver Kartz    ₹299  75% off\n",
       "17           Flizz    ₹399  81% off\n",
       "18            SRPM    ₹189  62% off\n",
       "19           NuVew    ₹395  74% off\n",
       "20          AISLIN    ₹525  65% off\n",
       "21           Fravy    ₹289  80% off\n",
       "22        Crackers    ₹170  82% off\n",
       "23          AISLIN    ₹395  77% off\n",
       "24          Singco    ₹327  83% off\n",
       "25     PETER JONES    ₹549  63% off\n",
       "26            BKGE    ₹394  78% off\n",
       "27        Badfella    ₹269  73% off\n",
       "28            IDEE  ₹1,181  58% off\n",
       "29           NuVew    ₹314  70% off\n",
       "30           Wrogn    ₹850  66% off\n",
       "31        Fastrack    ₹733  18% off\n",
       "32  ROZZETTA CRAFT    ₹404  79% off\n",
       "33       ROYAL SON    ₹664  66% off\n",
       "34          PIRASO    ₹250  84% off\n",
       "35      PHENOMENAL    ₹399  80% off\n",
       "36         DEIXELS    ₹209  73% off\n",
       "37    Singco India    ₹236  84% off\n",
       "38            hipe    ₹219  86% off\n",
       "39      LIZA ANGEL    ₹259  67% off"
      ]
     },
     "execution_count": 298,
     "metadata": {},
     "output_type": "execute_result"
    }
   ],
   "source": [
    "sunglasses"
   ]
  },
  {
   "cell_type": "code",
   "execution_count": 299,
   "metadata": {},
   "outputs": [],
   "source": [
    "driver.close()"
   ]
  },
  {
   "cell_type": "markdown",
   "metadata": {},
   "source": [
    "# ques 7"
   ]
  },
  {
   "cell_type": "code",
   "execution_count": 6,
   "metadata": {},
   "outputs": [],
   "source": [
    "driver=webdriver.Chrome(r\"C:\\Users\\DELL\\Downloads\\chromedriver\")"
   ]
  },
  {
   "cell_type": "code",
   "execution_count": 8,
   "metadata": {},
   "outputs": [],
   "source": [
    "url='https://www.flipkart.com/apple-iphone-11-black-64-gb-includes-earpods-power-adapter/p/itm0f37c2240b217?pid=MOBFKCTSVZAXUHGR&lid=LSTMOBFKCTSVZAXUHGREPBFGI&marketplace'\n",
    "driver.get(url)"
   ]
  },
  {
   "cell_type": "code",
   "execution_count": 14,
   "metadata": {},
   "outputs": [
    {
     "data": {
      "text/plain": [
       "[<selenium.webdriver.remote.webelement.WebElement (session=\"4952df2d4b255e30a131ff66659e640a\", element=\"c53bc574-9be5-4b36-94ed-85ee633fa74b\")>,\n",
       " <selenium.webdriver.remote.webelement.WebElement (session=\"4952df2d4b255e30a131ff66659e640a\", element=\"822bff6c-27c8-43c7-a13c-3b05611c6d73\")>,\n",
       " <selenium.webdriver.remote.webelement.WebElement (session=\"4952df2d4b255e30a131ff66659e640a\", element=\"b8366df4-2626-4bad-bddf-4ac09b1e7809\")>,\n",
       " <selenium.webdriver.remote.webelement.WebElement (session=\"4952df2d4b255e30a131ff66659e640a\", element=\"0e253333-7845-43d4-b97a-85c6d9fb2c6d\")>,\n",
       " <selenium.webdriver.remote.webelement.WebElement (session=\"4952df2d4b255e30a131ff66659e640a\", element=\"bd42b449-a4f0-4383-81f4-30b4cf76502b\")>,\n",
       " <selenium.webdriver.remote.webelement.WebElement (session=\"4952df2d4b255e30a131ff66659e640a\", element=\"1cc1f99e-00e5-4535-86a7-bfb8aca10b41\")>,\n",
       " <selenium.webdriver.remote.webelement.WebElement (session=\"4952df2d4b255e30a131ff66659e640a\", element=\"894bd14e-5280-4d72-8950-a8a62e3fa6a3\")>,\n",
       " <selenium.webdriver.remote.webelement.WebElement (session=\"4952df2d4b255e30a131ff66659e640a\", element=\"7852b334-ee2a-4be3-8814-04695bbc43fa\")>,\n",
       " <selenium.webdriver.remote.webelement.WebElement (session=\"4952df2d4b255e30a131ff66659e640a\", element=\"1e6a1914-ec0c-4658-85aa-5bfcc2013b9e\")>,\n",
       " <selenium.webdriver.remote.webelement.WebElement (session=\"4952df2d4b255e30a131ff66659e640a\", element=\"333593c0-a06d-491d-a6da-2dc8c5f8130a\")>,\n",
       " <selenium.webdriver.remote.webelement.WebElement (session=\"4952df2d4b255e30a131ff66659e640a\", element=\"8fc0eda2-8f89-423b-9ce0-cc1367974767\")>,\n",
       " <selenium.webdriver.remote.webelement.WebElement (session=\"4952df2d4b255e30a131ff66659e640a\", element=\"10d42c43-64c3-42b7-afa1-5e76276c8177\")>,\n",
       " <selenium.webdriver.remote.webelement.WebElement (session=\"4952df2d4b255e30a131ff66659e640a\", element=\"8672ec0f-a6b8-4d93-960e-b82472c8debf\")>,\n",
       " <selenium.webdriver.remote.webelement.WebElement (session=\"4952df2d4b255e30a131ff66659e640a\", element=\"5488a584-2612-4df7-a9db-46c4ff43226a\")>,\n",
       " <selenium.webdriver.remote.webelement.WebElement (session=\"4952df2d4b255e30a131ff66659e640a\", element=\"2e53682d-82df-4f94-8a37-3f9a2461f0f4\")>]"
      ]
     },
     "execution_count": 14,
     "metadata": {},
     "output_type": "execute_result"
    }
   ],
   "source": [
    "title_tag=driver.find_elements_by_xpath(\"//a[@class='s1Q9rs']\")\n",
    "title_tag"
   ]
  },
  {
   "cell_type": "code",
   "execution_count": 15,
   "metadata": {},
   "outputs": [
    {
     "data": {
      "text/plain": [
       "['APPLE iPhone 11 Pro (Midnight Green, 64 GB)',\n",
       " 'Apple iPhone SE (Black, 64 GB) (Includes EarPods, Power Adapter)',\n",
       " 'Apple iPhone XR (White, 64 GB) (Includes EarPods, Power Adapter)',\n",
       " 'APPLE iPhone 11 (Black, 64 GB)',\n",
       " 'APPLE iPhone 11 (Purple, 64 GB)',\n",
       " 'APPLE iPhone 8 Plus (Space Grey, 64 GB)',\n",
       " '',\n",
       " '',\n",
       " 'APPLE MMTN2ZM/A Wired Headset',\n",
       " 'APPLE Airpods Pro With Wireless Charging Case Active noise cancel...',\n",
       " 'Apple AirPods with Wireless Charging Case Bluetooth Headset with ...',\n",
       " 'realme Buds Air Neo Bluetooth Headset',\n",
       " 'OnePlus Buds Bluetooth Headset',\n",
       " 'JBL C100TWS True Wireless with Google Assistant Bluetooth Headset',\n",
       " 'Apple iPhone 11 (Black, 64 GB) (Includes EarPods, Power Adapter)']"
      ]
     },
     "execution_count": 15,
     "metadata": {},
     "output_type": "execute_result"
    }
   ],
   "source": [
    "title=[]\n",
    "for i in title_tag:\n",
    "    title.append(i.text)\n",
    "title"
   ]
  },
  {
   "cell_type": "code",
   "execution_count": 17,
   "metadata": {},
   "outputs": [
    {
     "data": {
      "text/plain": [
       "[<selenium.webdriver.remote.webelement.WebElement (session=\"4952df2d4b255e30a131ff66659e640a\", element=\"5b716e0e-eab5-4d64-a539-3be1162ee20a\")>,\n",
       " <selenium.webdriver.remote.webelement.WebElement (session=\"4952df2d4b255e30a131ff66659e640a\", element=\"99e02839-4aa5-4e7e-98a5-b75771a10225\")>,\n",
       " <selenium.webdriver.remote.webelement.WebElement (session=\"4952df2d4b255e30a131ff66659e640a\", element=\"aecf8cdf-f6b8-40e2-b216-ef379ad103dc\")>,\n",
       " <selenium.webdriver.remote.webelement.WebElement (session=\"4952df2d4b255e30a131ff66659e640a\", element=\"3ecddb31-4650-4690-9152-f602c0b55822\")>,\n",
       " <selenium.webdriver.remote.webelement.WebElement (session=\"4952df2d4b255e30a131ff66659e640a\", element=\"e2f21952-c631-4ccc-8e4a-2e0e656c3694\")>,\n",
       " <selenium.webdriver.remote.webelement.WebElement (session=\"4952df2d4b255e30a131ff66659e640a\", element=\"0d6a45e3-1b5e-4ddd-be30-dcb1442b8d5f\")>,\n",
       " <selenium.webdriver.remote.webelement.WebElement (session=\"4952df2d4b255e30a131ff66659e640a\", element=\"ba656a5e-e192-4f73-9c98-7a778a391a78\")>,\n",
       " <selenium.webdriver.remote.webelement.WebElement (session=\"4952df2d4b255e30a131ff66659e640a\", element=\"6e1d87ff-6580-4117-bb3c-f8ac7c04b1de\")>,\n",
       " <selenium.webdriver.remote.webelement.WebElement (session=\"4952df2d4b255e30a131ff66659e640a\", element=\"c5eea2bb-ca71-47ed-b8d1-56d004bf6976\")>,\n",
       " <selenium.webdriver.remote.webelement.WebElement (session=\"4952df2d4b255e30a131ff66659e640a\", element=\"20fa097d-a51d-4f19-8048-11783eb55d8d\")>,\n",
       " <selenium.webdriver.remote.webelement.WebElement (session=\"4952df2d4b255e30a131ff66659e640a\", element=\"a61c1913-ce97-4dd5-aa4b-c22de7825c08\")>,\n",
       " <selenium.webdriver.remote.webelement.WebElement (session=\"4952df2d4b255e30a131ff66659e640a\", element=\"82c4aa5d-43db-4956-bade-1b7288fa3d7f\")>,\n",
       " <selenium.webdriver.remote.webelement.WebElement (session=\"4952df2d4b255e30a131ff66659e640a\", element=\"b22c807e-e432-49bc-ab4d-37a14839ec99\")>,\n",
       " <selenium.webdriver.remote.webelement.WebElement (session=\"4952df2d4b255e30a131ff66659e640a\", element=\"96d061ca-180f-43df-8a2e-2531678fde1d\")>,\n",
       " <selenium.webdriver.remote.webelement.WebElement (session=\"4952df2d4b255e30a131ff66659e640a\", element=\"de01e53c-3030-4932-b59b-762a328f69f7\")>,\n",
       " <selenium.webdriver.remote.webelement.WebElement (session=\"4952df2d4b255e30a131ff66659e640a\", element=\"f63448c5-858b-4dba-97ac-590b549eb718\")>]"
      ]
     },
     "execution_count": 17,
     "metadata": {},
     "output_type": "execute_result"
    }
   ],
   "source": [
    "rating_tag=driver.find_elements_by_xpath(\"//div[@class='_3LWZlK']\")\n",
    "rating_tag"
   ]
  },
  {
   "cell_type": "code",
   "execution_count": 18,
   "metadata": {},
   "outputs": [
    {
     "data": {
      "text/plain": [
       "['4.6',\n",
       " '4.6',\n",
       " '4.5',\n",
       " '4.6',\n",
       " '4.6',\n",
       " '4.6',\n",
       " '4.6',\n",
       " '',\n",
       " '',\n",
       " '4.3',\n",
       " '4.5',\n",
       " '4.5',\n",
       " '3.9',\n",
       " '4.2',\n",
       " '3.9',\n",
       " '4.6']"
      ]
     },
     "execution_count": 18,
     "metadata": {},
     "output_type": "execute_result"
    }
   ],
   "source": [
    "rating=[]\n",
    "for i in rating_tag:\n",
    "    rating.append(i.text)\n",
    "rating"
   ]
  },
  {
   "cell_type": "code",
   "execution_count": 19,
   "metadata": {},
   "outputs": [
    {
     "data": {
      "text/plain": [
       "[<selenium.webdriver.remote.webelement.WebElement (session=\"4952df2d4b255e30a131ff66659e640a\", element=\"145dd20d-a8b5-46a9-9f7e-79c2c71a1dcb\")>,\n",
       " <selenium.webdriver.remote.webelement.WebElement (session=\"4952df2d4b255e30a131ff66659e640a\", element=\"d2f0aff2-9b6f-47e9-9827-740fb1787e9a\")>,\n",
       " <selenium.webdriver.remote.webelement.WebElement (session=\"4952df2d4b255e30a131ff66659e640a\", element=\"cde16ca4-bae8-4433-88a3-7072c3ade40a\")>,\n",
       " <selenium.webdriver.remote.webelement.WebElement (session=\"4952df2d4b255e30a131ff66659e640a\", element=\"e8bf190f-cd2a-44fc-861d-9197326f6515\")>,\n",
       " <selenium.webdriver.remote.webelement.WebElement (session=\"4952df2d4b255e30a131ff66659e640a\", element=\"3cfc101d-3b31-43d9-94f9-4632aacbd3cb\")>,\n",
       " <selenium.webdriver.remote.webelement.WebElement (session=\"4952df2d4b255e30a131ff66659e640a\", element=\"9aa11351-f269-4900-a344-2990879d0785\")>,\n",
       " <selenium.webdriver.remote.webelement.WebElement (session=\"4952df2d4b255e30a131ff66659e640a\", element=\"9c56df5f-ad61-4920-81c5-5fa41462e2cf\")>,\n",
       " <selenium.webdriver.remote.webelement.WebElement (session=\"4952df2d4b255e30a131ff66659e640a\", element=\"e6d1b52f-375b-486e-b3e3-116c7bea356a\")>,\n",
       " <selenium.webdriver.remote.webelement.WebElement (session=\"4952df2d4b255e30a131ff66659e640a\", element=\"f5762bfd-e88b-4641-9307-a5bf4e417e25\")>,\n",
       " <selenium.webdriver.remote.webelement.WebElement (session=\"4952df2d4b255e30a131ff66659e640a\", element=\"141d8ba1-6aff-4b80-bcca-5e46a0791e09\")>,\n",
       " <selenium.webdriver.remote.webelement.WebElement (session=\"4952df2d4b255e30a131ff66659e640a\", element=\"ca282d2a-bf08-4436-9386-ac487c12e570\")>,\n",
       " <selenium.webdriver.remote.webelement.WebElement (session=\"4952df2d4b255e30a131ff66659e640a\", element=\"6bfe1dea-7424-4f8e-953b-eb04ac0d4d9b\")>,\n",
       " <selenium.webdriver.remote.webelement.WebElement (session=\"4952df2d4b255e30a131ff66659e640a\", element=\"1b4fb11d-0f97-40f3-8269-d81ec3fce134\")>,\n",
       " <selenium.webdriver.remote.webelement.WebElement (session=\"4952df2d4b255e30a131ff66659e640a\", element=\"d6943086-4cf7-4c53-8c49-063851005aab\")>,\n",
       " <selenium.webdriver.remote.webelement.WebElement (session=\"4952df2d4b255e30a131ff66659e640a\", element=\"2e39a1dd-5665-4cdb-b1d5-64ef553cf00a\")>]"
      ]
     },
     "execution_count": 19,
     "metadata": {},
     "output_type": "execute_result"
    }
   ],
   "source": [
    "price_tag=driver.find_elements_by_xpath(\"//div[@class='_30jeq3']\")\n",
    "price_tag"
   ]
  },
  {
   "cell_type": "code",
   "execution_count": 20,
   "metadata": {},
   "outputs": [
    {
     "data": {
      "text/plain": [
       "['₹74,999',\n",
       " '₹31,999',\n",
       " '₹40,999',\n",
       " '₹49,999',\n",
       " '₹49,999',\n",
       " '₹49,900',\n",
       " '',\n",
       " '',\n",
       " '₹1,854',\n",
       " '₹23,900',\n",
       " '₹18,900',\n",
       " '₹2,499',\n",
       " '₹4,499',\n",
       " '₹2,999',\n",
       " '₹49,999']"
      ]
     },
     "execution_count": 20,
     "metadata": {},
     "output_type": "execute_result"
    }
   ],
   "source": [
    "price=[]\n",
    "for i in price_tag:\n",
    "    price.append(i.text)\n",
    "price"
   ]
  },
  {
   "cell_type": "code",
   "execution_count": 21,
   "metadata": {},
   "outputs": [
    {
     "data": {
      "text/plain": [
       "[<selenium.webdriver.remote.webelement.WebElement (session=\"4952df2d4b255e30a131ff66659e640a\", element=\"766368d0-b9f9-43d9-b4c0-cb9912c398be\")>,\n",
       " <selenium.webdriver.remote.webelement.WebElement (session=\"4952df2d4b255e30a131ff66659e640a\", element=\"c5161a20-99db-42fe-8a80-b6eb61aebbaa\")>,\n",
       " <selenium.webdriver.remote.webelement.WebElement (session=\"4952df2d4b255e30a131ff66659e640a\", element=\"ee089b59-e463-4e22-9374-af08abfc4062\")>,\n",
       " <selenium.webdriver.remote.webelement.WebElement (session=\"4952df2d4b255e30a131ff66659e640a\", element=\"aeb5bf8a-a2ce-4136-b3a1-59b5a075a7a8\")>,\n",
       " <selenium.webdriver.remote.webelement.WebElement (session=\"4952df2d4b255e30a131ff66659e640a\", element=\"569b5721-8b46-4722-bb28-10628aa7e0b7\")>,\n",
       " <selenium.webdriver.remote.webelement.WebElement (session=\"4952df2d4b255e30a131ff66659e640a\", element=\"23c6f5a2-56ec-490e-94ba-b1dcb8f0dc38\")>,\n",
       " <selenium.webdriver.remote.webelement.WebElement (session=\"4952df2d4b255e30a131ff66659e640a\", element=\"9ce2dc13-95fe-4b0c-a6c8-5899f8a22f9d\")>,\n",
       " <selenium.webdriver.remote.webelement.WebElement (session=\"4952df2d4b255e30a131ff66659e640a\", element=\"f0c153ab-87d2-4956-8f54-80e6c1a8f2f7\")>,\n",
       " <selenium.webdriver.remote.webelement.WebElement (session=\"4952df2d4b255e30a131ff66659e640a\", element=\"2b68961b-e928-4c52-9402-0ec7e2cbc735\")>,\n",
       " <selenium.webdriver.remote.webelement.WebElement (session=\"4952df2d4b255e30a131ff66659e640a\", element=\"54fef27a-7bfb-4983-a96d-6023fe5cbef1\")>,\n",
       " <selenium.webdriver.remote.webelement.WebElement (session=\"4952df2d4b255e30a131ff66659e640a\", element=\"2f491f5d-2869-4276-8f07-b17f19dde246\")>,\n",
       " <selenium.webdriver.remote.webelement.WebElement (session=\"4952df2d4b255e30a131ff66659e640a\", element=\"03a14355-1aaf-43f6-a256-97a09c6dd368\")>]"
      ]
     },
     "execution_count": 21,
     "metadata": {},
     "output_type": "execute_result"
    }
   ],
   "source": [
    "discount_tag=driver.find_elements_by_xpath(\"//div[@class='_3Ay6Sb']//span\")\n",
    "discount_tag"
   ]
  },
  {
   "cell_type": "code",
   "execution_count": 22,
   "metadata": {},
   "outputs": [
    {
     "data": {
      "text/plain": [
       "['29% off',\n",
       " '19% off',\n",
       " '14% off',\n",
       " '8% off',\n",
       " '8% off',\n",
       " '',\n",
       " '2% off',\n",
       " '4% off',\n",
       " '37% off',\n",
       " '9% off',\n",
       " '',\n",
       " '8% off']"
      ]
     },
     "execution_count": 22,
     "metadata": {},
     "output_type": "execute_result"
    }
   ],
   "source": [
    "discount=[]\n",
    "for i in discount_tag:\n",
    "    discount.append(i.text)\n",
    "discount\n"
   ]
  },
  {
   "cell_type": "code",
   "execution_count": 28,
   "metadata": {},
   "outputs": [],
   "source": [
    "driver.close()"
   ]
  },
  {
   "cell_type": "markdown",
   "metadata": {},
   "source": [
    "# ques9"
   ]
  },
  {
   "cell_type": "code",
   "execution_count": 48,
   "metadata": {},
   "outputs": [],
   "source": [
    "driver=webdriver.Chrome(r\"C:\\Users\\DELL\\Downloads\\chromedriver\")"
   ]
  },
  {
   "cell_type": "code",
   "execution_count": 49,
   "metadata": {},
   "outputs": [],
   "source": [
    "url=' https://www.myntra.com/shoes'\n",
    "driver.get(url)"
   ]
  },
  {
   "cell_type": "code",
   "execution_count": 52,
   "metadata": {},
   "outputs": [],
   "source": [
    "filter_tag=driver.find_element_by_xpath(\"//label[@class='common-customRadio gender-label']\")\n",
    "filter_tag.click()"
   ]
  },
  {
   "cell_type": "code",
   "execution_count": 54,
   "metadata": {},
   "outputs": [],
   "source": [
    "color_filter=driver.find_element_by_xpath(\"//li[@class='colour-listItem']//label\")\n",
    "color_filter.click()"
   ]
  },
  {
   "cell_type": "code",
   "execution_count": 55,
   "metadata": {},
   "outputs": [
    {
     "data": {
      "text/plain": [
       "[<selenium.webdriver.remote.webelement.WebElement (session=\"3a8282312cbba22ad2fd7420e40cf226\", element=\"8efba2cd-5e26-476e-8649-69c46d13f35a\")>,\n",
       " <selenium.webdriver.remote.webelement.WebElement (session=\"3a8282312cbba22ad2fd7420e40cf226\", element=\"b588c1cf-79b7-46a3-bd60-bf96ac8706b4\")>,\n",
       " <selenium.webdriver.remote.webelement.WebElement (session=\"3a8282312cbba22ad2fd7420e40cf226\", element=\"95a74f11-f52b-4c46-8b26-759e16715a48\")>,\n",
       " <selenium.webdriver.remote.webelement.WebElement (session=\"3a8282312cbba22ad2fd7420e40cf226\", element=\"d6b4d703-e4b3-416d-be58-38045d8cc499\")>,\n",
       " <selenium.webdriver.remote.webelement.WebElement (session=\"3a8282312cbba22ad2fd7420e40cf226\", element=\"832939fd-b18b-4367-a34f-2a6871f4d3d7\")>,\n",
       " <selenium.webdriver.remote.webelement.WebElement (session=\"3a8282312cbba22ad2fd7420e40cf226\", element=\"d7edaea1-8f10-4b5f-8f48-8e4f1109e0de\")>,\n",
       " <selenium.webdriver.remote.webelement.WebElement (session=\"3a8282312cbba22ad2fd7420e40cf226\", element=\"a244f769-d857-46bb-b5d7-b98c35d7bb41\")>,\n",
       " <selenium.webdriver.remote.webelement.WebElement (session=\"3a8282312cbba22ad2fd7420e40cf226\", element=\"40d38b31-87bd-40ae-8d10-dcd84c9de94a\")>,\n",
       " <selenium.webdriver.remote.webelement.WebElement (session=\"3a8282312cbba22ad2fd7420e40cf226\", element=\"6aeef116-d73d-4afe-9413-711061e933ee\")>,\n",
       " <selenium.webdriver.remote.webelement.WebElement (session=\"3a8282312cbba22ad2fd7420e40cf226\", element=\"8538061f-75cf-4f65-a86f-d9c0d440f37d\")>,\n",
       " <selenium.webdriver.remote.webelement.WebElement (session=\"3a8282312cbba22ad2fd7420e40cf226\", element=\"70c74a83-2663-4b02-a8f9-f10c64448e05\")>,\n",
       " <selenium.webdriver.remote.webelement.WebElement (session=\"3a8282312cbba22ad2fd7420e40cf226\", element=\"93bf708d-3b5a-4deb-b67e-3d8cff406c96\")>,\n",
       " <selenium.webdriver.remote.webelement.WebElement (session=\"3a8282312cbba22ad2fd7420e40cf226\", element=\"991eb4dd-162f-4b81-8d74-0cfa830e3cb8\")>,\n",
       " <selenium.webdriver.remote.webelement.WebElement (session=\"3a8282312cbba22ad2fd7420e40cf226\", element=\"e33334a1-1475-402e-959d-1358638d2385\")>,\n",
       " <selenium.webdriver.remote.webelement.WebElement (session=\"3a8282312cbba22ad2fd7420e40cf226\", element=\"16b3928a-8e7a-4387-9c7d-2b51a86a455b\")>,\n",
       " <selenium.webdriver.remote.webelement.WebElement (session=\"3a8282312cbba22ad2fd7420e40cf226\", element=\"e1ce6f76-6531-46e4-a9a9-1ebdd0ad0cef\")>,\n",
       " <selenium.webdriver.remote.webelement.WebElement (session=\"3a8282312cbba22ad2fd7420e40cf226\", element=\"8294b902-db2e-4e5f-ac00-bf4640fac4cb\")>,\n",
       " <selenium.webdriver.remote.webelement.WebElement (session=\"3a8282312cbba22ad2fd7420e40cf226\", element=\"119509b1-afdc-4421-9a5e-47bb62357b8a\")>,\n",
       " <selenium.webdriver.remote.webelement.WebElement (session=\"3a8282312cbba22ad2fd7420e40cf226\", element=\"6abc183f-0522-4085-a5b2-32ba4f236fbd\")>,\n",
       " <selenium.webdriver.remote.webelement.WebElement (session=\"3a8282312cbba22ad2fd7420e40cf226\", element=\"27d5c5dd-198a-4d0b-baa0-e9536fe3f64e\")>,\n",
       " <selenium.webdriver.remote.webelement.WebElement (session=\"3a8282312cbba22ad2fd7420e40cf226\", element=\"67816c33-0b8c-4436-b922-83875a5dc817\")>,\n",
       " <selenium.webdriver.remote.webelement.WebElement (session=\"3a8282312cbba22ad2fd7420e40cf226\", element=\"fe1b4ee3-24f2-4ed6-8f53-75566f2a15b5\")>,\n",
       " <selenium.webdriver.remote.webelement.WebElement (session=\"3a8282312cbba22ad2fd7420e40cf226\", element=\"78b78a3b-60f6-4a7b-a7de-66e36926b711\")>,\n",
       " <selenium.webdriver.remote.webelement.WebElement (session=\"3a8282312cbba22ad2fd7420e40cf226\", element=\"3f9a4d5a-01c0-4223-afc6-521948127f85\")>,\n",
       " <selenium.webdriver.remote.webelement.WebElement (session=\"3a8282312cbba22ad2fd7420e40cf226\", element=\"308ef9bd-de4a-4f3d-bdc4-338c6ed34e74\")>,\n",
       " <selenium.webdriver.remote.webelement.WebElement (session=\"3a8282312cbba22ad2fd7420e40cf226\", element=\"2c5e747b-b726-4fbf-bf2e-956f1371c7a7\")>,\n",
       " <selenium.webdriver.remote.webelement.WebElement (session=\"3a8282312cbba22ad2fd7420e40cf226\", element=\"eddb083e-e525-4552-97e7-2cf3c15c403f\")>,\n",
       " <selenium.webdriver.remote.webelement.WebElement (session=\"3a8282312cbba22ad2fd7420e40cf226\", element=\"c51ef7dd-5015-456a-be5b-9cf10dced9a2\")>,\n",
       " <selenium.webdriver.remote.webelement.WebElement (session=\"3a8282312cbba22ad2fd7420e40cf226\", element=\"e8259909-99c5-45cc-a9c9-093b96697550\")>,\n",
       " <selenium.webdriver.remote.webelement.WebElement (session=\"3a8282312cbba22ad2fd7420e40cf226\", element=\"c7fc1b15-7070-4e31-a65d-7ed66546c8a4\")>,\n",
       " <selenium.webdriver.remote.webelement.WebElement (session=\"3a8282312cbba22ad2fd7420e40cf226\", element=\"f296dfaa-c931-44a7-9da7-c5393a1a05ab\")>,\n",
       " <selenium.webdriver.remote.webelement.WebElement (session=\"3a8282312cbba22ad2fd7420e40cf226\", element=\"c8549541-aad4-496f-93af-54d59883a080\")>,\n",
       " <selenium.webdriver.remote.webelement.WebElement (session=\"3a8282312cbba22ad2fd7420e40cf226\", element=\"4f7ab630-c9bc-445d-80c8-10d85502851a\")>,\n",
       " <selenium.webdriver.remote.webelement.WebElement (session=\"3a8282312cbba22ad2fd7420e40cf226\", element=\"e2912e59-d853-4edb-b331-b775a1979edb\")>,\n",
       " <selenium.webdriver.remote.webelement.WebElement (session=\"3a8282312cbba22ad2fd7420e40cf226\", element=\"e78e9824-04b1-4bbc-8fa2-a2fd2889bc03\")>,\n",
       " <selenium.webdriver.remote.webelement.WebElement (session=\"3a8282312cbba22ad2fd7420e40cf226\", element=\"cde0ff82-63da-46c8-b95d-e46797d53614\")>,\n",
       " <selenium.webdriver.remote.webelement.WebElement (session=\"3a8282312cbba22ad2fd7420e40cf226\", element=\"727858ce-4887-4b8d-96bc-8908ac7754de\")>,\n",
       " <selenium.webdriver.remote.webelement.WebElement (session=\"3a8282312cbba22ad2fd7420e40cf226\", element=\"c44aedfb-cd51-45f7-9be7-b679e7d5c5e7\")>,\n",
       " <selenium.webdriver.remote.webelement.WebElement (session=\"3a8282312cbba22ad2fd7420e40cf226\", element=\"69e4e357-8309-471b-932a-4c15c18a24ea\")>,\n",
       " <selenium.webdriver.remote.webelement.WebElement (session=\"3a8282312cbba22ad2fd7420e40cf226\", element=\"e4264cc8-abce-43ee-bae3-474712c35969\")>,\n",
       " <selenium.webdriver.remote.webelement.WebElement (session=\"3a8282312cbba22ad2fd7420e40cf226\", element=\"4dff5a56-4dca-4464-b3e3-a72d51d95e28\")>,\n",
       " <selenium.webdriver.remote.webelement.WebElement (session=\"3a8282312cbba22ad2fd7420e40cf226\", element=\"fed89997-bbdc-48e5-858e-1a97f364696f\")>,\n",
       " <selenium.webdriver.remote.webelement.WebElement (session=\"3a8282312cbba22ad2fd7420e40cf226\", element=\"a6c23477-98b2-4f62-974d-d66128be2614\")>,\n",
       " <selenium.webdriver.remote.webelement.WebElement (session=\"3a8282312cbba22ad2fd7420e40cf226\", element=\"0ea2ce51-3f34-44ce-aa84-c8d054099db4\")>,\n",
       " <selenium.webdriver.remote.webelement.WebElement (session=\"3a8282312cbba22ad2fd7420e40cf226\", element=\"e872e5f1-4663-46f3-9bde-33124a0cbb34\")>,\n",
       " <selenium.webdriver.remote.webelement.WebElement (session=\"3a8282312cbba22ad2fd7420e40cf226\", element=\"f934b8e8-3643-432f-8026-9bdc3603543b\")>,\n",
       " <selenium.webdriver.remote.webelement.WebElement (session=\"3a8282312cbba22ad2fd7420e40cf226\", element=\"c4265cef-5236-48c0-8849-f728f422f790\")>,\n",
       " <selenium.webdriver.remote.webelement.WebElement (session=\"3a8282312cbba22ad2fd7420e40cf226\", element=\"7bd1710c-1e09-4a9e-8a6c-59fc5aab04a4\")>,\n",
       " <selenium.webdriver.remote.webelement.WebElement (session=\"3a8282312cbba22ad2fd7420e40cf226\", element=\"84a25bc9-2816-4dc9-a600-4aa40a58b2b9\")>,\n",
       " <selenium.webdriver.remote.webelement.WebElement (session=\"3a8282312cbba22ad2fd7420e40cf226\", element=\"63662c44-ed0c-4f79-a574-f12697dfb3d1\")>]"
      ]
     },
     "execution_count": 55,
     "metadata": {},
     "output_type": "execute_result"
    }
   ],
   "source": [
    "brand_tag=driver.find_elements_by_xpath(\"//h3[@class='product-brand']\")\n",
    "brand_tag"
   ]
  },
  {
   "cell_type": "code",
   "execution_count": 56,
   "metadata": {},
   "outputs": [
    {
     "data": {
      "text/plain": [
       "['PUMA Motorsport',\n",
       " 'MENGLER',\n",
       " 'Nike',\n",
       " 'Puma',\n",
       " 'Red Tape',\n",
       " 'ALDO',\n",
       " 'Nike',\n",
       " 'Nike',\n",
       " 'ADIDAS',\n",
       " 'Sparx',\n",
       " 'Nike',\n",
       " 'Eego Italy',\n",
       " 'ADIDAS',\n",
       " 'Nike',\n",
       " 'Nike',\n",
       " 'Puma',\n",
       " 'Red Tape',\n",
       " 'Puma',\n",
       " 'Provogue',\n",
       " 'Nabaiji By Decathlon',\n",
       " 'Sparx',\n",
       " 'HRX by Hrithik Roshan',\n",
       " 'AfroJack',\n",
       " 'HRX by Hrithik Roshan',\n",
       " 'Puma',\n",
       " 'Nike',\n",
       " 'Puma',\n",
       " 'Mactree',\n",
       " 'Nike',\n",
       " 'ALDO',\n",
       " 'Crew STREET',\n",
       " 'Campus',\n",
       " 'Nike',\n",
       " 'ALDO',\n",
       " 'mr.wonker',\n",
       " 'Champs',\n",
       " 'Skechers',\n",
       " 'Provogue',\n",
       " 'Reebok',\n",
       " 'Red Tape',\n",
       " 'Nike',\n",
       " 'Sparx',\n",
       " 'Puma',\n",
       " 'MENGLER',\n",
       " 'Nike',\n",
       " 'ALDO',\n",
       " 'HIGHLANDER',\n",
       " 'AfroJack',\n",
       " 'PUMA Motorsport',\n",
       " 'ALDO']"
      ]
     },
     "execution_count": 56,
     "metadata": {},
     "output_type": "execute_result"
    }
   ],
   "source": [
    "brand=[]\n",
    "for i in brand_tag:\n",
    "    brand.append(i.text)\n",
    "brand"
   ]
  },
  {
   "cell_type": "code",
   "execution_count": 57,
   "metadata": {},
   "outputs": [
    {
     "data": {
      "text/plain": [
       "[<selenium.webdriver.remote.webelement.WebElement (session=\"3a8282312cbba22ad2fd7420e40cf226\", element=\"95d60501-c536-4b99-9cd0-683b5d76a982\")>,\n",
       " <selenium.webdriver.remote.webelement.WebElement (session=\"3a8282312cbba22ad2fd7420e40cf226\", element=\"ff1513ea-30b2-4e76-85d3-0457135d59a5\")>,\n",
       " <selenium.webdriver.remote.webelement.WebElement (session=\"3a8282312cbba22ad2fd7420e40cf226\", element=\"0fc29875-682f-42aa-b3f1-779a76a247e5\")>,\n",
       " <selenium.webdriver.remote.webelement.WebElement (session=\"3a8282312cbba22ad2fd7420e40cf226\", element=\"0d81761e-b1cb-45a5-be19-0b3faa955ca3\")>,\n",
       " <selenium.webdriver.remote.webelement.WebElement (session=\"3a8282312cbba22ad2fd7420e40cf226\", element=\"e812d1f7-b3c4-4ae2-a65c-5b139fcc0809\")>,\n",
       " <selenium.webdriver.remote.webelement.WebElement (session=\"3a8282312cbba22ad2fd7420e40cf226\", element=\"0797671d-c666-44cb-ad1d-1e9c23d80ac3\")>,\n",
       " <selenium.webdriver.remote.webelement.WebElement (session=\"3a8282312cbba22ad2fd7420e40cf226\", element=\"35e60ab8-e78e-41c1-bfb0-446b8305a4aa\")>,\n",
       " <selenium.webdriver.remote.webelement.WebElement (session=\"3a8282312cbba22ad2fd7420e40cf226\", element=\"073f6720-4f1d-4c9c-9354-c3527191c65d\")>,\n",
       " <selenium.webdriver.remote.webelement.WebElement (session=\"3a8282312cbba22ad2fd7420e40cf226\", element=\"85836e97-f5d6-470b-b26a-d351d9db1fa7\")>,\n",
       " <selenium.webdriver.remote.webelement.WebElement (session=\"3a8282312cbba22ad2fd7420e40cf226\", element=\"1777a968-89d9-4ffb-8900-ebcb48f666c1\")>,\n",
       " <selenium.webdriver.remote.webelement.WebElement (session=\"3a8282312cbba22ad2fd7420e40cf226\", element=\"90b50ac9-7de5-4ac7-8a75-27a12459fd0a\")>,\n",
       " <selenium.webdriver.remote.webelement.WebElement (session=\"3a8282312cbba22ad2fd7420e40cf226\", element=\"d56949c4-3c25-44ea-8a9d-36fa3382a627\")>,\n",
       " <selenium.webdriver.remote.webelement.WebElement (session=\"3a8282312cbba22ad2fd7420e40cf226\", element=\"ee413db7-1b03-4873-a3df-5163c92de742\")>,\n",
       " <selenium.webdriver.remote.webelement.WebElement (session=\"3a8282312cbba22ad2fd7420e40cf226\", element=\"9eef84da-3280-4972-ab54-ffddfa14f42f\")>,\n",
       " <selenium.webdriver.remote.webelement.WebElement (session=\"3a8282312cbba22ad2fd7420e40cf226\", element=\"0c916dea-2ac1-40a7-a267-ee8959692d9e\")>,\n",
       " <selenium.webdriver.remote.webelement.WebElement (session=\"3a8282312cbba22ad2fd7420e40cf226\", element=\"382b2e44-ead1-454e-846e-8a2eee6317a8\")>,\n",
       " <selenium.webdriver.remote.webelement.WebElement (session=\"3a8282312cbba22ad2fd7420e40cf226\", element=\"71c8df5c-f951-4f49-98d8-632536bb3db1\")>,\n",
       " <selenium.webdriver.remote.webelement.WebElement (session=\"3a8282312cbba22ad2fd7420e40cf226\", element=\"683350ad-bd7a-4ca6-841e-164420958680\")>,\n",
       " <selenium.webdriver.remote.webelement.WebElement (session=\"3a8282312cbba22ad2fd7420e40cf226\", element=\"b4c8e3ca-5c9b-47f4-b0de-43b1e8caa049\")>,\n",
       " <selenium.webdriver.remote.webelement.WebElement (session=\"3a8282312cbba22ad2fd7420e40cf226\", element=\"c00e8bb2-8a63-47a3-bd42-f50eb9e7b3a1\")>,\n",
       " <selenium.webdriver.remote.webelement.WebElement (session=\"3a8282312cbba22ad2fd7420e40cf226\", element=\"c196e447-54d9-485e-b789-1079f9e246c2\")>,\n",
       " <selenium.webdriver.remote.webelement.WebElement (session=\"3a8282312cbba22ad2fd7420e40cf226\", element=\"a35c5809-729d-486a-9ea7-b7c0784b2c21\")>,\n",
       " <selenium.webdriver.remote.webelement.WebElement (session=\"3a8282312cbba22ad2fd7420e40cf226\", element=\"90f62593-c405-4f7a-961a-c7e0015f4107\")>,\n",
       " <selenium.webdriver.remote.webelement.WebElement (session=\"3a8282312cbba22ad2fd7420e40cf226\", element=\"b86a641a-9559-4c9a-9c47-62fd58c4f6cb\")>,\n",
       " <selenium.webdriver.remote.webelement.WebElement (session=\"3a8282312cbba22ad2fd7420e40cf226\", element=\"6ccd710e-5081-48fd-801f-56304157ad90\")>,\n",
       " <selenium.webdriver.remote.webelement.WebElement (session=\"3a8282312cbba22ad2fd7420e40cf226\", element=\"92aa5189-ac65-471e-a8a1-4b93e38d01c5\")>,\n",
       " <selenium.webdriver.remote.webelement.WebElement (session=\"3a8282312cbba22ad2fd7420e40cf226\", element=\"670daf33-deb2-4b46-91d3-1b3198493e4e\")>,\n",
       " <selenium.webdriver.remote.webelement.WebElement (session=\"3a8282312cbba22ad2fd7420e40cf226\", element=\"3a4a7796-33ba-4ef1-af62-1ab75f69879f\")>,\n",
       " <selenium.webdriver.remote.webelement.WebElement (session=\"3a8282312cbba22ad2fd7420e40cf226\", element=\"ab3b142a-4fbe-4f10-9cbc-93140ca367e3\")>,\n",
       " <selenium.webdriver.remote.webelement.WebElement (session=\"3a8282312cbba22ad2fd7420e40cf226\", element=\"9da5b5b9-7a42-44a1-93ce-89b1edde1a34\")>,\n",
       " <selenium.webdriver.remote.webelement.WebElement (session=\"3a8282312cbba22ad2fd7420e40cf226\", element=\"ad02e8ce-1773-4644-9bbd-9d3dec7a6e38\")>,\n",
       " <selenium.webdriver.remote.webelement.WebElement (session=\"3a8282312cbba22ad2fd7420e40cf226\", element=\"d0eeb83a-db4e-4c38-ad65-6be79ccac866\")>,\n",
       " <selenium.webdriver.remote.webelement.WebElement (session=\"3a8282312cbba22ad2fd7420e40cf226\", element=\"e69c7607-853d-4b24-9bd9-f609b983b16f\")>,\n",
       " <selenium.webdriver.remote.webelement.WebElement (session=\"3a8282312cbba22ad2fd7420e40cf226\", element=\"df9eb22c-2a45-4df5-986d-6f8252c15086\")>,\n",
       " <selenium.webdriver.remote.webelement.WebElement (session=\"3a8282312cbba22ad2fd7420e40cf226\", element=\"f3768436-d853-43c2-9ddf-99a8eeaaf817\")>,\n",
       " <selenium.webdriver.remote.webelement.WebElement (session=\"3a8282312cbba22ad2fd7420e40cf226\", element=\"4d5930bc-412c-4248-b017-87174d8cccf2\")>,\n",
       " <selenium.webdriver.remote.webelement.WebElement (session=\"3a8282312cbba22ad2fd7420e40cf226\", element=\"6235806b-3c6a-42a8-a6d9-cd2e27df36f0\")>,\n",
       " <selenium.webdriver.remote.webelement.WebElement (session=\"3a8282312cbba22ad2fd7420e40cf226\", element=\"1a37a797-b5a0-45ef-bb94-7c018206d4df\")>,\n",
       " <selenium.webdriver.remote.webelement.WebElement (session=\"3a8282312cbba22ad2fd7420e40cf226\", element=\"ebbe90e3-b7a1-4e55-aa38-ae73a8cf2c85\")>,\n",
       " <selenium.webdriver.remote.webelement.WebElement (session=\"3a8282312cbba22ad2fd7420e40cf226\", element=\"655d2ea4-35da-48d5-854e-a8feb2a01465\")>]"
      ]
     },
     "execution_count": 57,
     "metadata": {},
     "output_type": "execute_result"
    }
   ],
   "source": [
    "price_tag=driver.find_elements_by_xpath(\"//span[@class='product-discountedPrice']\")\n",
    "price_tag"
   ]
  },
  {
   "cell_type": "code",
   "execution_count": 58,
   "metadata": {},
   "outputs": [
    {
     "data": {
      "text/plain": [
       "['Rs. 4479',\n",
       " 'Rs. 628',\n",
       " 'Rs. 5996',\n",
       " 'Rs. 5399',\n",
       " 'Rs. 1224',\n",
       " 'Rs. 4546',\n",
       " 'Rs. 6115',\n",
       " 'Rs. 2339',\n",
       " 'Rs. 996',\n",
       " 'Rs. 899',\n",
       " 'Rs. 1949',\n",
       " 'Rs. 3996',\n",
       " 'Rs. 6115',\n",
       " 'Rs. 2694',\n",
       " 'Rs. 1224',\n",
       " 'Rs. 2624',\n",
       " 'Rs. 799',\n",
       " 'Rs. 1049',\n",
       " 'Rs. 1259',\n",
       " 'Rs. 599',\n",
       " 'Rs. 999',\n",
       " 'Rs. 2239',\n",
       " 'Rs. 6115',\n",
       " 'Rs. 2239',\n",
       " 'Rs. 649',\n",
       " 'Rs. 14955',\n",
       " 'Rs. 999',\n",
       " 'Rs. 807',\n",
       " 'Rs. 699',\n",
       " 'Rs. 599',\n",
       " 'Rs. 799',\n",
       " 'Rs. 4199',\n",
       " 'Rs. 1749',\n",
       " 'Rs. 986',\n",
       " 'Rs. 4479',\n",
       " 'Rs. 659',\n",
       " 'Rs. 895',\n",
       " 'Rs. 798',\n",
       " 'Rs. 3149',\n",
       " 'Rs. 6499']"
      ]
     },
     "execution_count": 58,
     "metadata": {},
     "output_type": "execute_result"
    }
   ],
   "source": [
    "price=[]\n",
    "for i in price_tag:\n",
    "    price.append(i.text)\n",
    "price"
   ]
  },
  {
   "cell_type": "code",
   "execution_count": 59,
   "metadata": {},
   "outputs": [
    {
     "data": {
      "text/plain": [
       "[<selenium.webdriver.remote.webelement.WebElement (session=\"3a8282312cbba22ad2fd7420e40cf226\", element=\"3a9c40e3-8119-4cf9-8314-6b014c97a4a2\")>,\n",
       " <selenium.webdriver.remote.webelement.WebElement (session=\"3a8282312cbba22ad2fd7420e40cf226\", element=\"5ac21746-953b-467b-a9e4-ed3d49a20c50\")>,\n",
       " <selenium.webdriver.remote.webelement.WebElement (session=\"3a8282312cbba22ad2fd7420e40cf226\", element=\"2b1ae6e4-7209-4e18-bb50-b74041cce0cf\")>,\n",
       " <selenium.webdriver.remote.webelement.WebElement (session=\"3a8282312cbba22ad2fd7420e40cf226\", element=\"299e1a63-a05a-45b9-ab01-b70c7ba4644c\")>,\n",
       " <selenium.webdriver.remote.webelement.WebElement (session=\"3a8282312cbba22ad2fd7420e40cf226\", element=\"ab750183-b0a6-4850-97f7-de6a82c47602\")>,\n",
       " <selenium.webdriver.remote.webelement.WebElement (session=\"3a8282312cbba22ad2fd7420e40cf226\", element=\"83bb60a2-c1d2-4ea9-b389-8d06a8a5873c\")>,\n",
       " <selenium.webdriver.remote.webelement.WebElement (session=\"3a8282312cbba22ad2fd7420e40cf226\", element=\"e55c0808-08d1-47d3-b5f7-b9945f74ae7c\")>,\n",
       " <selenium.webdriver.remote.webelement.WebElement (session=\"3a8282312cbba22ad2fd7420e40cf226\", element=\"ae1e927e-886b-42bb-8ffa-647030529c52\")>,\n",
       " <selenium.webdriver.remote.webelement.WebElement (session=\"3a8282312cbba22ad2fd7420e40cf226\", element=\"d1419099-7d0a-4a2a-9915-c9345702581a\")>,\n",
       " <selenium.webdriver.remote.webelement.WebElement (session=\"3a8282312cbba22ad2fd7420e40cf226\", element=\"c18564de-27d1-4997-b8aa-8c395a14c983\")>,\n",
       " <selenium.webdriver.remote.webelement.WebElement (session=\"3a8282312cbba22ad2fd7420e40cf226\", element=\"fc667874-6217-4687-97d9-9847866c1194\")>,\n",
       " <selenium.webdriver.remote.webelement.WebElement (session=\"3a8282312cbba22ad2fd7420e40cf226\", element=\"0c523b27-1986-42c7-adea-6b9901245683\")>,\n",
       " <selenium.webdriver.remote.webelement.WebElement (session=\"3a8282312cbba22ad2fd7420e40cf226\", element=\"6a78f2a5-a75c-4400-b3e2-14ee08f12039\")>,\n",
       " <selenium.webdriver.remote.webelement.WebElement (session=\"3a8282312cbba22ad2fd7420e40cf226\", element=\"80a0fff1-8004-484b-ada5-a2cd2dfacfeb\")>,\n",
       " <selenium.webdriver.remote.webelement.WebElement (session=\"3a8282312cbba22ad2fd7420e40cf226\", element=\"ef47cc50-8788-44dd-b046-5c42506f4753\")>,\n",
       " <selenium.webdriver.remote.webelement.WebElement (session=\"3a8282312cbba22ad2fd7420e40cf226\", element=\"59cb6e5d-1d47-48ea-8610-74960a9f595e\")>,\n",
       " <selenium.webdriver.remote.webelement.WebElement (session=\"3a8282312cbba22ad2fd7420e40cf226\", element=\"7f8a066b-4b83-492e-be04-29a76f31edea\")>,\n",
       " <selenium.webdriver.remote.webelement.WebElement (session=\"3a8282312cbba22ad2fd7420e40cf226\", element=\"aa9ce3af-ce99-4843-ae53-be211879beae\")>,\n",
       " <selenium.webdriver.remote.webelement.WebElement (session=\"3a8282312cbba22ad2fd7420e40cf226\", element=\"a6396fa9-2d6c-4e59-8124-e34d03f1a819\")>,\n",
       " <selenium.webdriver.remote.webelement.WebElement (session=\"3a8282312cbba22ad2fd7420e40cf226\", element=\"ca5f087a-c2d9-40a2-8374-d14ee6500baa\")>,\n",
       " <selenium.webdriver.remote.webelement.WebElement (session=\"3a8282312cbba22ad2fd7420e40cf226\", element=\"7c7a28d2-581a-4f10-ae27-65ae23eb6db0\")>,\n",
       " <selenium.webdriver.remote.webelement.WebElement (session=\"3a8282312cbba22ad2fd7420e40cf226\", element=\"932ed892-f229-4c08-862c-3945b80474c0\")>,\n",
       " <selenium.webdriver.remote.webelement.WebElement (session=\"3a8282312cbba22ad2fd7420e40cf226\", element=\"31af86f6-2486-4d06-b8d0-f911afc06b05\")>,\n",
       " <selenium.webdriver.remote.webelement.WebElement (session=\"3a8282312cbba22ad2fd7420e40cf226\", element=\"e36ee448-eb49-46ef-80a8-759fe280eb81\")>,\n",
       " <selenium.webdriver.remote.webelement.WebElement (session=\"3a8282312cbba22ad2fd7420e40cf226\", element=\"96d88063-91bc-438e-9d1b-d86ad4f3c487\")>,\n",
       " <selenium.webdriver.remote.webelement.WebElement (session=\"3a8282312cbba22ad2fd7420e40cf226\", element=\"cc3a98bd-cd23-45ff-8638-dc43c348c8d2\")>,\n",
       " <selenium.webdriver.remote.webelement.WebElement (session=\"3a8282312cbba22ad2fd7420e40cf226\", element=\"7f8c17c8-86ad-46e3-8111-493a22e6ffb7\")>,\n",
       " <selenium.webdriver.remote.webelement.WebElement (session=\"3a8282312cbba22ad2fd7420e40cf226\", element=\"4ecfff6d-a579-4bd5-887c-7316017d91f4\")>,\n",
       " <selenium.webdriver.remote.webelement.WebElement (session=\"3a8282312cbba22ad2fd7420e40cf226\", element=\"c8abbdf6-8e19-4bb6-821c-e3c28ffce2e2\")>,\n",
       " <selenium.webdriver.remote.webelement.WebElement (session=\"3a8282312cbba22ad2fd7420e40cf226\", element=\"08a8b5f4-28d2-4c54-9fa4-279690953b7a\")>,\n",
       " <selenium.webdriver.remote.webelement.WebElement (session=\"3a8282312cbba22ad2fd7420e40cf226\", element=\"e7f5688e-bea1-40da-8ef4-444be59e11ba\")>,\n",
       " <selenium.webdriver.remote.webelement.WebElement (session=\"3a8282312cbba22ad2fd7420e40cf226\", element=\"aa271337-c09c-4584-93e2-4d914c0ca89e\")>,\n",
       " <selenium.webdriver.remote.webelement.WebElement (session=\"3a8282312cbba22ad2fd7420e40cf226\", element=\"dd9a23e9-ede7-4344-b62c-b92a0d480b72\")>,\n",
       " <selenium.webdriver.remote.webelement.WebElement (session=\"3a8282312cbba22ad2fd7420e40cf226\", element=\"c1ee288d-e62a-4e85-8cd5-b329cbbc30f7\")>,\n",
       " <selenium.webdriver.remote.webelement.WebElement (session=\"3a8282312cbba22ad2fd7420e40cf226\", element=\"0be3bd32-4cbc-405d-95c3-b03a483478d5\")>,\n",
       " <selenium.webdriver.remote.webelement.WebElement (session=\"3a8282312cbba22ad2fd7420e40cf226\", element=\"ca389500-aa06-48f5-916b-63a24e408606\")>,\n",
       " <selenium.webdriver.remote.webelement.WebElement (session=\"3a8282312cbba22ad2fd7420e40cf226\", element=\"bec6aef4-0211-463f-a70c-4ae038d56444\")>,\n",
       " <selenium.webdriver.remote.webelement.WebElement (session=\"3a8282312cbba22ad2fd7420e40cf226\", element=\"af784dbc-93c8-425f-9f52-5edb166eb25a\")>,\n",
       " <selenium.webdriver.remote.webelement.WebElement (session=\"3a8282312cbba22ad2fd7420e40cf226\", element=\"26afff99-ec27-4afc-9b41-9570174e6575\")>,\n",
       " <selenium.webdriver.remote.webelement.WebElement (session=\"3a8282312cbba22ad2fd7420e40cf226\", element=\"7cc662e0-5a29-4ce7-811e-05a1525d9fa6\")>]"
      ]
     },
     "execution_count": 59,
     "metadata": {},
     "output_type": "execute_result"
    }
   ],
   "source": [
    "discount_tag=driver.find_elements_by_xpath(\"//span[@class='product-discountPercentage']\")\n",
    "discount_tag"
   ]
  },
  {
   "cell_type": "code",
   "execution_count": 60,
   "metadata": {},
   "outputs": [
    {
     "data": {
      "text/plain": [
       "['(44% OFF)',\n",
       " '(63% OFF)',\n",
       " '(25% OFF)',\n",
       " '(10% OFF)',\n",
       " '(75% OFF)',\n",
       " '(30% OFF)',\n",
       " '(15% OFF)',\n",
       " '(35% OFF)',\n",
       " '(5% OFF)',\n",
       " '(Rs. 1700 OFF)',\n",
       " '(35% OFF)',\n",
       " '(20% OFF)',\n",
       " '(15% OFF)',\n",
       " '(23% OFF)',\n",
       " '(75% OFF)',\n",
       " '(25% OFF)',\n",
       " '(Rs. 2900 OFF)',\n",
       " '(25% OFF)',\n",
       " '(70% OFF)',\n",
       " '(70% OFF)',\n",
       " '(Rs. 2800 OFF)',\n",
       " '(44% OFF)',\n",
       " '(15% OFF)',\n",
       " '(44% OFF)',\n",
       " '(65% OFF)',\n",
       " '(15% OFF)',\n",
       " '(Rs. 2400 OFF)',\n",
       " '(23% OFF)',\n",
       " '(65% OFF)',\n",
       " '(25% OFF)',\n",
       " '(60% OFF)',\n",
       " '(25% OFF)',\n",
       " '(75% OFF)',\n",
       " '(6% OFF)',\n",
       " '(44% OFF)',\n",
       " '(80% OFF)',\n",
       " '(55% OFF)',\n",
       " '(68% OFF)',\n",
       " '(55% OFF)',\n",
       " '(50% OFF)']"
      ]
     },
     "execution_count": 60,
     "metadata": {},
     "output_type": "execute_result"
    }
   ],
   "source": [
    "discount=[]\n",
    "for i in discount_tag:\n",
    "    discount.append(i.text)\n",
    "discount"
   ]
  },
  {
   "cell_type": "code",
   "execution_count": 63,
   "metadata": {},
   "outputs": [],
   "source": [
    "Shoes=pd.DataFrame({})\n",
    "Shoes['price']=price\n",
    "Shoes['discount']=discount\n"
   ]
  },
  {
   "cell_type": "code",
   "execution_count": 65,
   "metadata": {},
   "outputs": [
    {
     "data": {
      "text/html": [
       "<div>\n",
       "<style scoped>\n",
       "    .dataframe tbody tr th:only-of-type {\n",
       "        vertical-align: middle;\n",
       "    }\n",
       "\n",
       "    .dataframe tbody tr th {\n",
       "        vertical-align: top;\n",
       "    }\n",
       "\n",
       "    .dataframe thead th {\n",
       "        text-align: right;\n",
       "    }\n",
       "</style>\n",
       "<table border=\"1\" class=\"dataframe\">\n",
       "  <thead>\n",
       "    <tr style=\"text-align: right;\">\n",
       "      <th></th>\n",
       "      <th>price</th>\n",
       "      <th>discount</th>\n",
       "    </tr>\n",
       "  </thead>\n",
       "  <tbody>\n",
       "    <tr>\n",
       "      <th>0</th>\n",
       "      <td>Rs. 4479</td>\n",
       "      <td>(44% OFF)</td>\n",
       "    </tr>\n",
       "    <tr>\n",
       "      <th>1</th>\n",
       "      <td>Rs. 628</td>\n",
       "      <td>(63% OFF)</td>\n",
       "    </tr>\n",
       "    <tr>\n",
       "      <th>2</th>\n",
       "      <td>Rs. 5996</td>\n",
       "      <td>(25% OFF)</td>\n",
       "    </tr>\n",
       "    <tr>\n",
       "      <th>3</th>\n",
       "      <td>Rs. 5399</td>\n",
       "      <td>(10% OFF)</td>\n",
       "    </tr>\n",
       "    <tr>\n",
       "      <th>4</th>\n",
       "      <td>Rs. 1224</td>\n",
       "      <td>(75% OFF)</td>\n",
       "    </tr>\n",
       "    <tr>\n",
       "      <th>5</th>\n",
       "      <td>Rs. 4546</td>\n",
       "      <td>(30% OFF)</td>\n",
       "    </tr>\n",
       "    <tr>\n",
       "      <th>6</th>\n",
       "      <td>Rs. 6115</td>\n",
       "      <td>(15% OFF)</td>\n",
       "    </tr>\n",
       "    <tr>\n",
       "      <th>7</th>\n",
       "      <td>Rs. 2339</td>\n",
       "      <td>(35% OFF)</td>\n",
       "    </tr>\n",
       "    <tr>\n",
       "      <th>8</th>\n",
       "      <td>Rs. 996</td>\n",
       "      <td>(5% OFF)</td>\n",
       "    </tr>\n",
       "    <tr>\n",
       "      <th>9</th>\n",
       "      <td>Rs. 899</td>\n",
       "      <td>(Rs. 1700 OFF)</td>\n",
       "    </tr>\n",
       "    <tr>\n",
       "      <th>10</th>\n",
       "      <td>Rs. 1949</td>\n",
       "      <td>(35% OFF)</td>\n",
       "    </tr>\n",
       "    <tr>\n",
       "      <th>11</th>\n",
       "      <td>Rs. 3996</td>\n",
       "      <td>(20% OFF)</td>\n",
       "    </tr>\n",
       "    <tr>\n",
       "      <th>12</th>\n",
       "      <td>Rs. 6115</td>\n",
       "      <td>(15% OFF)</td>\n",
       "    </tr>\n",
       "    <tr>\n",
       "      <th>13</th>\n",
       "      <td>Rs. 2694</td>\n",
       "      <td>(23% OFF)</td>\n",
       "    </tr>\n",
       "    <tr>\n",
       "      <th>14</th>\n",
       "      <td>Rs. 1224</td>\n",
       "      <td>(75% OFF)</td>\n",
       "    </tr>\n",
       "    <tr>\n",
       "      <th>15</th>\n",
       "      <td>Rs. 2624</td>\n",
       "      <td>(25% OFF)</td>\n",
       "    </tr>\n",
       "    <tr>\n",
       "      <th>16</th>\n",
       "      <td>Rs. 799</td>\n",
       "      <td>(Rs. 2900 OFF)</td>\n",
       "    </tr>\n",
       "    <tr>\n",
       "      <th>17</th>\n",
       "      <td>Rs. 1049</td>\n",
       "      <td>(25% OFF)</td>\n",
       "    </tr>\n",
       "    <tr>\n",
       "      <th>18</th>\n",
       "      <td>Rs. 1259</td>\n",
       "      <td>(70% OFF)</td>\n",
       "    </tr>\n",
       "    <tr>\n",
       "      <th>19</th>\n",
       "      <td>Rs. 599</td>\n",
       "      <td>(70% OFF)</td>\n",
       "    </tr>\n",
       "    <tr>\n",
       "      <th>20</th>\n",
       "      <td>Rs. 999</td>\n",
       "      <td>(Rs. 2800 OFF)</td>\n",
       "    </tr>\n",
       "    <tr>\n",
       "      <th>21</th>\n",
       "      <td>Rs. 2239</td>\n",
       "      <td>(44% OFF)</td>\n",
       "    </tr>\n",
       "    <tr>\n",
       "      <th>22</th>\n",
       "      <td>Rs. 6115</td>\n",
       "      <td>(15% OFF)</td>\n",
       "    </tr>\n",
       "    <tr>\n",
       "      <th>23</th>\n",
       "      <td>Rs. 2239</td>\n",
       "      <td>(44% OFF)</td>\n",
       "    </tr>\n",
       "    <tr>\n",
       "      <th>24</th>\n",
       "      <td>Rs. 649</td>\n",
       "      <td>(65% OFF)</td>\n",
       "    </tr>\n",
       "    <tr>\n",
       "      <th>25</th>\n",
       "      <td>Rs. 14955</td>\n",
       "      <td>(15% OFF)</td>\n",
       "    </tr>\n",
       "    <tr>\n",
       "      <th>26</th>\n",
       "      <td>Rs. 999</td>\n",
       "      <td>(Rs. 2400 OFF)</td>\n",
       "    </tr>\n",
       "    <tr>\n",
       "      <th>27</th>\n",
       "      <td>Rs. 807</td>\n",
       "      <td>(23% OFF)</td>\n",
       "    </tr>\n",
       "    <tr>\n",
       "      <th>28</th>\n",
       "      <td>Rs. 699</td>\n",
       "      <td>(65% OFF)</td>\n",
       "    </tr>\n",
       "    <tr>\n",
       "      <th>29</th>\n",
       "      <td>Rs. 599</td>\n",
       "      <td>(25% OFF)</td>\n",
       "    </tr>\n",
       "    <tr>\n",
       "      <th>30</th>\n",
       "      <td>Rs. 799</td>\n",
       "      <td>(60% OFF)</td>\n",
       "    </tr>\n",
       "    <tr>\n",
       "      <th>31</th>\n",
       "      <td>Rs. 4199</td>\n",
       "      <td>(25% OFF)</td>\n",
       "    </tr>\n",
       "    <tr>\n",
       "      <th>32</th>\n",
       "      <td>Rs. 1749</td>\n",
       "      <td>(75% OFF)</td>\n",
       "    </tr>\n",
       "    <tr>\n",
       "      <th>33</th>\n",
       "      <td>Rs. 986</td>\n",
       "      <td>(6% OFF)</td>\n",
       "    </tr>\n",
       "    <tr>\n",
       "      <th>34</th>\n",
       "      <td>Rs. 4479</td>\n",
       "      <td>(44% OFF)</td>\n",
       "    </tr>\n",
       "    <tr>\n",
       "      <th>35</th>\n",
       "      <td>Rs. 659</td>\n",
       "      <td>(80% OFF)</td>\n",
       "    </tr>\n",
       "    <tr>\n",
       "      <th>36</th>\n",
       "      <td>Rs. 895</td>\n",
       "      <td>(55% OFF)</td>\n",
       "    </tr>\n",
       "    <tr>\n",
       "      <th>37</th>\n",
       "      <td>Rs. 798</td>\n",
       "      <td>(68% OFF)</td>\n",
       "    </tr>\n",
       "    <tr>\n",
       "      <th>38</th>\n",
       "      <td>Rs. 3149</td>\n",
       "      <td>(55% OFF)</td>\n",
       "    </tr>\n",
       "    <tr>\n",
       "      <th>39</th>\n",
       "      <td>Rs. 6499</td>\n",
       "      <td>(50% OFF)</td>\n",
       "    </tr>\n",
       "  </tbody>\n",
       "</table>\n",
       "</div>"
      ],
      "text/plain": [
       "        price        discount\n",
       "0    Rs. 4479       (44% OFF)\n",
       "1     Rs. 628       (63% OFF)\n",
       "2    Rs. 5996       (25% OFF)\n",
       "3    Rs. 5399       (10% OFF)\n",
       "4    Rs. 1224       (75% OFF)\n",
       "5    Rs. 4546       (30% OFF)\n",
       "6    Rs. 6115       (15% OFF)\n",
       "7    Rs. 2339       (35% OFF)\n",
       "8     Rs. 996        (5% OFF)\n",
       "9     Rs. 899  (Rs. 1700 OFF)\n",
       "10   Rs. 1949       (35% OFF)\n",
       "11   Rs. 3996       (20% OFF)\n",
       "12   Rs. 6115       (15% OFF)\n",
       "13   Rs. 2694       (23% OFF)\n",
       "14   Rs. 1224       (75% OFF)\n",
       "15   Rs. 2624       (25% OFF)\n",
       "16    Rs. 799  (Rs. 2900 OFF)\n",
       "17   Rs. 1049       (25% OFF)\n",
       "18   Rs. 1259       (70% OFF)\n",
       "19    Rs. 599       (70% OFF)\n",
       "20    Rs. 999  (Rs. 2800 OFF)\n",
       "21   Rs. 2239       (44% OFF)\n",
       "22   Rs. 6115       (15% OFF)\n",
       "23   Rs. 2239       (44% OFF)\n",
       "24    Rs. 649       (65% OFF)\n",
       "25  Rs. 14955       (15% OFF)\n",
       "26    Rs. 999  (Rs. 2400 OFF)\n",
       "27    Rs. 807       (23% OFF)\n",
       "28    Rs. 699       (65% OFF)\n",
       "29    Rs. 599       (25% OFF)\n",
       "30    Rs. 799       (60% OFF)\n",
       "31   Rs. 4199       (25% OFF)\n",
       "32   Rs. 1749       (75% OFF)\n",
       "33    Rs. 986        (6% OFF)\n",
       "34   Rs. 4479       (44% OFF)\n",
       "35    Rs. 659       (80% OFF)\n",
       "36    Rs. 895       (55% OFF)\n",
       "37    Rs. 798       (68% OFF)\n",
       "38   Rs. 3149       (55% OFF)\n",
       "39   Rs. 6499       (50% OFF)"
      ]
     },
     "execution_count": 65,
     "metadata": {},
     "output_type": "execute_result"
    }
   ],
   "source": [
    "Shoes"
   ]
  },
  {
   "cell_type": "code",
   "execution_count": 66,
   "metadata": {},
   "outputs": [],
   "source": [
    "driver.close()"
   ]
  },
  {
   "cell_type": "markdown",
   "metadata": {},
   "source": [
    "# ques8"
   ]
  },
  {
   "cell_type": "code",
   "execution_count": 5,
   "metadata": {},
   "outputs": [],
   "source": [
    "driver=webdriver.Chrome(r\"C:\\Users\\DELL\\Downloads\\chromedriver\")"
   ]
  },
  {
   "cell_type": "code",
   "execution_count": 6,
   "metadata": {},
   "outputs": [],
   "source": [
    "url=' https://www.flipkart.com/'\n",
    "driver.get(url)"
   ]
  },
  {
   "cell_type": "code",
   "execution_count": 8,
   "metadata": {},
   "outputs": [
    {
     "data": {
      "text/plain": [
       "<selenium.webdriver.remote.webelement.WebElement (session=\"b358115ac9957c19fe0cca3af834735a\", element=\"db5a83d2-00e0-4568-81e9-bdd945614d6f\")>"
      ]
     },
     "execution_count": 8,
     "metadata": {},
     "output_type": "execute_result"
    }
   ],
   "source": [
    "search_product=driver.find_element_by_xpath(\"//div[@class='col-12-12 _2oO9oE']//input\")\n",
    "search_product"
   ]
  },
  {
   "cell_type": "code",
   "execution_count": 9,
   "metadata": {},
   "outputs": [],
   "source": [
    "search_product.send_keys(\"sneakers\")"
   ]
  },
  {
   "cell_type": "code",
   "execution_count": 10,
   "metadata": {},
   "outputs": [],
   "source": [
    "search_btn=driver.find_element_by_xpath(\"//button[@class='L0Z3Pu']\")\n",
    "search_btn.click()"
   ]
  },
  {
   "cell_type": "code",
   "execution_count": 12,
   "metadata": {},
   "outputs": [
    {
     "data": {
      "text/plain": [
       "[<selenium.webdriver.remote.webelement.WebElement (session=\"b358115ac9957c19fe0cca3af834735a\", element=\"87539878-6eda-4e9b-bd20-c24d277e8a68\")>,\n",
       " <selenium.webdriver.remote.webelement.WebElement (session=\"b358115ac9957c19fe0cca3af834735a\", element=\"88624e0d-75ae-49d1-be77-ded4583b0244\")>,\n",
       " <selenium.webdriver.remote.webelement.WebElement (session=\"b358115ac9957c19fe0cca3af834735a\", element=\"03239186-aef6-4f9a-85ce-af796f02c937\")>,\n",
       " <selenium.webdriver.remote.webelement.WebElement (session=\"b358115ac9957c19fe0cca3af834735a\", element=\"695b0099-ab01-4a4d-9646-97f1774413e1\")>,\n",
       " <selenium.webdriver.remote.webelement.WebElement (session=\"b358115ac9957c19fe0cca3af834735a\", element=\"b8257bdc-96f4-41a7-8633-0bb1f9f5db0f\")>,\n",
       " <selenium.webdriver.remote.webelement.WebElement (session=\"b358115ac9957c19fe0cca3af834735a\", element=\"c222b1c0-30c8-48cb-a021-5d1e4bed00c8\")>,\n",
       " <selenium.webdriver.remote.webelement.WebElement (session=\"b358115ac9957c19fe0cca3af834735a\", element=\"2feb2031-31f3-4161-835e-654db87b6cea\")>,\n",
       " <selenium.webdriver.remote.webelement.WebElement (session=\"b358115ac9957c19fe0cca3af834735a\", element=\"84d287d3-9283-4d01-a527-70b79f3e5c1d\")>,\n",
       " <selenium.webdriver.remote.webelement.WebElement (session=\"b358115ac9957c19fe0cca3af834735a\", element=\"3ecec8b2-fd14-4291-930a-6117b400760d\")>,\n",
       " <selenium.webdriver.remote.webelement.WebElement (session=\"b358115ac9957c19fe0cca3af834735a\", element=\"9c484707-89fc-4ec5-aa52-8b727dff9b7e\")>,\n",
       " <selenium.webdriver.remote.webelement.WebElement (session=\"b358115ac9957c19fe0cca3af834735a\", element=\"54aa5eb0-2902-4fde-a8e7-f7e1781867c2\")>,\n",
       " <selenium.webdriver.remote.webelement.WebElement (session=\"b358115ac9957c19fe0cca3af834735a\", element=\"aadfe6e3-f57e-49cd-a2d7-0951bfdc0b7f\")>,\n",
       " <selenium.webdriver.remote.webelement.WebElement (session=\"b358115ac9957c19fe0cca3af834735a\", element=\"35d65578-e9c4-4757-92a8-4e9ac7d8db05\")>,\n",
       " <selenium.webdriver.remote.webelement.WebElement (session=\"b358115ac9957c19fe0cca3af834735a\", element=\"85ffa57e-af75-4f53-bdea-0a03c493328e\")>,\n",
       " <selenium.webdriver.remote.webelement.WebElement (session=\"b358115ac9957c19fe0cca3af834735a\", element=\"3743a395-8730-4966-b7ea-4612b4067f9d\")>,\n",
       " <selenium.webdriver.remote.webelement.WebElement (session=\"b358115ac9957c19fe0cca3af834735a\", element=\"fafc9f0c-cf21-46b3-b65e-4755061d09af\")>,\n",
       " <selenium.webdriver.remote.webelement.WebElement (session=\"b358115ac9957c19fe0cca3af834735a\", element=\"1f98ba09-c56c-4b46-a16c-a2fc9f157f77\")>,\n",
       " <selenium.webdriver.remote.webelement.WebElement (session=\"b358115ac9957c19fe0cca3af834735a\", element=\"d362a902-9ba0-452c-b0ed-f64efb057e99\")>,\n",
       " <selenium.webdriver.remote.webelement.WebElement (session=\"b358115ac9957c19fe0cca3af834735a\", element=\"fc7827a2-8f60-4ad8-a8dc-a546ba5e80de\")>,\n",
       " <selenium.webdriver.remote.webelement.WebElement (session=\"b358115ac9957c19fe0cca3af834735a\", element=\"9dbfc70b-5f7d-4ef7-b1c6-7cb21fcdf20c\")>,\n",
       " <selenium.webdriver.remote.webelement.WebElement (session=\"b358115ac9957c19fe0cca3af834735a\", element=\"32b9bb07-53ac-4e6a-9a3e-c837e09a5564\")>,\n",
       " <selenium.webdriver.remote.webelement.WebElement (session=\"b358115ac9957c19fe0cca3af834735a\", element=\"2f921cdd-c9da-41a1-9e90-45d06faab2b8\")>,\n",
       " <selenium.webdriver.remote.webelement.WebElement (session=\"b358115ac9957c19fe0cca3af834735a\", element=\"61f09af9-f6c2-4ec9-92d1-9966a48b72ae\")>,\n",
       " <selenium.webdriver.remote.webelement.WebElement (session=\"b358115ac9957c19fe0cca3af834735a\", element=\"c23d3fdd-616e-415a-92cc-45a04a725015\")>,\n",
       " <selenium.webdriver.remote.webelement.WebElement (session=\"b358115ac9957c19fe0cca3af834735a\", element=\"86435f26-0b59-4d0b-8fc3-a9309d4156e6\")>,\n",
       " <selenium.webdriver.remote.webelement.WebElement (session=\"b358115ac9957c19fe0cca3af834735a\", element=\"2e3216a6-29bf-4783-a685-ed12e45db7e8\")>,\n",
       " <selenium.webdriver.remote.webelement.WebElement (session=\"b358115ac9957c19fe0cca3af834735a\", element=\"a632fc94-6143-4133-87b3-4d3f7369eb15\")>,\n",
       " <selenium.webdriver.remote.webelement.WebElement (session=\"b358115ac9957c19fe0cca3af834735a\", element=\"42b9b8f0-fa35-41fb-8243-2c0cb8cbdb6f\")>,\n",
       " <selenium.webdriver.remote.webelement.WebElement (session=\"b358115ac9957c19fe0cca3af834735a\", element=\"261e63c1-3d98-44ac-80f2-122adcf95412\")>,\n",
       " <selenium.webdriver.remote.webelement.WebElement (session=\"b358115ac9957c19fe0cca3af834735a\", element=\"b7b17966-cc43-4c3d-bba7-530ac7000228\")>,\n",
       " <selenium.webdriver.remote.webelement.WebElement (session=\"b358115ac9957c19fe0cca3af834735a\", element=\"65b46539-9cfd-4331-816e-7e970f583cfa\")>,\n",
       " <selenium.webdriver.remote.webelement.WebElement (session=\"b358115ac9957c19fe0cca3af834735a\", element=\"1193aa5c-ed51-4745-8955-652c679dac78\")>,\n",
       " <selenium.webdriver.remote.webelement.WebElement (session=\"b358115ac9957c19fe0cca3af834735a\", element=\"ef1e8527-78a5-49a1-92c7-f10e82737d6a\")>,\n",
       " <selenium.webdriver.remote.webelement.WebElement (session=\"b358115ac9957c19fe0cca3af834735a\", element=\"e9de9ee2-0827-415f-ad62-8be0b9952f22\")>,\n",
       " <selenium.webdriver.remote.webelement.WebElement (session=\"b358115ac9957c19fe0cca3af834735a\", element=\"0bb64efa-6663-45ff-bee0-d915fd2bc431\")>,\n",
       " <selenium.webdriver.remote.webelement.WebElement (session=\"b358115ac9957c19fe0cca3af834735a\", element=\"27d276f9-509c-421e-93c5-50d08a951ec9\")>,\n",
       " <selenium.webdriver.remote.webelement.WebElement (session=\"b358115ac9957c19fe0cca3af834735a\", element=\"1caf8cfd-568c-4fb8-a32f-a41a751db597\")>,\n",
       " <selenium.webdriver.remote.webelement.WebElement (session=\"b358115ac9957c19fe0cca3af834735a\", element=\"a912b3f4-e3c4-41c5-92ef-cd98a407d327\")>,\n",
       " <selenium.webdriver.remote.webelement.WebElement (session=\"b358115ac9957c19fe0cca3af834735a\", element=\"061441f7-9951-4453-a6b7-2af49d011ea7\")>,\n",
       " <selenium.webdriver.remote.webelement.WebElement (session=\"b358115ac9957c19fe0cca3af834735a\", element=\"90f484b9-6c94-4d27-86a6-6b7d68de4abb\")>]"
      ]
     },
     "execution_count": 12,
     "metadata": {},
     "output_type": "execute_result"
    }
   ],
   "source": [
    "brand_tag=driver.find_elements_by_xpath(\"//div[@class='_2WkVRV']\")\n",
    "brand_tag"
   ]
  },
  {
   "cell_type": "code",
   "execution_count": 13,
   "metadata": {},
   "outputs": [
    {
     "data": {
      "text/plain": [
       "['BRUTON',\n",
       " 'VISTAARA',\n",
       " 'Wika',\n",
       " 'Robbie jones',\n",
       " 'Numenzo',\n",
       " 'ORICUM',\n",
       " 'Robbie jones',\n",
       " 'HOTSTYLE',\n",
       " 'Stefano Rads',\n",
       " 'BRUTON',\n",
       " 'Shoes Bank',\n",
       " 'Echor',\n",
       " 'VIPSJAZZY',\n",
       " 'aadi',\n",
       " 'Birde',\n",
       " 'Robbie jones',\n",
       " '\"trend\"',\n",
       " 'VORII',\n",
       " 'Kraasa',\n",
       " 'World Wear Footwear',\n",
       " 'Echor',\n",
       " 'Ktiz',\n",
       " 'Magnolia',\n",
       " 'Nilatin',\n",
       " 'Robbie jones',\n",
       " 'aadi',\n",
       " 'bluemaker',\n",
       " 'Aura',\n",
       " 'T-ROCK',\n",
       " 'bluemaker',\n",
       " 'SCATCHITE',\n",
       " 'restinfoot',\n",
       " 'World Wear Footwear',\n",
       " 'DUCATI',\n",
       " 'Zsyto',\n",
       " 'Zorth',\n",
       " '3SIX5',\n",
       " 'Numenzo',\n",
       " 'SPARX',\n",
       " 'World Wear Footwear']"
      ]
     },
     "execution_count": 13,
     "metadata": {},
     "output_type": "execute_result"
    }
   ],
   "source": [
    "brand=[]\n",
    "for i in brand_tag:\n",
    "    brand.append(i.text)\n",
    "brand"
   ]
  },
  {
   "cell_type": "code",
   "execution_count": 14,
   "metadata": {},
   "outputs": [
    {
     "data": {
      "text/plain": [
       "[<selenium.webdriver.remote.webelement.WebElement (session=\"b358115ac9957c19fe0cca3af834735a\", element=\"2f42a6d8-1f12-45cc-a5c1-df7de1817a58\")>,\n",
       " <selenium.webdriver.remote.webelement.WebElement (session=\"b358115ac9957c19fe0cca3af834735a\", element=\"28aec231-3286-4de7-a6a5-86a8018dd47c\")>,\n",
       " <selenium.webdriver.remote.webelement.WebElement (session=\"b358115ac9957c19fe0cca3af834735a\", element=\"75d82f97-db7f-4faf-b0d3-1df599ec5c02\")>,\n",
       " <selenium.webdriver.remote.webelement.WebElement (session=\"b358115ac9957c19fe0cca3af834735a\", element=\"82ffe5ca-4eac-4f21-b510-ca41b71cc16c\")>,\n",
       " <selenium.webdriver.remote.webelement.WebElement (session=\"b358115ac9957c19fe0cca3af834735a\", element=\"5b7415d7-db87-4447-bb35-5fc16777ce94\")>,\n",
       " <selenium.webdriver.remote.webelement.WebElement (session=\"b358115ac9957c19fe0cca3af834735a\", element=\"5901a1bb-90bb-49f8-984e-d36aeeeac636\")>,\n",
       " <selenium.webdriver.remote.webelement.WebElement (session=\"b358115ac9957c19fe0cca3af834735a\", element=\"ebcefa72-9f23-4e54-aaf8-0891242b086a\")>,\n",
       " <selenium.webdriver.remote.webelement.WebElement (session=\"b358115ac9957c19fe0cca3af834735a\", element=\"b6242ee0-026e-4d12-b22f-87fa4d4447c3\")>,\n",
       " <selenium.webdriver.remote.webelement.WebElement (session=\"b358115ac9957c19fe0cca3af834735a\", element=\"06f0d772-1073-41ee-97c2-402ce184b5ff\")>,\n",
       " <selenium.webdriver.remote.webelement.WebElement (session=\"b358115ac9957c19fe0cca3af834735a\", element=\"ccc9108d-839e-429f-b517-a7b6985127de\")>,\n",
       " <selenium.webdriver.remote.webelement.WebElement (session=\"b358115ac9957c19fe0cca3af834735a\", element=\"4c1fef48-fadc-4e41-88b2-31f0d7b1915b\")>,\n",
       " <selenium.webdriver.remote.webelement.WebElement (session=\"b358115ac9957c19fe0cca3af834735a\", element=\"e588a421-a276-462d-a1b6-d0f7aafd6a9e\")>,\n",
       " <selenium.webdriver.remote.webelement.WebElement (session=\"b358115ac9957c19fe0cca3af834735a\", element=\"3b8016ec-db66-4abb-a122-ccf4e421e27b\")>,\n",
       " <selenium.webdriver.remote.webelement.WebElement (session=\"b358115ac9957c19fe0cca3af834735a\", element=\"e9c2c83e-829e-49a6-a84e-9b7eba3e3d8b\")>,\n",
       " <selenium.webdriver.remote.webelement.WebElement (session=\"b358115ac9957c19fe0cca3af834735a\", element=\"8a343412-feee-4aff-8e58-a927c70198da\")>,\n",
       " <selenium.webdriver.remote.webelement.WebElement (session=\"b358115ac9957c19fe0cca3af834735a\", element=\"95cf121d-c56f-44ad-8763-bf7eac12bd83\")>,\n",
       " <selenium.webdriver.remote.webelement.WebElement (session=\"b358115ac9957c19fe0cca3af834735a\", element=\"9de270e3-8b5b-4c0c-b7eb-76ec3301816a\")>,\n",
       " <selenium.webdriver.remote.webelement.WebElement (session=\"b358115ac9957c19fe0cca3af834735a\", element=\"68efec6d-620e-414a-be68-8de6a675321b\")>,\n",
       " <selenium.webdriver.remote.webelement.WebElement (session=\"b358115ac9957c19fe0cca3af834735a\", element=\"8b14987d-e2c6-46fa-998c-1e92c0e6ca7a\")>,\n",
       " <selenium.webdriver.remote.webelement.WebElement (session=\"b358115ac9957c19fe0cca3af834735a\", element=\"f7c8838f-fdb8-45dd-9787-182cede898fd\")>,\n",
       " <selenium.webdriver.remote.webelement.WebElement (session=\"b358115ac9957c19fe0cca3af834735a\", element=\"c4802ffd-3784-4ea8-a7a3-fc384f5fb762\")>,\n",
       " <selenium.webdriver.remote.webelement.WebElement (session=\"b358115ac9957c19fe0cca3af834735a\", element=\"50626de0-3758-415d-98ee-3f0149f68c9e\")>,\n",
       " <selenium.webdriver.remote.webelement.WebElement (session=\"b358115ac9957c19fe0cca3af834735a\", element=\"b3a86f3f-b502-4ca7-9fdd-b99394c417da\")>,\n",
       " <selenium.webdriver.remote.webelement.WebElement (session=\"b358115ac9957c19fe0cca3af834735a\", element=\"7919f804-9669-4b2c-92e7-fe6cb0133ee2\")>,\n",
       " <selenium.webdriver.remote.webelement.WebElement (session=\"b358115ac9957c19fe0cca3af834735a\", element=\"9909b6f8-b787-4f5f-b40b-a27e5f29c4cd\")>,\n",
       " <selenium.webdriver.remote.webelement.WebElement (session=\"b358115ac9957c19fe0cca3af834735a\", element=\"504fd3ae-ba3a-4e47-950a-4adbf554c9fc\")>,\n",
       " <selenium.webdriver.remote.webelement.WebElement (session=\"b358115ac9957c19fe0cca3af834735a\", element=\"b796838a-1f11-47fc-819e-9e65d309f78b\")>,\n",
       " <selenium.webdriver.remote.webelement.WebElement (session=\"b358115ac9957c19fe0cca3af834735a\", element=\"05a99f07-197e-4386-8281-5ffc57f5c63e\")>,\n",
       " <selenium.webdriver.remote.webelement.WebElement (session=\"b358115ac9957c19fe0cca3af834735a\", element=\"faecdc9c-f565-4a8c-8a24-e21b26567047\")>,\n",
       " <selenium.webdriver.remote.webelement.WebElement (session=\"b358115ac9957c19fe0cca3af834735a\", element=\"6678a8d2-832d-4654-afa8-702f8aec6dd5\")>,\n",
       " <selenium.webdriver.remote.webelement.WebElement (session=\"b358115ac9957c19fe0cca3af834735a\", element=\"8a3261a2-041b-421d-a7a9-6b88e28cef44\")>,\n",
       " <selenium.webdriver.remote.webelement.WebElement (session=\"b358115ac9957c19fe0cca3af834735a\", element=\"a1313771-5d9b-476a-8808-a549acf7b6b4\")>,\n",
       " <selenium.webdriver.remote.webelement.WebElement (session=\"b358115ac9957c19fe0cca3af834735a\", element=\"93357827-81cb-4f13-a94f-18cf18f942e0\")>,\n",
       " <selenium.webdriver.remote.webelement.WebElement (session=\"b358115ac9957c19fe0cca3af834735a\", element=\"1bb96dee-b6db-430f-b8ad-95d8335d3ee6\")>,\n",
       " <selenium.webdriver.remote.webelement.WebElement (session=\"b358115ac9957c19fe0cca3af834735a\", element=\"4c64693e-a56a-4fb3-82f1-e5fc4828497c\")>,\n",
       " <selenium.webdriver.remote.webelement.WebElement (session=\"b358115ac9957c19fe0cca3af834735a\", element=\"0f7614a3-2573-4796-8ff2-44a204d727a2\")>,\n",
       " <selenium.webdriver.remote.webelement.WebElement (session=\"b358115ac9957c19fe0cca3af834735a\", element=\"84347b6b-b5e7-44eb-9312-66830bd5e830\")>,\n",
       " <selenium.webdriver.remote.webelement.WebElement (session=\"b358115ac9957c19fe0cca3af834735a\", element=\"6bb3f4a2-5746-42b1-8c0e-2a997df1cd9b\")>,\n",
       " <selenium.webdriver.remote.webelement.WebElement (session=\"b358115ac9957c19fe0cca3af834735a\", element=\"1f426017-0f46-491c-aeee-69fe941ac64a\")>,\n",
       " <selenium.webdriver.remote.webelement.WebElement (session=\"b358115ac9957c19fe0cca3af834735a\", element=\"ffa20f26-8599-4ac1-9b21-8c436f217fde\")>]"
      ]
     },
     "execution_count": 14,
     "metadata": {},
     "output_type": "execute_result"
    }
   ],
   "source": [
    "price_tag=driver.find_elements_by_xpath(\"//div[@class='_30jeq3']\")\n",
    "price_tag"
   ]
  },
  {
   "cell_type": "code",
   "execution_count": 15,
   "metadata": {},
   "outputs": [
    {
     "data": {
      "text/plain": [
       "['₹299',\n",
       " '₹279',\n",
       " '₹449',\n",
       " '₹379',\n",
       " '₹399',\n",
       " '₹377',\n",
       " '₹474',\n",
       " '₹283',\n",
       " '₹242',\n",
       " '₹499',\n",
       " '₹349',\n",
       " '₹569',\n",
       " '₹419',\n",
       " '₹367',\n",
       " '₹757',\n",
       " '₹428',\n",
       " '₹426',\n",
       " '₹379',\n",
       " '₹416',\n",
       " '₹273',\n",
       " '₹569',\n",
       " '₹474',\n",
       " '₹305',\n",
       " '₹407',\n",
       " '₹499',\n",
       " '₹298',\n",
       " '₹474',\n",
       " '₹699',\n",
       " '₹378',\n",
       " '₹474',\n",
       " '₹398',\n",
       " '₹379',\n",
       " '₹449',\n",
       " '₹1,924',\n",
       " '₹328',\n",
       " '₹599',\n",
       " '₹214',\n",
       " '₹539',\n",
       " '₹965',\n",
       " '₹799']"
      ]
     },
     "execution_count": 15,
     "metadata": {},
     "output_type": "execute_result"
    }
   ],
   "source": [
    "price=[]\n",
    "for i in price_tag:\n",
    "    price.append(i.text)\n",
    "price"
   ]
  },
  {
   "cell_type": "code",
   "execution_count": 16,
   "metadata": {},
   "outputs": [
    {
     "data": {
      "text/plain": [
       "[<selenium.webdriver.remote.webelement.WebElement (session=\"b358115ac9957c19fe0cca3af834735a\", element=\"38c0daf3-9cb2-4cac-a365-bc3fb361e5eb\")>,\n",
       " <selenium.webdriver.remote.webelement.WebElement (session=\"b358115ac9957c19fe0cca3af834735a\", element=\"f64ba70a-5f0c-4d17-afae-aaca1c23e8f7\")>,\n",
       " <selenium.webdriver.remote.webelement.WebElement (session=\"b358115ac9957c19fe0cca3af834735a\", element=\"42cbe237-13f4-40f3-b7c2-5b860de8cdda\")>,\n",
       " <selenium.webdriver.remote.webelement.WebElement (session=\"b358115ac9957c19fe0cca3af834735a\", element=\"9c2fb5aa-7848-4030-868d-fa988edb3aec\")>,\n",
       " <selenium.webdriver.remote.webelement.WebElement (session=\"b358115ac9957c19fe0cca3af834735a\", element=\"ccfceb07-34da-49b8-b143-5f64f59e152d\")>,\n",
       " <selenium.webdriver.remote.webelement.WebElement (session=\"b358115ac9957c19fe0cca3af834735a\", element=\"d824995e-4d20-410a-b415-276948e1e3b3\")>,\n",
       " <selenium.webdriver.remote.webelement.WebElement (session=\"b358115ac9957c19fe0cca3af834735a\", element=\"24f99d78-32a5-43f4-8e43-902b6722fca2\")>,\n",
       " <selenium.webdriver.remote.webelement.WebElement (session=\"b358115ac9957c19fe0cca3af834735a\", element=\"e651b446-8d30-43f9-b252-1238886a4bbe\")>,\n",
       " <selenium.webdriver.remote.webelement.WebElement (session=\"b358115ac9957c19fe0cca3af834735a\", element=\"45cb6cba-0a86-471c-b862-122caea3210c\")>,\n",
       " <selenium.webdriver.remote.webelement.WebElement (session=\"b358115ac9957c19fe0cca3af834735a\", element=\"4fefec60-eb36-4da2-949d-c766c38f8178\")>,\n",
       " <selenium.webdriver.remote.webelement.WebElement (session=\"b358115ac9957c19fe0cca3af834735a\", element=\"a432b520-2659-4688-b684-6a0076b2c1ce\")>,\n",
       " <selenium.webdriver.remote.webelement.WebElement (session=\"b358115ac9957c19fe0cca3af834735a\", element=\"eff5ce12-4b8d-4226-af95-d3d1e3c2950f\")>,\n",
       " <selenium.webdriver.remote.webelement.WebElement (session=\"b358115ac9957c19fe0cca3af834735a\", element=\"3e393d86-fe40-4d5d-bdb6-315b79a77fb1\")>,\n",
       " <selenium.webdriver.remote.webelement.WebElement (session=\"b358115ac9957c19fe0cca3af834735a\", element=\"f770fa80-d927-4eed-8b94-ce9ef9214846\")>,\n",
       " <selenium.webdriver.remote.webelement.WebElement (session=\"b358115ac9957c19fe0cca3af834735a\", element=\"4c3aabe2-bfb4-49bf-82f7-8a141b563eef\")>,\n",
       " <selenium.webdriver.remote.webelement.WebElement (session=\"b358115ac9957c19fe0cca3af834735a\", element=\"4ecf3733-ea85-45d6-b5bd-237ed5d9f947\")>,\n",
       " <selenium.webdriver.remote.webelement.WebElement (session=\"b358115ac9957c19fe0cca3af834735a\", element=\"006f14f4-82d3-4179-bc8f-cfa918a932b4\")>,\n",
       " <selenium.webdriver.remote.webelement.WebElement (session=\"b358115ac9957c19fe0cca3af834735a\", element=\"64156156-8197-4572-84f5-18e51940b16f\")>,\n",
       " <selenium.webdriver.remote.webelement.WebElement (session=\"b358115ac9957c19fe0cca3af834735a\", element=\"3e985342-6567-41c7-9851-1cb2accdb743\")>,\n",
       " <selenium.webdriver.remote.webelement.WebElement (session=\"b358115ac9957c19fe0cca3af834735a\", element=\"c4d55117-0577-45ca-9dd5-defa73c0cb2d\")>,\n",
       " <selenium.webdriver.remote.webelement.WebElement (session=\"b358115ac9957c19fe0cca3af834735a\", element=\"ac199381-4fdf-4863-a740-968e92e39bb9\")>,\n",
       " <selenium.webdriver.remote.webelement.WebElement (session=\"b358115ac9957c19fe0cca3af834735a\", element=\"16e5cb66-d88c-44ff-9b8e-083bdbec22ea\")>,\n",
       " <selenium.webdriver.remote.webelement.WebElement (session=\"b358115ac9957c19fe0cca3af834735a\", element=\"a70ac55a-9afa-4340-9164-6b02e7a61237\")>,\n",
       " <selenium.webdriver.remote.webelement.WebElement (session=\"b358115ac9957c19fe0cca3af834735a\", element=\"eec2c020-e9ad-49e9-a9a7-8ac39ecb4bc2\")>,\n",
       " <selenium.webdriver.remote.webelement.WebElement (session=\"b358115ac9957c19fe0cca3af834735a\", element=\"f6d1fffe-c4b4-4883-8ab5-fc9c48d4b1ad\")>,\n",
       " <selenium.webdriver.remote.webelement.WebElement (session=\"b358115ac9957c19fe0cca3af834735a\", element=\"a2c63e8a-b8bf-4535-89c6-953c2b7d87bc\")>,\n",
       " <selenium.webdriver.remote.webelement.WebElement (session=\"b358115ac9957c19fe0cca3af834735a\", element=\"4d4445c5-7af3-4b64-9af9-e25d67b90e69\")>,\n",
       " <selenium.webdriver.remote.webelement.WebElement (session=\"b358115ac9957c19fe0cca3af834735a\", element=\"656b59bd-ead7-4f1b-8df6-5789e0d3fe7c\")>,\n",
       " <selenium.webdriver.remote.webelement.WebElement (session=\"b358115ac9957c19fe0cca3af834735a\", element=\"5d4137a1-9d87-4619-acf9-21de5b30dc9b\")>,\n",
       " <selenium.webdriver.remote.webelement.WebElement (session=\"b358115ac9957c19fe0cca3af834735a\", element=\"851c7d4e-f4a6-4738-89d4-634adfdfeb09\")>,\n",
       " <selenium.webdriver.remote.webelement.WebElement (session=\"b358115ac9957c19fe0cca3af834735a\", element=\"b00b39cb-5294-4cff-afac-21d571a66260\")>,\n",
       " <selenium.webdriver.remote.webelement.WebElement (session=\"b358115ac9957c19fe0cca3af834735a\", element=\"8ef841d8-8ed3-487d-9e91-55b42a7931a2\")>,\n",
       " <selenium.webdriver.remote.webelement.WebElement (session=\"b358115ac9957c19fe0cca3af834735a\", element=\"3566b123-a71e-48e4-ab03-308e16a3b49a\")>,\n",
       " <selenium.webdriver.remote.webelement.WebElement (session=\"b358115ac9957c19fe0cca3af834735a\", element=\"44304fb8-3a6a-473e-8562-5f67ce2ff438\")>,\n",
       " <selenium.webdriver.remote.webelement.WebElement (session=\"b358115ac9957c19fe0cca3af834735a\", element=\"ea223119-22ac-4623-b952-0ab6e3cc1eeb\")>,\n",
       " <selenium.webdriver.remote.webelement.WebElement (session=\"b358115ac9957c19fe0cca3af834735a\", element=\"e660049f-7d0d-40f3-a872-c7f9d0068c6c\")>,\n",
       " <selenium.webdriver.remote.webelement.WebElement (session=\"b358115ac9957c19fe0cca3af834735a\", element=\"141d53ee-df48-4462-83cd-0033368021c7\")>,\n",
       " <selenium.webdriver.remote.webelement.WebElement (session=\"b358115ac9957c19fe0cca3af834735a\", element=\"71d92083-5407-4dfb-bf4f-52d1610501d0\")>,\n",
       " <selenium.webdriver.remote.webelement.WebElement (session=\"b358115ac9957c19fe0cca3af834735a\", element=\"3161d5dd-ef74-45d3-842c-46d508ed9fd9\")>,\n",
       " <selenium.webdriver.remote.webelement.WebElement (session=\"b358115ac9957c19fe0cca3af834735a\", element=\"3dea4537-9406-4acb-bf0a-86f880584dc2\")>]"
      ]
     },
     "execution_count": 16,
     "metadata": {},
     "output_type": "execute_result"
    }
   ],
   "source": [
    "discount_tag=driver.find_elements_by_xpath(\"//div[@class='_3Ay6Sb']//span\")\n",
    "discount_tag"
   ]
  },
  {
   "cell_type": "code",
   "execution_count": 17,
   "metadata": {},
   "outputs": [
    {
     "data": {
      "text/plain": [
       "['76% off',\n",
       " '72% off',\n",
       " '55% off',\n",
       " '62% off',\n",
       " '60% off',\n",
       " '62% off',\n",
       " '52% off',\n",
       " '43% off',\n",
       " '65% off',\n",
       " '85% off',\n",
       " '65% off',\n",
       " '43% off',\n",
       " '58% off',\n",
       " '63% off',\n",
       " '62% off',\n",
       " '57% off',\n",
       " '78% off',\n",
       " '62% off',\n",
       " '58% off',\n",
       " '45% off',\n",
       " '43% off',\n",
       " '63% off',\n",
       " '69% off',\n",
       " '68% off',\n",
       " '50% off',\n",
       " '70% off',\n",
       " '52% off',\n",
       " '71% off',\n",
       " '62% off',\n",
       " '52% off',\n",
       " '60% off',\n",
       " '62% off',\n",
       " '82% off',\n",
       " '47% off',\n",
       " '74% off',\n",
       " '40% off',\n",
       " '57% off',\n",
       " '46% off',\n",
       " '28% off',\n",
       " '64% off']"
      ]
     },
     "execution_count": 17,
     "metadata": {},
     "output_type": "execute_result"
    }
   ],
   "source": [
    "discount=[]\n",
    "for i in discount_tag:\n",
    "    discount.append(i.text)\n",
    "discount"
   ]
  },
  {
   "cell_type": "code",
   "execution_count": 19,
   "metadata": {},
   "outputs": [],
   "source": [
    "snikers=pd.DataFrame({})\n",
    "snikers['brand']=brand\n",
    "snikers['price']=price\n",
    "snikers['discount']=discount"
   ]
  },
  {
   "cell_type": "code",
   "execution_count": 20,
   "metadata": {},
   "outputs": [
    {
     "data": {
      "text/html": [
       "<div>\n",
       "<style scoped>\n",
       "    .dataframe tbody tr th:only-of-type {\n",
       "        vertical-align: middle;\n",
       "    }\n",
       "\n",
       "    .dataframe tbody tr th {\n",
       "        vertical-align: top;\n",
       "    }\n",
       "\n",
       "    .dataframe thead th {\n",
       "        text-align: right;\n",
       "    }\n",
       "</style>\n",
       "<table border=\"1\" class=\"dataframe\">\n",
       "  <thead>\n",
       "    <tr style=\"text-align: right;\">\n",
       "      <th></th>\n",
       "      <th>brand</th>\n",
       "      <th>price</th>\n",
       "      <th>discount</th>\n",
       "    </tr>\n",
       "  </thead>\n",
       "  <tbody>\n",
       "    <tr>\n",
       "      <th>0</th>\n",
       "      <td>BRUTON</td>\n",
       "      <td>₹299</td>\n",
       "      <td>76% off</td>\n",
       "    </tr>\n",
       "    <tr>\n",
       "      <th>1</th>\n",
       "      <td>VISTAARA</td>\n",
       "      <td>₹279</td>\n",
       "      <td>72% off</td>\n",
       "    </tr>\n",
       "    <tr>\n",
       "      <th>2</th>\n",
       "      <td>Wika</td>\n",
       "      <td>₹449</td>\n",
       "      <td>55% off</td>\n",
       "    </tr>\n",
       "    <tr>\n",
       "      <th>3</th>\n",
       "      <td>Robbie jones</td>\n",
       "      <td>₹379</td>\n",
       "      <td>62% off</td>\n",
       "    </tr>\n",
       "    <tr>\n",
       "      <th>4</th>\n",
       "      <td>Numenzo</td>\n",
       "      <td>₹399</td>\n",
       "      <td>60% off</td>\n",
       "    </tr>\n",
       "    <tr>\n",
       "      <th>5</th>\n",
       "      <td>ORICUM</td>\n",
       "      <td>₹377</td>\n",
       "      <td>62% off</td>\n",
       "    </tr>\n",
       "    <tr>\n",
       "      <th>6</th>\n",
       "      <td>Robbie jones</td>\n",
       "      <td>₹474</td>\n",
       "      <td>52% off</td>\n",
       "    </tr>\n",
       "    <tr>\n",
       "      <th>7</th>\n",
       "      <td>HOTSTYLE</td>\n",
       "      <td>₹283</td>\n",
       "      <td>43% off</td>\n",
       "    </tr>\n",
       "    <tr>\n",
       "      <th>8</th>\n",
       "      <td>Stefano Rads</td>\n",
       "      <td>₹242</td>\n",
       "      <td>65% off</td>\n",
       "    </tr>\n",
       "    <tr>\n",
       "      <th>9</th>\n",
       "      <td>BRUTON</td>\n",
       "      <td>₹499</td>\n",
       "      <td>85% off</td>\n",
       "    </tr>\n",
       "    <tr>\n",
       "      <th>10</th>\n",
       "      <td>Shoes Bank</td>\n",
       "      <td>₹349</td>\n",
       "      <td>65% off</td>\n",
       "    </tr>\n",
       "    <tr>\n",
       "      <th>11</th>\n",
       "      <td>Echor</td>\n",
       "      <td>₹569</td>\n",
       "      <td>43% off</td>\n",
       "    </tr>\n",
       "    <tr>\n",
       "      <th>12</th>\n",
       "      <td>VIPSJAZZY</td>\n",
       "      <td>₹419</td>\n",
       "      <td>58% off</td>\n",
       "    </tr>\n",
       "    <tr>\n",
       "      <th>13</th>\n",
       "      <td>aadi</td>\n",
       "      <td>₹367</td>\n",
       "      <td>63% off</td>\n",
       "    </tr>\n",
       "    <tr>\n",
       "      <th>14</th>\n",
       "      <td>Birde</td>\n",
       "      <td>₹757</td>\n",
       "      <td>62% off</td>\n",
       "    </tr>\n",
       "    <tr>\n",
       "      <th>15</th>\n",
       "      <td>Robbie jones</td>\n",
       "      <td>₹428</td>\n",
       "      <td>57% off</td>\n",
       "    </tr>\n",
       "    <tr>\n",
       "      <th>16</th>\n",
       "      <td>\"trend\"</td>\n",
       "      <td>₹426</td>\n",
       "      <td>78% off</td>\n",
       "    </tr>\n",
       "    <tr>\n",
       "      <th>17</th>\n",
       "      <td>VORII</td>\n",
       "      <td>₹379</td>\n",
       "      <td>62% off</td>\n",
       "    </tr>\n",
       "    <tr>\n",
       "      <th>18</th>\n",
       "      <td>Kraasa</td>\n",
       "      <td>₹416</td>\n",
       "      <td>58% off</td>\n",
       "    </tr>\n",
       "    <tr>\n",
       "      <th>19</th>\n",
       "      <td>World Wear Footwear</td>\n",
       "      <td>₹273</td>\n",
       "      <td>45% off</td>\n",
       "    </tr>\n",
       "    <tr>\n",
       "      <th>20</th>\n",
       "      <td>Echor</td>\n",
       "      <td>₹569</td>\n",
       "      <td>43% off</td>\n",
       "    </tr>\n",
       "    <tr>\n",
       "      <th>21</th>\n",
       "      <td>Ktiz</td>\n",
       "      <td>₹474</td>\n",
       "      <td>63% off</td>\n",
       "    </tr>\n",
       "    <tr>\n",
       "      <th>22</th>\n",
       "      <td>Magnolia</td>\n",
       "      <td>₹305</td>\n",
       "      <td>69% off</td>\n",
       "    </tr>\n",
       "    <tr>\n",
       "      <th>23</th>\n",
       "      <td>Nilatin</td>\n",
       "      <td>₹407</td>\n",
       "      <td>68% off</td>\n",
       "    </tr>\n",
       "    <tr>\n",
       "      <th>24</th>\n",
       "      <td>Robbie jones</td>\n",
       "      <td>₹499</td>\n",
       "      <td>50% off</td>\n",
       "    </tr>\n",
       "    <tr>\n",
       "      <th>25</th>\n",
       "      <td>aadi</td>\n",
       "      <td>₹298</td>\n",
       "      <td>70% off</td>\n",
       "    </tr>\n",
       "    <tr>\n",
       "      <th>26</th>\n",
       "      <td>bluemaker</td>\n",
       "      <td>₹474</td>\n",
       "      <td>52% off</td>\n",
       "    </tr>\n",
       "    <tr>\n",
       "      <th>27</th>\n",
       "      <td>Aura</td>\n",
       "      <td>₹699</td>\n",
       "      <td>71% off</td>\n",
       "    </tr>\n",
       "    <tr>\n",
       "      <th>28</th>\n",
       "      <td>T-ROCK</td>\n",
       "      <td>₹378</td>\n",
       "      <td>62% off</td>\n",
       "    </tr>\n",
       "    <tr>\n",
       "      <th>29</th>\n",
       "      <td>bluemaker</td>\n",
       "      <td>₹474</td>\n",
       "      <td>52% off</td>\n",
       "    </tr>\n",
       "    <tr>\n",
       "      <th>30</th>\n",
       "      <td>SCATCHITE</td>\n",
       "      <td>₹398</td>\n",
       "      <td>60% off</td>\n",
       "    </tr>\n",
       "    <tr>\n",
       "      <th>31</th>\n",
       "      <td>restinfoot</td>\n",
       "      <td>₹379</td>\n",
       "      <td>62% off</td>\n",
       "    </tr>\n",
       "    <tr>\n",
       "      <th>32</th>\n",
       "      <td>World Wear Footwear</td>\n",
       "      <td>₹449</td>\n",
       "      <td>82% off</td>\n",
       "    </tr>\n",
       "    <tr>\n",
       "      <th>33</th>\n",
       "      <td>DUCATI</td>\n",
       "      <td>₹1,924</td>\n",
       "      <td>47% off</td>\n",
       "    </tr>\n",
       "    <tr>\n",
       "      <th>34</th>\n",
       "      <td>Zsyto</td>\n",
       "      <td>₹328</td>\n",
       "      <td>74% off</td>\n",
       "    </tr>\n",
       "    <tr>\n",
       "      <th>35</th>\n",
       "      <td>Zorth</td>\n",
       "      <td>₹599</td>\n",
       "      <td>40% off</td>\n",
       "    </tr>\n",
       "    <tr>\n",
       "      <th>36</th>\n",
       "      <td>3SIX5</td>\n",
       "      <td>₹214</td>\n",
       "      <td>57% off</td>\n",
       "    </tr>\n",
       "    <tr>\n",
       "      <th>37</th>\n",
       "      <td>Numenzo</td>\n",
       "      <td>₹539</td>\n",
       "      <td>46% off</td>\n",
       "    </tr>\n",
       "    <tr>\n",
       "      <th>38</th>\n",
       "      <td>SPARX</td>\n",
       "      <td>₹965</td>\n",
       "      <td>28% off</td>\n",
       "    </tr>\n",
       "    <tr>\n",
       "      <th>39</th>\n",
       "      <td>World Wear Footwear</td>\n",
       "      <td>₹799</td>\n",
       "      <td>64% off</td>\n",
       "    </tr>\n",
       "  </tbody>\n",
       "</table>\n",
       "</div>"
      ],
      "text/plain": [
       "                  brand   price discount\n",
       "0                BRUTON    ₹299  76% off\n",
       "1              VISTAARA    ₹279  72% off\n",
       "2                  Wika    ₹449  55% off\n",
       "3          Robbie jones    ₹379  62% off\n",
       "4               Numenzo    ₹399  60% off\n",
       "5                ORICUM    ₹377  62% off\n",
       "6          Robbie jones    ₹474  52% off\n",
       "7              HOTSTYLE    ₹283  43% off\n",
       "8          Stefano Rads    ₹242  65% off\n",
       "9                BRUTON    ₹499  85% off\n",
       "10           Shoes Bank    ₹349  65% off\n",
       "11                Echor    ₹569  43% off\n",
       "12            VIPSJAZZY    ₹419  58% off\n",
       "13                 aadi    ₹367  63% off\n",
       "14                Birde    ₹757  62% off\n",
       "15         Robbie jones    ₹428  57% off\n",
       "16              \"trend\"    ₹426  78% off\n",
       "17                VORII    ₹379  62% off\n",
       "18               Kraasa    ₹416  58% off\n",
       "19  World Wear Footwear    ₹273  45% off\n",
       "20                Echor    ₹569  43% off\n",
       "21                 Ktiz    ₹474  63% off\n",
       "22             Magnolia    ₹305  69% off\n",
       "23              Nilatin    ₹407  68% off\n",
       "24         Robbie jones    ₹499  50% off\n",
       "25                 aadi    ₹298  70% off\n",
       "26            bluemaker    ₹474  52% off\n",
       "27                 Aura    ₹699  71% off\n",
       "28               T-ROCK    ₹378  62% off\n",
       "29            bluemaker    ₹474  52% off\n",
       "30            SCATCHITE    ₹398  60% off\n",
       "31           restinfoot    ₹379  62% off\n",
       "32  World Wear Footwear    ₹449  82% off\n",
       "33               DUCATI  ₹1,924  47% off\n",
       "34                Zsyto    ₹328  74% off\n",
       "35                Zorth    ₹599  40% off\n",
       "36                3SIX5    ₹214  57% off\n",
       "37              Numenzo    ₹539  46% off\n",
       "38                SPARX    ₹965  28% off\n",
       "39  World Wear Footwear    ₹799  64% off"
      ]
     },
     "execution_count": 20,
     "metadata": {},
     "output_type": "execute_result"
    }
   ],
   "source": [
    "snikers"
   ]
  },
  {
   "cell_type": "code",
   "execution_count": 21,
   "metadata": {},
   "outputs": [],
   "source": [
    "driver.close()"
   ]
  },
  {
   "cell_type": "markdown",
   "metadata": {},
   "source": [
    "# ques10"
   ]
  },
  {
   "cell_type": "code",
   "execution_count": 14,
   "metadata": {},
   "outputs": [],
   "source": [
    "driver=webdriver.Chrome(r\"C:\\Users\\DELL\\Downloads\\chromedriver\")"
   ]
  },
  {
   "cell_type": "code",
   "execution_count": 15,
   "metadata": {},
   "outputs": [],
   "source": [
    "url=' https://www.amazon.in/'\n",
    "driver.get(url)"
   ]
  },
  {
   "cell_type": "code",
   "execution_count": 16,
   "metadata": {},
   "outputs": [
    {
     "data": {
      "text/plain": [
       "<selenium.webdriver.remote.webelement.WebElement (session=\"1bafa290eb5e23b867aeea2cd23cb471\", element=\"71223710-4c9d-4bb5-8aba-d378da85720d\")>"
      ]
     },
     "execution_count": 16,
     "metadata": {},
     "output_type": "execute_result"
    }
   ],
   "source": [
    "search_product=driver.find_element_by_id('twotabsearchtextbox')\n",
    "search_product"
   ]
  },
  {
   "cell_type": "code",
   "execution_count": 17,
   "metadata": {},
   "outputs": [],
   "source": [
    "search_product.send_keys(\"Laptop\")"
   ]
  },
  {
   "cell_type": "code",
   "execution_count": 18,
   "metadata": {},
   "outputs": [],
   "source": [
    "search_btn=driver.find_element_by_xpath(\"//div[@class='nav-right']\")\n",
    "search_btn.click()"
   ]
  },
  {
   "cell_type": "code",
   "execution_count": 19,
   "metadata": {},
   "outputs": [],
   "source": [
    "filter_tag=driver.find_element_by_xpath(\"//span[@class='a-size-base a-color-base']\")\n",
    "filter_tag.click()"
   ]
  },
  {
   "cell_type": "code",
   "execution_count": 20,
   "metadata": {},
   "outputs": [],
   "source": [
    "filter_tags=driver.find_element_by_xpath(\"//span[@class='a-list-item']\")\n",
    "filter_tags.click()"
   ]
  },
  {
   "cell_type": "code",
   "execution_count": 21,
   "metadata": {},
   "outputs": [
    {
     "data": {
      "text/plain": [
       "[<selenium.webdriver.remote.webelement.WebElement (session=\"1bafa290eb5e23b867aeea2cd23cb471\", element=\"5b7894f6-70f6-4b84-8671-cba900c30894\")>,\n",
       " <selenium.webdriver.remote.webelement.WebElement (session=\"1bafa290eb5e23b867aeea2cd23cb471\", element=\"0228d3a8-d564-440c-a2dd-fa4cff00c031\")>,\n",
       " <selenium.webdriver.remote.webelement.WebElement (session=\"1bafa290eb5e23b867aeea2cd23cb471\", element=\"f08bad72-ddee-4434-8cb0-262920464f33\")>,\n",
       " <selenium.webdriver.remote.webelement.WebElement (session=\"1bafa290eb5e23b867aeea2cd23cb471\", element=\"fe0846c7-0ca3-4b63-b232-1f0e61d9a524\")>,\n",
       " <selenium.webdriver.remote.webelement.WebElement (session=\"1bafa290eb5e23b867aeea2cd23cb471\", element=\"2f6b78d4-45d0-459f-b0f6-55d447b458bb\")>,\n",
       " <selenium.webdriver.remote.webelement.WebElement (session=\"1bafa290eb5e23b867aeea2cd23cb471\", element=\"ce8e8a70-b4c0-490f-9004-4581bc8df332\")>,\n",
       " <selenium.webdriver.remote.webelement.WebElement (session=\"1bafa290eb5e23b867aeea2cd23cb471\", element=\"e2eb45c0-35fb-4c49-9ad9-ac33a4c78362\")>,\n",
       " <selenium.webdriver.remote.webelement.WebElement (session=\"1bafa290eb5e23b867aeea2cd23cb471\", element=\"40f7ba76-9582-46be-805b-2ba93bbe1370\")>,\n",
       " <selenium.webdriver.remote.webelement.WebElement (session=\"1bafa290eb5e23b867aeea2cd23cb471\", element=\"256d3e14-54ed-43ed-b70c-5a4a7547bc0a\")>,\n",
       " <selenium.webdriver.remote.webelement.WebElement (session=\"1bafa290eb5e23b867aeea2cd23cb471\", element=\"fd3efb78-baff-432f-8303-8953d7bae30a\")>,\n",
       " <selenium.webdriver.remote.webelement.WebElement (session=\"1bafa290eb5e23b867aeea2cd23cb471\", element=\"4a1ea1e6-9f84-460d-b5f7-eba267a24bef\")>,\n",
       " <selenium.webdriver.remote.webelement.WebElement (session=\"1bafa290eb5e23b867aeea2cd23cb471\", element=\"9af84e11-f6e2-4444-990f-c2ee6e2f83f9\")>,\n",
       " <selenium.webdriver.remote.webelement.WebElement (session=\"1bafa290eb5e23b867aeea2cd23cb471\", element=\"a737547e-50e5-4964-bd1d-970a9cb9bb32\")>,\n",
       " <selenium.webdriver.remote.webelement.WebElement (session=\"1bafa290eb5e23b867aeea2cd23cb471\", element=\"f743de72-1011-4cc2-b677-5eeb2a4eac51\")>,\n",
       " <selenium.webdriver.remote.webelement.WebElement (session=\"1bafa290eb5e23b867aeea2cd23cb471\", element=\"d3a51112-2e1a-4f8b-b816-6ec76276990c\")>,\n",
       " <selenium.webdriver.remote.webelement.WebElement (session=\"1bafa290eb5e23b867aeea2cd23cb471\", element=\"b26b8638-29e2-476b-be8a-64cd084e87f7\")>,\n",
       " <selenium.webdriver.remote.webelement.WebElement (session=\"1bafa290eb5e23b867aeea2cd23cb471\", element=\"8a5026aa-8f9e-49a3-979e-21880580fe3c\")>,\n",
       " <selenium.webdriver.remote.webelement.WebElement (session=\"1bafa290eb5e23b867aeea2cd23cb471\", element=\"ea15a4fa-68de-43bf-92b7-189c7e70c3ea\")>,\n",
       " <selenium.webdriver.remote.webelement.WebElement (session=\"1bafa290eb5e23b867aeea2cd23cb471\", element=\"954d0956-8987-4dde-bc81-4916fa781432\")>,\n",
       " <selenium.webdriver.remote.webelement.WebElement (session=\"1bafa290eb5e23b867aeea2cd23cb471\", element=\"5f823fda-d7f6-4174-87b8-e46325f0b00c\")>,\n",
       " <selenium.webdriver.remote.webelement.WebElement (session=\"1bafa290eb5e23b867aeea2cd23cb471\", element=\"4a035ddd-99da-4264-a9b8-9b0d8cb5c77a\")>,\n",
       " <selenium.webdriver.remote.webelement.WebElement (session=\"1bafa290eb5e23b867aeea2cd23cb471\", element=\"450236fc-b52f-4169-a4c8-a0f3b0f0c4d3\")>,\n",
       " <selenium.webdriver.remote.webelement.WebElement (session=\"1bafa290eb5e23b867aeea2cd23cb471\", element=\"6bf261e8-e9b5-455f-8090-7473e4e5908f\")>,\n",
       " <selenium.webdriver.remote.webelement.WebElement (session=\"1bafa290eb5e23b867aeea2cd23cb471\", element=\"5024830e-15e4-4aef-bf4c-2be479d51c14\")>,\n",
       " <selenium.webdriver.remote.webelement.WebElement (session=\"1bafa290eb5e23b867aeea2cd23cb471\", element=\"f8456b79-414b-4028-b6b0-2dc410488748\")>,\n",
       " <selenium.webdriver.remote.webelement.WebElement (session=\"1bafa290eb5e23b867aeea2cd23cb471\", element=\"2ef6dca4-6ace-4099-bfd0-3c93d19a061b\")>,\n",
       " <selenium.webdriver.remote.webelement.WebElement (session=\"1bafa290eb5e23b867aeea2cd23cb471\", element=\"f5beba03-3556-4b0c-94bb-1c5f08d04e14\")>,\n",
       " <selenium.webdriver.remote.webelement.WebElement (session=\"1bafa290eb5e23b867aeea2cd23cb471\", element=\"c1f086c2-9221-4ed1-a46f-5052134357e1\")>,\n",
       " <selenium.webdriver.remote.webelement.WebElement (session=\"1bafa290eb5e23b867aeea2cd23cb471\", element=\"f53bc834-c648-4260-b28e-e0c70197754f\")>,\n",
       " <selenium.webdriver.remote.webelement.WebElement (session=\"1bafa290eb5e23b867aeea2cd23cb471\", element=\"d5bb28c5-7683-477f-9be9-80775e64c878\")>]"
      ]
     },
     "execution_count": 21,
     "metadata": {},
     "output_type": "execute_result"
    }
   ],
   "source": [
    "title_tag=driver.find_elements_by_xpath(\"//h2[@class='a-size-mini a-spacing-none a-color-base s-line-clamp-2']\")\n",
    "title_tag"
   ]
  },
  {
   "cell_type": "code",
   "execution_count": 22,
   "metadata": {},
   "outputs": [
    {
     "data": {
      "text/plain": [
       "['VAIO SE14 NP14V3IN034P 14-inch/35.56 cm( Intel Core i5-1135G7 Intel Iris Xe Graphics 8GB/512GB SSD /Win 10 Home/Backlit KBD/FHD/Fingerprint Reader) MS Office 365, 1.39kg,with Carrying Bag, Dark Grey',\n",
       " 'Acer Aspire 3 A315-55G 15.6\" (39.62cms) Laptop (Intel Core i5-10210Ur/8GB/1TB HDD/Window 10, Home, 64Bit/NVIDIA GeForce MX230 Graphics), Black',\n",
       " 'HP 15 Entry Level 15.6-inch (39.62 cms) HD Laptop (AMD 3020e/4GB/1TB HDD/Windows 10 Home/Jet Black/1.74 Kg), 15s-gy0003AU',\n",
       " 'ASUS VivoBook 14 (2020) Intel Quad Core Pentium Silver N5030, 14-inch (35.56 cms) FHD Thin and Light Laptop (4GB RAM/1TB HDD/Windows 10/Integrated Graphics/Transparent Silver/1.5 Kg), X415MA-EK101T',\n",
       " 'AVITA Essential NE14A2INC433-MB 14\" (35.56cms) Laptop (Celeron N4000/4GB/128GB SSD/Window 10 Home in S Mode/Integrated Graphics), Matt Black',\n",
       " 'HP 15 Intel Pentium Gold 6405U Processor Entry Level 15.6-inch (39.62 cms) FHD Laptop (4GB/1TB/Win 10/Jet Black/1.74kg), 15s-du1052tu',\n",
       " '(Renewed) Dell Latitude Laptop E3380 Intel Core i3 - 6006u Processor 6th Gen, 4 GB Ram & 128 GB SSD, 13.3 Inches Screen (Ultra Slim & Light 1.63KG) Notebook Computer',\n",
       " '(Renewed) HP Elitebook UltraSlim Hybrid Laptop 840G1 Intel Core i5 - 4300U Processor, 8 GB Ram, 500 GB Harddisk & 256 GB SSD, Windows 10 Pro, 14.1 Inches Notebook Computer',\n",
       " 'Lenovo IdeaPad Slim 3 Intel Celeron N4020 15.6\" (39.62cms) HD Thin and Light Laptop (4GB/256GB SSD/Windows 10/Platinum Grey/1.7Kg), 81WQ003LIN',\n",
       " 'HP 15 AMD Athlon 15.6\" (39.62cms) HD Laptop (Silver-3050U/4GB/1TB/Win 10/MS Office/Jet Black/1.85kg), 15s-gy0001au',\n",
       " 'Lenovo Ideapad S145 7th Gen Intel Core i3 15.6” Thin and Light Laptop (4GB/1TB HDD/Win10 + Office Home/Intel UHD Graphics/Platinum Grey/1.85kg), 81VD00EQIN',\n",
       " 'HP 14 (2021) Thin & Light Intel Celeron N4500 Laptop with Alexa Built-in, 8GB RAM, 256GB SSD, 14-inch HD Screen, Windows 10, MS Office (14s-dq3017TU)',\n",
       " 'Lenovo Ideapad Slim 3 Intel Celeron N4020 15.6\" (39.62cms) HD Thin and Light Laptop (4GB/256SSD/Win10/Intel UHD Graphics 600/Platinum Grey/1.7kg), 81WQ00B6IN',\n",
       " '(Renewed) HP Elitebook UltraSlim Hybrid Laptop 840G1 Intel Core i5 - 4300U Processor, 8 GB Ram, 1TB Harddisk & 256 GB SSD, Windows 10 Pro, 14.1 Inches Notebook Computer',\n",
       " 'Acer Aspire 3 Laptop Intel Core I3 11th Gen - (4 GB/1 TB HDD/ Windows 10 Home) A315-58 with 39.6 cm (15.6 Inches) FHD Display / 1.7 Kgs',\n",
       " 'Acer Aspire 5 Thin and Light Laptop Intel Core I3 11th Gen (4GB/1 TB/ Windows 10 Home/MS Office H&S 2019) A515-56 with 39.6 cm (15.6 Inch) with FHD Display / 1.65 Kgs',\n",
       " 'Lenovo Ideapad S145 i3 10th Gen 15.6” FHD Thin & Light Laptop(8GB/1TBHDD/Win10/UHD Graphics/Grey/1.85kg), 81W800TJIN + Lenovo 15.6 inch Slim Everyday Backpack + Lenovo 300 Wired USB Mouse GX30M39704',\n",
       " 'HP Chromebook 14a-na0003TU 14-inch (35.56 cms) Thin & Light Touchscreen Laptop (Intel N4020/4GB/64GB SSD + 256GB Expandable/Chrome OS/1.46 kgs Light), Mineral Silver',\n",
       " 'Dell Inspiron 3505 15.6\" (39.62 cms) FHD AG Display Laptop ( Ryzen3 3250U / 8GB / 1TB / Integrated Graphics / Win 10 + MSO / Accent Black) D560406WIN9BE',\n",
       " '(Renewed) HP Elitebook UltraSlim Hybrid Laptop 840G1 Intel Core i5 - 4300U Processor, 16 GB Ram, 2TB Harddisk & 128 GB SSD, Windows 10 Pro, 14.1 Inches Notebook Computer',\n",
       " 'Dell Vostro 3401 14\" FHD Display Laptop (11th Gen i3-1115G4 / 8GB / 1TB HDD / Integrated Graphics / Win 10 + MSO / Accent Black) D552175WIN9BE',\n",
       " 'HP 15 (2021) Thin & Light Ryzen 3-3250 Laptop, 8 GB RAM, 1TB HDD, 39.62 cms (15.6\") FHD Screen, Windows 10, MS Office (15s-gr0011AU)',\n",
       " '(Renewed) Fujitsu Intel Core i5 3340M 15.6-Inch (39.62 cms) 1366 X 768 Laptop (4 GB/320 GB HDD/Windows/Intel HD Graphics/Black/2.40 Kg), A573',\n",
       " 'Lenovo IdeaPad S145 10th Gen Intel Core i3 15.6 inch (39.62 cms) Full HD Thin and Light Laptop (8GB/1TB HDD/Windows 10/MS Office 2019/Platinum Grey/1.85Kg), 81W800DHIN',\n",
       " 'HP 14(2021) 10th Gen Intel Core i3 Laptop with Alexa Built-in, 8GB RAM, 256GB SSD, 14-Inch(35.6 cm) FHD Screen, Windows 10, MS Office, (14s- dy2501tu)',\n",
       " '(Renewed) HP Elitebook Laptop 640G1 Intel Core i5 - 4300M Processor, 8 GB Ram & 256 GB SSD, Win10, 14.1 inches, Optical Drive Notebook Computer',\n",
       " 'HP 14 (2021) Thin & Light 11th Gen Intel Core i3 Laptop with Alexa Built-in, 8GB RAM, 512GB SSD, 14-inch FHD Screen, Windows 10, MS Office (14s-dr2015TU)',\n",
       " 'Lenovo Ideapad Slim 3 AMD Athlon Silver 3050U 15.6\" (39.62cms) (15.6\")HD Thin and Light Laptop (4GB/1TB HDD/Windows 10/MS Office 2019/Platinum Grey/1.85Kg), 81W100HKIN',\n",
       " 'Dell G3 3500 Gaming Laptop with 15.6 Inch (39.62 cms) 120 Hz FHD Display (10th Gen i5-10300H/ 8 GB/ 1TB+256 SSD/ Win 10/ NVIDIA GTX 1650 4GB Graphics) D560245HIN9BE / D560317HIN9BE',\n",
       " 'Acer Aspire 5 A514-52G 14-inch Laptop (10th Gen Intel Core i5-10210U processor/8GB/512GB SSD/Window 10 Home 64Bit/2 GB of Nvidia MX350 Graphics), Silver']"
      ]
     },
     "execution_count": 22,
     "metadata": {},
     "output_type": "execute_result"
    }
   ],
   "source": [
    "title=[]\n",
    "for i in title_tag:\n",
    "    title.append(i.text)\n",
    "title"
   ]
  },
  {
   "cell_type": "code",
   "execution_count": 37,
   "metadata": {},
   "outputs": [
    {
     "data": {
      "text/plain": [
       "[<selenium.webdriver.remote.webelement.WebElement (session=\"1bafa290eb5e23b867aeea2cd23cb471\", element=\"aca2ae61-7281-4e7a-a3f7-6932207a9794\")>,\n",
       " <selenium.webdriver.remote.webelement.WebElement (session=\"1bafa290eb5e23b867aeea2cd23cb471\", element=\"c1ab4d4c-19b9-4760-b795-ffc95048ba69\")>,\n",
       " <selenium.webdriver.remote.webelement.WebElement (session=\"1bafa290eb5e23b867aeea2cd23cb471\", element=\"5456e825-a108-4085-a708-fae8c72b458c\")>,\n",
       " <selenium.webdriver.remote.webelement.WebElement (session=\"1bafa290eb5e23b867aeea2cd23cb471\", element=\"a4ca978d-d21f-4d35-9942-859d42b04679\")>,\n",
       " <selenium.webdriver.remote.webelement.WebElement (session=\"1bafa290eb5e23b867aeea2cd23cb471\", element=\"8195de69-0361-4723-b361-afa0d0f3ec7d\")>,\n",
       " <selenium.webdriver.remote.webelement.WebElement (session=\"1bafa290eb5e23b867aeea2cd23cb471\", element=\"6270a2c4-be3d-4edd-a96b-3ef3fa8ef6f3\")>,\n",
       " <selenium.webdriver.remote.webelement.WebElement (session=\"1bafa290eb5e23b867aeea2cd23cb471\", element=\"33055b3f-bed2-4c32-8175-39f0326ab864\")>,\n",
       " <selenium.webdriver.remote.webelement.WebElement (session=\"1bafa290eb5e23b867aeea2cd23cb471\", element=\"d3c1149f-ca94-47e0-886b-4855866dfa70\")>,\n",
       " <selenium.webdriver.remote.webelement.WebElement (session=\"1bafa290eb5e23b867aeea2cd23cb471\", element=\"3fc6ef40-ea18-4269-acc1-553f21dad849\")>,\n",
       " <selenium.webdriver.remote.webelement.WebElement (session=\"1bafa290eb5e23b867aeea2cd23cb471\", element=\"8396acf0-9343-477c-8e73-fca8fc63ddbd\")>,\n",
       " <selenium.webdriver.remote.webelement.WebElement (session=\"1bafa290eb5e23b867aeea2cd23cb471\", element=\"606e2de9-c849-48a2-9b9c-d5b67f5f5f98\")>,\n",
       " <selenium.webdriver.remote.webelement.WebElement (session=\"1bafa290eb5e23b867aeea2cd23cb471\", element=\"ac03e591-9ec3-4471-9bf5-bcea780f5bd5\")>,\n",
       " <selenium.webdriver.remote.webelement.WebElement (session=\"1bafa290eb5e23b867aeea2cd23cb471\", element=\"f321e46f-3a26-4b69-91cb-add52673789a\")>,\n",
       " <selenium.webdriver.remote.webelement.WebElement (session=\"1bafa290eb5e23b867aeea2cd23cb471\", element=\"f2b04748-6910-488b-9e80-4c62cacfb513\")>,\n",
       " <selenium.webdriver.remote.webelement.WebElement (session=\"1bafa290eb5e23b867aeea2cd23cb471\", element=\"ce1fe22d-530a-4649-88ed-907ec97e5dcf\")>,\n",
       " <selenium.webdriver.remote.webelement.WebElement (session=\"1bafa290eb5e23b867aeea2cd23cb471\", element=\"bbdfe38d-3f9e-479c-a862-61d5efcba6e4\")>,\n",
       " <selenium.webdriver.remote.webelement.WebElement (session=\"1bafa290eb5e23b867aeea2cd23cb471\", element=\"705a7c84-6631-405d-912e-d34c9904d04e\")>,\n",
       " <selenium.webdriver.remote.webelement.WebElement (session=\"1bafa290eb5e23b867aeea2cd23cb471\", element=\"891ff361-4c63-4e7e-b993-a95c213bd3ce\")>,\n",
       " <selenium.webdriver.remote.webelement.WebElement (session=\"1bafa290eb5e23b867aeea2cd23cb471\", element=\"6edceaef-ef79-48fa-9b5b-421a6cdabde1\")>,\n",
       " <selenium.webdriver.remote.webelement.WebElement (session=\"1bafa290eb5e23b867aeea2cd23cb471\", element=\"d06aa1c7-454c-4da2-91be-7105ac53f5e7\")>,\n",
       " <selenium.webdriver.remote.webelement.WebElement (session=\"1bafa290eb5e23b867aeea2cd23cb471\", element=\"88348da6-74d6-4ed4-ba6a-1ccb38de1b75\")>,\n",
       " <selenium.webdriver.remote.webelement.WebElement (session=\"1bafa290eb5e23b867aeea2cd23cb471\", element=\"c5ea5dac-fc4f-443f-a3fc-b9213db5f7a0\")>,\n",
       " <selenium.webdriver.remote.webelement.WebElement (session=\"1bafa290eb5e23b867aeea2cd23cb471\", element=\"990c2bdc-fccb-46eb-85ad-30b97788d48a\")>,\n",
       " <selenium.webdriver.remote.webelement.WebElement (session=\"1bafa290eb5e23b867aeea2cd23cb471\", element=\"75987a4b-8e2c-45b9-82f1-2f6bddabd70a\")>,\n",
       " <selenium.webdriver.remote.webelement.WebElement (session=\"1bafa290eb5e23b867aeea2cd23cb471\", element=\"047cd578-fdf7-46b8-a64e-ac0a4f4aa6a6\")>,\n",
       " <selenium.webdriver.remote.webelement.WebElement (session=\"1bafa290eb5e23b867aeea2cd23cb471\", element=\"2dc4c16b-c23a-4cab-95ef-833abacb9e0d\")>,\n",
       " <selenium.webdriver.remote.webelement.WebElement (session=\"1bafa290eb5e23b867aeea2cd23cb471\", element=\"18de8072-88ca-4f8c-ba96-7d2f25eb15f2\")>]"
      ]
     },
     "execution_count": 37,
     "metadata": {},
     "output_type": "execute_result"
    }
   ],
   "source": [
    "price_tag=driver.find_elements_by_xpath(\"//span[@class='a-price-whole']\")\n",
    "price_tag"
   ]
  },
  {
   "cell_type": "code",
   "execution_count": 38,
   "metadata": {},
   "outputs": [
    {
     "data": {
      "text/plain": [
       "['69,990',\n",
       " '49,990',\n",
       " '24,990',\n",
       " '18,990',\n",
       " '27,483',\n",
       " '24,990',\n",
       " '36,890',\n",
       " '27,499',\n",
       " '32,990',\n",
       " '29,990',\n",
       " '25,615',\n",
       " '37,790',\n",
       " '35,921',\n",
       " '39,989',\n",
       " '35,028',\n",
       " '24,490',\n",
       " '34,190',\n",
       " '44,090',\n",
       " '39,590',\n",
       " '35,695',\n",
       " '19,990',\n",
       " '35,990',\n",
       " '41,999',\n",
       " '32,090',\n",
       " '45,990',\n",
       " '72,990',\n",
       " '56,999']"
      ]
     },
     "execution_count": 38,
     "metadata": {},
     "output_type": "execute_result"
    }
   ],
   "source": [
    "price=[]\n",
    "for i in price_tag:\n",
    "    price.append(i.text)\n",
    "price"
   ]
  },
  {
   "cell_type": "code",
   "execution_count": 34,
   "metadata": {},
   "outputs": [
    {
     "data": {
      "text/plain": [
       "[<selenium.webdriver.remote.webelement.WebElement (session=\"1bafa290eb5e23b867aeea2cd23cb471\", element=\"96579880-992b-4e5a-b5cd-38c2f25870b3\")>,\n",
       " <selenium.webdriver.remote.webelement.WebElement (session=\"1bafa290eb5e23b867aeea2cd23cb471\", element=\"bb5e26bd-f238-4e27-b771-50d60a54bf13\")>,\n",
       " <selenium.webdriver.remote.webelement.WebElement (session=\"1bafa290eb5e23b867aeea2cd23cb471\", element=\"1887371d-2817-4d28-ab25-0c59927ffd98\")>,\n",
       " <selenium.webdriver.remote.webelement.WebElement (session=\"1bafa290eb5e23b867aeea2cd23cb471\", element=\"8ddba52e-e0ab-4f6d-af4a-24c3d2e00e5b\")>,\n",
       " <selenium.webdriver.remote.webelement.WebElement (session=\"1bafa290eb5e23b867aeea2cd23cb471\", element=\"b8c0154c-e36d-4857-b1bc-1800285bc62d\")>,\n",
       " <selenium.webdriver.remote.webelement.WebElement (session=\"1bafa290eb5e23b867aeea2cd23cb471\", element=\"b0e76f53-5ed3-4716-bcea-4925472aac5f\")>,\n",
       " <selenium.webdriver.remote.webelement.WebElement (session=\"1bafa290eb5e23b867aeea2cd23cb471\", element=\"9ccb1ca1-8f94-4031-b724-53ca03d0120b\")>,\n",
       " <selenium.webdriver.remote.webelement.WebElement (session=\"1bafa290eb5e23b867aeea2cd23cb471\", element=\"a95c228c-f476-4d5e-bfb9-1fbf5285bfbe\")>,\n",
       " <selenium.webdriver.remote.webelement.WebElement (session=\"1bafa290eb5e23b867aeea2cd23cb471\", element=\"a68f4ed9-70de-468d-b92e-8f5ef2c0c425\")>,\n",
       " <selenium.webdriver.remote.webelement.WebElement (session=\"1bafa290eb5e23b867aeea2cd23cb471\", element=\"f8fa7209-e628-4bf9-a61b-90b40332f507\")>,\n",
       " <selenium.webdriver.remote.webelement.WebElement (session=\"1bafa290eb5e23b867aeea2cd23cb471\", element=\"d95af8e1-4827-4c4f-a10f-bb8a00b1d7af\")>,\n",
       " <selenium.webdriver.remote.webelement.WebElement (session=\"1bafa290eb5e23b867aeea2cd23cb471\", element=\"27762778-5bb2-4870-81ba-978ca6b626be\")>,\n",
       " <selenium.webdriver.remote.webelement.WebElement (session=\"1bafa290eb5e23b867aeea2cd23cb471\", element=\"cf18e0a2-57ee-4736-b677-b72489cc9ed9\")>,\n",
       " <selenium.webdriver.remote.webelement.WebElement (session=\"1bafa290eb5e23b867aeea2cd23cb471\", element=\"1d5fa3cb-ef95-48dd-b9f7-4726ae30ccf5\")>,\n",
       " <selenium.webdriver.remote.webelement.WebElement (session=\"1bafa290eb5e23b867aeea2cd23cb471\", element=\"9b52c40a-2abb-4841-8896-86750f29e2a9\")>,\n",
       " <selenium.webdriver.remote.webelement.WebElement (session=\"1bafa290eb5e23b867aeea2cd23cb471\", element=\"7625abca-2f80-44a9-9730-c46c13f9b66d\")>,\n",
       " <selenium.webdriver.remote.webelement.WebElement (session=\"1bafa290eb5e23b867aeea2cd23cb471\", element=\"4db8ded3-1273-417a-8dab-2b99f71f8c0a\")>,\n",
       " <selenium.webdriver.remote.webelement.WebElement (session=\"1bafa290eb5e23b867aeea2cd23cb471\", element=\"e55da0f4-1cbb-4c08-88e6-a911f2c4a327\")>,\n",
       " <selenium.webdriver.remote.webelement.WebElement (session=\"1bafa290eb5e23b867aeea2cd23cb471\", element=\"e34e0353-52fb-4e30-b87f-e7a6da9816f2\")>,\n",
       " <selenium.webdriver.remote.webelement.WebElement (session=\"1bafa290eb5e23b867aeea2cd23cb471\", element=\"db6bfedf-a404-4dc6-8a56-4cb1ec5f2c6c\")>,\n",
       " <selenium.webdriver.remote.webelement.WebElement (session=\"1bafa290eb5e23b867aeea2cd23cb471\", element=\"1ffcf1bd-187e-45c2-bbd6-42ecf6ac9744\")>,\n",
       " <selenium.webdriver.remote.webelement.WebElement (session=\"1bafa290eb5e23b867aeea2cd23cb471\", element=\"d7b640d5-fa34-48e3-bacd-353783f8e7e8\")>,\n",
       " <selenium.webdriver.remote.webelement.WebElement (session=\"1bafa290eb5e23b867aeea2cd23cb471\", element=\"abd00b13-90d5-4ef2-8898-c55513d49b4b\")>,\n",
       " <selenium.webdriver.remote.webelement.WebElement (session=\"1bafa290eb5e23b867aeea2cd23cb471\", element=\"613b0dcc-eb3f-47f3-b9f1-d7f7d6a21194\")>,\n",
       " <selenium.webdriver.remote.webelement.WebElement (session=\"1bafa290eb5e23b867aeea2cd23cb471\", element=\"d1a3557d-252e-4656-a5e6-86c53a555408\")>,\n",
       " <selenium.webdriver.remote.webelement.WebElement (session=\"1bafa290eb5e23b867aeea2cd23cb471\", element=\"97e53d05-52ba-4053-9a9e-8a491987b8b3\")>,\n",
       " <selenium.webdriver.remote.webelement.WebElement (session=\"1bafa290eb5e23b867aeea2cd23cb471\", element=\"c691e621-9b03-49b3-a990-76d57a50d121\")>,\n",
       " <selenium.webdriver.remote.webelement.WebElement (session=\"1bafa290eb5e23b867aeea2cd23cb471\", element=\"c7f9ea03-cfa3-47c2-a87f-4f29f9591da6\")>,\n",
       " <selenium.webdriver.remote.webelement.WebElement (session=\"1bafa290eb5e23b867aeea2cd23cb471\", element=\"9d9a6fb7-c0c6-4a8e-99c9-42e78df7e65a\")>,\n",
       " <selenium.webdriver.remote.webelement.WebElement (session=\"1bafa290eb5e23b867aeea2cd23cb471\", element=\"554a94cd-bf87-4f29-9524-3cc92ead1c41\")>,\n",
       " <selenium.webdriver.remote.webelement.WebElement (session=\"1bafa290eb5e23b867aeea2cd23cb471\", element=\"39f9cf8d-db8e-4c9e-88e9-a9f873995805\")>,\n",
       " <selenium.webdriver.remote.webelement.WebElement (session=\"1bafa290eb5e23b867aeea2cd23cb471\", element=\"edeb252a-7196-4f9b-9d4e-6d4993f12321\")>,\n",
       " <selenium.webdriver.remote.webelement.WebElement (session=\"1bafa290eb5e23b867aeea2cd23cb471\", element=\"c1d24c68-8fd9-4cf4-9c08-f6fbc2029a24\")>,\n",
       " <selenium.webdriver.remote.webelement.WebElement (session=\"1bafa290eb5e23b867aeea2cd23cb471\", element=\"1ea52816-06f0-4557-bb71-0536088628b9\")>,\n",
       " <selenium.webdriver.remote.webelement.WebElement (session=\"1bafa290eb5e23b867aeea2cd23cb471\", element=\"39b94503-63fa-4ef0-ad0a-5becc7dc16ed\")>,\n",
       " <selenium.webdriver.remote.webelement.WebElement (session=\"1bafa290eb5e23b867aeea2cd23cb471\", element=\"ea7bb15e-60f7-4011-a4f9-7756f6e0ab2a\")>,\n",
       " <selenium.webdriver.remote.webelement.WebElement (session=\"1bafa290eb5e23b867aeea2cd23cb471\", element=\"46aed303-89c0-4ba4-b05e-998c2aaa09f7\")>,\n",
       " <selenium.webdriver.remote.webelement.WebElement (session=\"1bafa290eb5e23b867aeea2cd23cb471\", element=\"e0992571-d80c-42c9-9fd4-c043985a25e7\")>,\n",
       " <selenium.webdriver.remote.webelement.WebElement (session=\"1bafa290eb5e23b867aeea2cd23cb471\", element=\"d8b1e90f-6d95-46ec-b904-2698c88ca8a1\")>,\n",
       " <selenium.webdriver.remote.webelement.WebElement (session=\"1bafa290eb5e23b867aeea2cd23cb471\", element=\"132d9583-3719-452c-bf70-532dfd2460cb\")>,\n",
       " <selenium.webdriver.remote.webelement.WebElement (session=\"1bafa290eb5e23b867aeea2cd23cb471\", element=\"c6dc9593-8852-46a6-84a2-8c3a94e2037c\")>,\n",
       " <selenium.webdriver.remote.webelement.WebElement (session=\"1bafa290eb5e23b867aeea2cd23cb471\", element=\"aea088d8-7faf-4768-9150-e455377b5d65\")>,\n",
       " <selenium.webdriver.remote.webelement.WebElement (session=\"1bafa290eb5e23b867aeea2cd23cb471\", element=\"fbcdbc91-648c-4914-91d8-f893d854992a\")>,\n",
       " <selenium.webdriver.remote.webelement.WebElement (session=\"1bafa290eb5e23b867aeea2cd23cb471\", element=\"c11b431b-4d78-44cb-bec4-ca8069d01864\")>,\n",
       " <selenium.webdriver.remote.webelement.WebElement (session=\"1bafa290eb5e23b867aeea2cd23cb471\", element=\"3466a87c-3293-4a08-82db-c0cdcd93f4c8\")>,\n",
       " <selenium.webdriver.remote.webelement.WebElement (session=\"1bafa290eb5e23b867aeea2cd23cb471\", element=\"a5979f45-eaef-4a40-9012-8505bd3d477c\")>,\n",
       " <selenium.webdriver.remote.webelement.WebElement (session=\"1bafa290eb5e23b867aeea2cd23cb471\", element=\"79c8fcb7-6704-4e61-9a6f-1efdff32f41a\")>,\n",
       " <selenium.webdriver.remote.webelement.WebElement (session=\"1bafa290eb5e23b867aeea2cd23cb471\", element=\"2ce76ded-9ee8-48b8-99a8-f1c1ffa19b3d\")>,\n",
       " <selenium.webdriver.remote.webelement.WebElement (session=\"1bafa290eb5e23b867aeea2cd23cb471\", element=\"53662cac-dae4-404b-b8c3-f4b2c9f3f70d\")>,\n",
       " <selenium.webdriver.remote.webelement.WebElement (session=\"1bafa290eb5e23b867aeea2cd23cb471\", element=\"09bfaac2-612b-48a1-972b-c16c970e6d59\")>]"
      ]
     },
     "execution_count": 34,
     "metadata": {},
     "output_type": "execute_result"
    }
   ],
   "source": [
    "rating_tag=driver.find_elements_by_xpath(\"//a[@href='javascript:void(0)']//span\")\n",
    "rating_tag"
   ]
  },
  {
   "cell_type": "code",
   "execution_count": 35,
   "metadata": {},
   "outputs": [
    {
     "data": {
      "text/plain": [
       "['Sponsored',\n",
       " 'Sponsored',\n",
       " '',\n",
       " '',\n",
       " '',\n",
       " 'Sponsored',\n",
       " 'Sponsored',\n",
       " '',\n",
       " '',\n",
       " '',\n",
       " '',\n",
       " '',\n",
       " '',\n",
       " '',\n",
       " '',\n",
       " '',\n",
       " '',\n",
       " '',\n",
       " '',\n",
       " 'Sponsored',\n",
       " 'Sponsored',\n",
       " '',\n",
       " '',\n",
       " '',\n",
       " '',\n",
       " 'Sponsored',\n",
       " 'Sponsored',\n",
       " '',\n",
       " '',\n",
       " '',\n",
       " '',\n",
       " '',\n",
       " '',\n",
       " '',\n",
       " '',\n",
       " '',\n",
       " '',\n",
       " '',\n",
       " 'Sponsored',\n",
       " 'Sponsored',\n",
       " '',\n",
       " '',\n",
       " '',\n",
       " '',\n",
       " 'Sponsored',\n",
       " 'Sponsored',\n",
       " '',\n",
       " '',\n",
       " '',\n",
       " '']"
      ]
     },
     "execution_count": 35,
     "metadata": {},
     "output_type": "execute_result"
    }
   ],
   "source": [
    "rating=[]\n",
    "for i in rating_tag:\n",
    "    rating.append(i.text)\n",
    "rating"
   ]
  },
  {
   "cell_type": "code",
   "execution_count": 39,
   "metadata": {},
   "outputs": [],
   "source": [
    "driver.close()"
   ]
  },
  {
   "cell_type": "code",
   "execution_count": null,
   "metadata": {},
   "outputs": [],
   "source": []
  }
 ],
 "metadata": {
  "kernelspec": {
   "display_name": "Python 3",
   "language": "python",
   "name": "python3"
  },
  "language_info": {
   "codemirror_mode": {
    "name": "ipython",
    "version": 3
   },
   "file_extension": ".py",
   "mimetype": "text/x-python",
   "name": "python",
   "nbconvert_exporter": "python",
   "pygments_lexer": "ipython3",
   "version": "3.8.5"
  }
 },
 "nbformat": 4,
 "nbformat_minor": 4
}
